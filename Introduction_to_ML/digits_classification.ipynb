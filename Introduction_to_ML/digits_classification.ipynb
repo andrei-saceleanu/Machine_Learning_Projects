{
 "cells": [
  {
   "cell_type": "markdown",
   "metadata": {
    "slideshow": {
     "slide_type": "slide"
    }
   },
   "source": [
    "# MNIST digits classification with TensorFlow"
   ]
  },
  {
   "cell_type": "markdown",
   "metadata": {},
   "source": [
    "<img src=\"images/mnist_sample.png\" style=\"width:30%\">"
   ]
  },
  {
   "cell_type": "code",
   "execution_count": 1,
   "metadata": {},
   "outputs": [
    {
     "name": "stdout",
     "output_type": "stream",
     "text": [
      "We're using TF 1.2.1\n"
     ]
    }
   ],
   "source": [
    "import numpy as np\n",
    "from sklearn.metrics import accuracy_score\n",
    "from matplotlib import pyplot as plt\n",
    "%matplotlib inline\n",
    "import tensorflow as tf\n",
    "print(\"We're using TF\", tf.__version__)"
   ]
  },
  {
   "cell_type": "code",
   "execution_count": 2,
   "metadata": {},
   "outputs": [
    {
     "name": "stderr",
     "output_type": "stream",
     "text": [
      "Using TensorFlow backend.\n"
     ]
    }
   ],
   "source": [
    "import sys\n",
    "sys.path.append(\"../..\")\n",
    "import grading\n",
    "\n",
    "import matplotlib_utils\n",
    "from importlib import reload\n",
    "reload(matplotlib_utils)\n",
    "\n",
    "import grading_utils\n",
    "reload(grading_utils)\n",
    "\n",
    "import keras_utils\n",
    "from keras_utils import reset_tf_session"
   ]
  },
  {
   "cell_type": "markdown",
   "metadata": {},
   "source": [
    "# Fill in your Coursera token and email\n",
    "To successfully submit your answers to our grader, please fill in your Coursera submission token and email"
   ]
  },
  {
   "cell_type": "code",
   "execution_count": 4,
   "metadata": {
    "collapsed": true
   },
   "outputs": [],
   "source": [
    "grader = grading.Grader(assignment_key=\"XtD7ho3TEeiHQBLWejjYAA\", \n",
    "                        all_parts=[\"9XaAS\", \"vmogZ\", \"RMv95\", \"i8bgs\", \"rE763\"])"
   ]
  },
  {
   "cell_type": "code",
   "execution_count": 128,
   "metadata": {
    "collapsed": true
   },
   "outputs": [],
   "source": [
    "# token expires every 30 min\n",
    "COURSERA_TOKEN = \"viEXCwU7gTagAP7v\"\n",
    "COURSERA_EMAIL = \"andrei.saceleanu@stud.acs.upb.ro\""
   ]
  },
  {
   "cell_type": "markdown",
   "metadata": {},
   "source": [
    "# Look at the data\n",
    "\n",
    "In this task we have 50000 28x28 images of digits from 0 to 9.\n",
    "We will train a classifier on this data."
   ]
  },
  {
   "cell_type": "code",
   "execution_count": 6,
   "metadata": {
    "collapsed": true
   },
   "outputs": [],
   "source": [
    "import preprocessed_mnist\n",
    "X_train, y_train, X_val, y_val, X_test, y_test = preprocessed_mnist.load_dataset_from_file()"
   ]
  },
  {
   "cell_type": "code",
   "execution_count": 7,
   "metadata": {},
   "outputs": [
    {
     "name": "stdout",
     "output_type": "stream",
     "text": [
      "X_train [shape (50000, 28, 28)] sample patch:\n",
      " [[ 0.          0.29803922  0.96470588  0.98823529  0.43921569]\n",
      " [ 0.          0.33333333  0.98823529  0.90196078  0.09803922]\n",
      " [ 0.          0.33333333  0.98823529  0.8745098   0.        ]\n",
      " [ 0.          0.33333333  0.98823529  0.56862745  0.        ]\n",
      " [ 0.          0.3372549   0.99215686  0.88235294  0.        ]]\n",
      "A closeup of a sample patch:\n"
     ]
    },
    {
     "data": {
      "image/png": "[encoded data removed]",
      "text/plain": [
       "<matplotlib.figure.Figure at 0x7f59390096d8>"
      ]
     },
     "metadata": {},
     "output_type": "display_data"
    },
    {
     "name": "stdout",
     "output_type": "stream",
     "text": [
      "And the whole sample:\n"
     ]
    },
    {
     "data": {
      "image/png": "[encoded data removed]",
      "text/plain": [
       "<matplotlib.figure.Figure at 0x7f59389e7f28>"
      ]
     },
     "metadata": {},
     "output_type": "display_data"
    },
    {
     "name": "stdout",
     "output_type": "stream",
     "text": [
      "y_train [shape (50000,)] 10 samples:\n",
      " [5 0 4 1 9 2 1 3 1 4]\n"
     ]
    }
   ],
   "source": [
    "# X contains rgb values divided by 255\n",
    "print(\"X_train [shape %s] sample patch:\\n\" % (str(X_train.shape)), X_train[1, 15:20, 5:10])\n",
    "print(\"A closeup of a sample patch:\")\n",
    "plt.imshow(X_train[1, 15:20, 5:10], cmap=\"Greys\")\n",
    "plt.show()\n",
    "print(\"And the whole sample:\")\n",
    "plt.imshow(X_train[1], cmap=\"Greys\")\n",
    "plt.show()\n",
    "print(\"y_train [shape %s] 10 samples:\\n\" % (str(y_train.shape)), y_train[:10])"
   ]
  },
  {
   "cell_type": "markdown",
   "metadata": {},
   "source": [
    "# Linear model\n",
    "\n",
    "Your task is to train a linear classifier $\\vec{x} \\rightarrow y$ with SGD using TensorFlow.\n",
    "\n",
    "You will need to calculate a logit (a linear transformation) $z_k$ for each class: \n",
    "$$z_k = \\vec{x} \\cdot \\vec{w_k} + b_k \\quad k = 0..9$$\n",
    "\n",
    "And transform logits $z_k$ to valid probabilities $p_k$ with softmax: \n",
    "$$p_k = \\frac{e^{z_k}}{\\sum_{i=0}^{9}{e^{z_i}}} \\quad k = 0..9$$\n",
    "\n",
    "We will use a cross-entropy loss to train our multi-class classifier:\n",
    "$$\\text{cross-entropy}(y, p) = -\\sum_{k=0}^{9}{\\log(p_k)[y = k]}$$ \n",
    "\n",
    "where \n",
    "$$\n",
    "[x]=\\begin{cases}\n",
    "       1, \\quad \\text{if $x$ is true} \\\\\n",
    "       0, \\quad \\text{otherwise}\n",
    "    \\end{cases}\n",
    "$$\n",
    "\n",
    "Cross-entropy minimization pushes $p_k$ close to 1 when $y = k$, which is what we want.\n",
    "\n",
    "Here's the plan:\n",
    "* Flatten the images (28x28 -> 784) with `X_train.reshape((X_train.shape[0], -1))` to simplify our linear model implementation\n",
    "* Use a matrix placeholder for flattened `X_train`\n",
    "* Convert `y_train` to one-hot encoded vectors that are needed for cross-entropy\n",
    "* Use a shared variable `W` for all weights (a column $\\vec{w_k}$ per class) and `b` for all biases.\n",
    "* Aim for ~0.93 validation accuracy"
   ]
  },
  {
   "cell_type": "code",
   "execution_count": 8,
   "metadata": {},
   "outputs": [
    {
     "name": "stdout",
     "output_type": "stream",
     "text": [
      "(50000, 784)\n",
      "(10000, 784)\n"
     ]
    }
   ],
   "source": [
    "X_train_flat = X_train.reshape((X_train.shape[0], -1))\n",
    "print(X_train_flat.shape)\n",
    "\n",
    "X_val_flat = X_val.reshape((X_val.shape[0], -1))\n",
    "print(X_val_flat.shape)"
   ]
  },
  {
   "cell_type": "code",
   "execution_count": 9,
   "metadata": {},
   "outputs": [
    {
     "name": "stdout",
     "output_type": "stream",
     "text": [
      "(50000, 10)\n",
      "[[ 0.  0.  0.  0.  0.  1.  0.  0.  0.  0.]\n",
      " [ 1.  0.  0.  0.  0.  0.  0.  0.  0.  0.]\n",
      " [ 0.  0.  0.  0.  1.  0.  0.  0.  0.  0.]] [5 0 4]\n"
     ]
    }
   ],
   "source": [
    "import keras\n",
    "\n",
    "y_train_oh = keras.utils.to_categorical(y_train, 10)\n",
    "y_val_oh = keras.utils.to_categorical(y_val, 10)\n",
    "\n",
    "print(y_train_oh.shape)\n",
    "print(y_train_oh[:3], y_train[:3])"
   ]
  },
  {
   "cell_type": "code",
   "execution_count": 138,
   "metadata": {
    "collapsed": true
   },
   "outputs": [],
   "source": [
    "# run this again if you remake your graph\n",
    "s = reset_tf_session()"
   ]
  },
  {
   "cell_type": "code",
   "execution_count": 139,
   "metadata": {
    "collapsed": true
   },
   "outputs": [],
   "source": [
    "# Model parameters: W and b\n",
    "W = tf.get_variable(\"W\",shape=(784,10),dtype=tf.float32)### YOUR CODE HERE ### tf.get_variable(...) with shape[0] = 784\n",
    "b = tf.get_variable(\"b\",shape=W.shape[1],dtype=tf.float32)### YOUR CODE HERE ### tf.get_variable(...)"
   ]
  },
  {
   "cell_type": "code",
   "execution_count": 140,
   "metadata": {
    "collapsed": true
   },
   "outputs": [],
   "source": [
    "# Placeholders for the input data\n",
    "input_X = tf.placeholder(tf.float32,shape=(None,784))### YOUR CODE HERE ### tf.placeholder(...) for flat X with shape[0] = None for any batch size\n",
    "input_y = tf.placeholder(tf.float32,shape=(None,10))### YOUR CODE HERE ### tf.placeholder(...) for one-hot encoded true labels"
   ]
  },
  {
   "cell_type": "code",
   "execution_count": 126,
   "metadata": {
    "collapsed": true
   },
   "outputs": [],
   "source": [
    "# Compute predictions\n",
    "logits = input_X@W+b### YOUR CODE HERE ### logits for input_X, resulting shape should be [input_X.shape[0], 10]\n",
    "probas = tf.nn.softmax(logits)### YOUR CODE HERE ### apply tf.nn.softmax to logits\n",
    "classes = tf.argmax(probas,axis=1)### YOUR CODE HERE ### apply tf.argmax to find a class index with highest probability\n",
    "\n",
    "# Loss should be a scalar number: average loss over all the objects with tf.reduce_mean().\n",
    "# Use tf.nn.softmax_cross_entropy_with_logits on top of one-hot encoded input_y and logits.\n",
    "# It is identical to calculating cross-entropy on top of probas, but is more numerically friendly (read the docs).\n",
    "loss = tf.reduce_mean(tf.nn.softmax_cross_entropy_with_logits(labels=input_y,logits=logits))### YOUR CODE HERE ### cross-entropy loss\n",
    "\n",
    "# Use a default tf.train.AdamOptimizer to get an SGD step\n",
    "step = tf.train.AdamOptimizer(0.01).minimize(loss)### YOUR CODE HERE ### optimizer step that minimizes the loss"
   ]
  },
  {
   "cell_type": "code",
   "execution_count": 142,
   "metadata": {
    "scrolled": false
   },
   "outputs": [
    {
     "data": {
      "text/html": [
       "<img src=\"data:image/jpeg;base64,/9j/4AAQSkZJRgABAQAAAQABAAD/2wBDAAIBAQEBAQIBAQECAgICAgQDAgICAgUEBAMEBgUGBgYFBgYGBwkIBgcJBwYGCAsICQoKCgoKBggLDAsKDAkKCgr/2wBDAQICAgICAgUDAwUKBwYHCgoKCgoKCgoKCgoKCgoKCgoKCgoKCgoKCgoKCgoKCgoKCgoKCgoKCgoKCgoKCgoKCgr/wAARCAEgA2ADASIAAhEBAxEB/8QAHwAAAQUBAQEBAQEAAAAAAAAAAAECAwQFBgcICQoL/8QAtRAAAgEDAwIEAwUFBAQAAAF9AQIDAAQRBRIhMUEGE1FhByJxFDKBkaEII0KxwRVS0fAkM2JyggkKFhcYGRolJicoKSo0NTY3ODk6Q0RFRkdISUpTVFVWV1hZWmNkZWZnaGlqc3R1dnd4eXqDhIWGh4iJipKTlJWWl5iZmqKjpKWmp6ipqrKztLW2t7i5usLDxMXGx8jJytLT1NXW19jZ2uHi4%2BTl5ufo6erx8vP09fb3%2BPn6/8QAHwEAAwEBAQEBAQEBAQAAAAAAAAECAwQFBgcICQoL/8QAtREAAgECBAQDBAcFBAQAAQJ3AAECAxEEBSExBhJBUQdhcRMiMoEIFEKRobHBCSMzUvAVYnLRChYkNOEl8RcYGRomJygpKjU2Nzg5OkNERUZHSElKU1RVVldYWVpjZGVmZ2hpanN0dXZ3eHl6goOEhYaHiImKkpOUlZaXmJmaoqOkpaanqKmqsrO0tba3uLm6wsPExcbHyMnK0tPU1dbX2Nna4uPk5ebn6Onq8vP09fb3%2BPn6/9oADAMBAAIRAxEAPwD9/KKKKACiiigAooooAKKKKACiiigAooooAKKKKACiiigAooooAKKKKACiiigAooooAKKKKACiiigAooooAKKKKACiiigAooooAKKKKACiiigAooooAKKKKACiiigAooooAKKKKACiiigAooooAKKKKACiiigAooooAKKKKACiiigAooooAKKKKACiiigAooooAKKKKACiiigAooooAKKKKACiiigAooooAKKKKACiiigAooooAKKKKACiiigAooooAKKKKACiiigAooooAKKKKACiiigAooooAKKKKACiiigAooooAKKKKACiiigAooooAKKKKACiiigAooooAKKKKACiiigAooooAKKKKACvPfjt%2B1J8FP2b5NGsfil4g1Maj4ilnTQNB8OeF9R1zVNR8lVed4bHTbee5kjiVkMkixlI96biu5c%2BhV4N%2B0P8D/j5/wANJ%2BDv2tv2bLLwfrWueH/B2seFNX8KeOdcutLtLywv7mwuxcQXtraXj288U2noCpt3WVJSCUKK1ABpf/BTL9izWLvxPb2nxXv0h8FWsk/jLUrvwXrEFjoIS0iu9l5dy2iwWsrQzRskMjrJIWKorMrKL2n/APBQ/wDZK1HwBrXxFTx/q9vB4f1ay0vVdE1DwNrNrrkV5ebfscC6PNaLqEr3AYGER27eaAxTcFYjy2b9gH4y%2BMf2a/jn8NfGHinwppHin4o/FS38daHc6U1xeWFpeW0OiywQ3IkihkkiN3pRRwoyYHGDuJVaPi79i/8AaV%2BLmr/Ef45fG34S/CjWvFnjWx8KaPp/gKy%2BI2s2Wm6fY6Hcaldw3qa7b6al5DqDXOqTOksVoPJSKNFZiWcgHsviH9vv9mzwv4a8OeI9XvvG3meK0v5NE8P2vwm8SXGuSRWUscV3NJpMWntf28MLzQq8s0CIpmiy37xM%2Bmaz8RPBHhv4e3XxX8T%2BJbbSvDljo76rf6vqrfZYbSySIzPPMZdvlKsYLNvxtAOcYNfGHin9hH9s/WPgX4X8Nay3hfxV470a58RHRfGV/wDHbxNpGr%2BCLW%2BuUktLO11q1sJLzXIYkjhEy3qw/aTbReYCFGPUfjR/wTotfj1%2Bzb4n%2BHHxD%2BOfjW78d%2BMPhfH4Z17xS3jbWho818tpDE2oJoS3y2FuzzQLK3kRRSEPIBIrSM5AOkg/4KUfsZf8K58V/FbWPite6Jo3giysr7xQ/ifwdq%2Bk3NlZXkxhtb37LeWsVxJaSyK6pcxxtC3luQ%2BEYjj/AI3f8FZP2d/hn8ENU%2BMfgPRfFXiqbQfiD4X8L674Y/4QXXbHU7A6zqVrax3T2cmnNdeV5Fw88DeT5d48aW8MhknjB8r1T/gmJ8ZPHfwq8faR4i8DeG9G8Y%2BI9D0fR7DxDqv7RfjPxut3aWusW%2BoTRyf27AfsEZ8likUSzHe%2BGkxknv8A9qH9gz40/GD4g/F/4g%2BBfEPheOTxfB8LbzwlZ6tfXMSvf%2BE/EdzrUsN40dvJ5ENwGt4VljEzrl2MfyKrgHqFh/wUE/Zb1H4m2XwZh8T%2BJo/Fd5oun6xLoF38N9egudO0%2B9adILu/SSyU6dDut5VeS68pYiFEhQum6j4a/wCCmH7FPi3wZ4s%2BIWkfGC4TR/Bfgi68Zaxe6h4S1W0Fx4et0Z5tWsVntUbVLNVQ4nsxPGxZArEugbB0P9kP4ofEP4mfG74g/G9fD2gxfGj4O%2BHfCF1Y%2BE9duNRl0u4tE11Ltlnns7XzYwNViMT7FZikm6OPA3fN37Y37Kn7UOj/ALDHxS%2BJv7TF34AtIfhD%2BxT8QfBHhePwFqF5cNrzXukWxn1G6W5toBYqE0i3CWcbXAVppCZ22oKAPrPw9/wUl/Yy8TaHrHiPT/i1dQWehppU1/JqnhLVbJmtNSu1s7HUIUuLVGubCWdgovoQ9qoDO0qorMPT9E%2BLvw88R/FLX/gvofiH7T4k8LaXp%2Boa/YR2k22zgvmuBa7pinlF3%2ByzHy1cyKoRmVVkjLfJOofsz%2BIPFegeKfjb/wAFIvF/wz8J%2BBbf9nu5%2BHUlx4f8QTLay6beyQyXmq3k17BbpYOTBbCG2QzCAmT/AEiQsuOw/wCCPngP4u2f7I9r8f8A9pDUDf8AxJ%2BL15H4n8V6g9nJbtJCLSCy01fKl%2BeH/iX2lpI0TYKSzTZAYtkA%2BqqKKKACiiigAooooAKKKKACiiigAooooAKKKKACiiigAooooAKKKKACiiigAooooAKKKKACiiigAooooAKKKKACiiigAooooAK8R0j/AIKMfse6ld69Z6n8Urzw83hzw5c%2BINQk8a%2BEdV0GObSbd0jnv7WTUrWBb63R5IlaW2MqAyxjOXXPtN7FczWcsNndCCZ4mWKYx7/LYjhtp64POO9fmJq//BHL9uX4v6t4X1z43fHHQ31vw14P1Cz1DxRqHxW8TeJx4h1v7ZpV9a6idLvoobLSbaS50xfPsLIBRHJtWWQKgUA%2B2X/b/wD2YbX4aN8WNY8QeKtK0ttcg0axs9c%2BGWv2GqanfzIZIYLLTbixS9v2kQM6/Z4ZAyo7AkIxHReA/wBqz4H/ABH1%2By8J%2BHPEOqQ6vf8AhSfxJDpGteFdS0y7TTYbv7JLLLDeW8UkDrP8hhkVZe%2BzbzXk3xO%2BDn7bvxib4e/G3XPBvwq0P4h/Cjx1NrHh/wAM2vjjUr/Rdcs7jSbvTLmO4vn0qGaxmKXskkbpa3AjMQU%2BYJGxV%2BJPwG/bg1/4y%2BHf2mvA%2BjfCu08WX3ww1XwX4x0LUvFepSWGkLcX8N1a39lcJpwk1AxCN1kt5YrQSlxiWLHIB3Gk/wDBRv8AZA8R694F8LeFfiNqus6n8SfBuleLfBunaJ4H1m9nvND1F9lrqMiQWjNa2%2B7HmSTiNbcMpm8oMCdj4a/tufs3fFf4jXPwn8M%2BL9Ws9ft9LudThsvE/gzVtEW/sbeRI57uyl1G1gjv4I3liDy2zSIvmISQGUnyj9hT9hL4sfsw6/8ADjWfHniDw1dnwd%2Byl4R%2BGN%2B%2BkXM8rNq2lvM1zNF5kEe61bemxmKu235o0wK8a%2BGn/BKv9sbxP8UfC/ib9qb4w2eqRaf4A8V%2BF/GniaD4v%2BJNavPEUur2KW39p2umX0Men6EcqWNpaKUXKgTOI1WgD6l8J/8ABRf9kfxrosfirQfHeuf2Hcarpen6f4lvfh/rdrpWoy6lex2VlJaX09mlteQS3M0UYuIJHhBlQs4VgT6X4W%2BLvw88a/EDxT8LvC/iH7XrnguSzj8T2iWkwWxkuoPtEEZlZBG7tCVkKIzMiyRlgokTd8w%2BOPAnxF8K/wDBPbxp8CP%2BChnif4VeCPAWg/DSLQLb4meHfFt2GadI0trXUntLqzgTTZlmFvJDBHcXTGcoiOTtDdr/AMEr/h98WPDf7ImlfFX9oqwS3%2BJ3xYvpfHXxEhW3aL7Pf36xmG02N8yfZbGOys9pyQLXBoA%2BjaKKKACiiigAooooAKKKKACiiigAooooAKKKKACiiigAooooAKKKKACiiigAooooAKKKKACiiigAooooAKKKKACiiigAooooAKK5r4xSfE2H4ZaxP8HNa0HTvEsVrv0y98TaVNfWMRVgXMsEE9vJKPLD4VZY/mK5bGa4r4CfFH4wftDfsR/D/wCNfh%2B58NaP418cfDjRNcaW80q4uNLs7y8soLiU/ZluEmkiUyPtj89WICgydWoA9arxf49eP/2i/wDhovwL8CPgL4z8FeH01/wV4l17V9T8X%2BC7vWiTp13odvDDDHb6lY%2BWG/tSVmZmfPloAF5Jn/Y0%2BN3xF%2BNvhTxfJ8Rbrw/qkvhXx9feHdP8W%2BE9Nns9M8RxW0UBlureCee4eIRXMlzZOvnygzWEpVsEKOH8RfH74R%2BJf%2BCrHw4%2BE/hH4l%2BHtY1zS/g94%2Bt9f0nStaguLvSbj%2B0/CMkcVzFG5e3LpHOQJApPlNjoaTkoq7Lp051ZcsFd2b%2BSV3%2BCOz/4Qf8A4KF/9HQfBn/ww%2Brf/NRR/wAIP/wUL/6Og%2BDP/hh9W/8Amor2aimQeM/8IP8A8FC/%2BjoPgz/4YfVv/moo/wCEH/4KF/8AR0HwZ/8ADD6t/wDNRXs1FAHjP/CD/wDBQv8A6Og%2BDP8A4YfVv/moo/4Qf/goX/0dB8Gf/DD6t/8ANRXs1FAHjP8Awg//AAUL/wCjoPgz/wCGH1b/AOaij/hB/wDgoX/0dB8Gf/DD6t/81FezUUAeM/8ACD/8FC/%2BjoPgz/4YfVv/AJqKP%2BEH/wCChf8A0dB8Gf8Aww%2Brf/NRXs1FAHjP/CD/APBQv/o6D4M/%2BGH1b/5qKP8AhB/%2BChf/AEdB8Gf/AAw%2Brf8AzUV7NRQB4z/wg/8AwUL/AOjoPgz/AOGH1b/5qKP%2BEH/4KF/9HQfBn/ww%2Brf/ADUV7NRQB4z/AMIP/wAFC/8Ao6D4M/8Ahh9W/wDmoo/4Qf8A4KF/9HQfBn/ww%2Brf/NRVrX/jf%2ByJ8KbTSNJ%2BOnxh%2BHPhzXNQ0WDUDbeLvENhaXdxHJkeftuHV2RnSQBumUYZ4IGb/wANf/8ABOD/AKOi%2BCP/AIW2j/8Ax2uaeMwdOTjOrFNdHKKf3OSZ7WH4b4kxdCNahga84SV1KNGtKLXdSjRlFrR6ptablj/hB/8AgoX/ANHQfBn/AMMPq3/zUUf8IP8A8FC/%2BjoPgz/4YfVv/moqv/w1/wD8E4P%2Bjovgj/4W2j//AB2vTtA0X4WeK9CsvFPhbSfD%2BpaZqVpHdadqOnwQTQXUEih45Y5EBV0ZSGVlJBBBBwaulicPXbVOcZW7ST/Js58dk2c5XCM8bhatJSdk6lOpTTe9k504Ju2tk27a2tqec/8ACD/8FC/%2BjoPgz/4YfVv/AJqKP%2BEH/wCChf8A0dB8Gf8Aww%2Brf/NRXnnw%2B/4KNfsX%2BL/A9n4w8Q/D3xPoM%2BqeONa8LaJo1z8HtbnvNWvdOuL%2BORbSKHT2e6Jh0%2BedliVzCAY5Nkiso7L4hftUfsteBbLx7aXmiRafrHgLwhrXiG8tvFngTVtJs7uz0xf9Lnt7qTTnF7bxM0QklskuiomjYI%2B9FfY800f%2BEH/4KF/9HQfBn/ww%2Brf/ADUUf8IP/wAFC/8Ao6D4M/8Ahh9W/wDmoqrYftWfsYah8Z5P2foby3/4Si38QR6DdR/8INfiwh1V9Oj1KOxbUGtBaLO9pKkyRmUM4OFBYFRs/Gv4q/BX4Sfs867%2B0Po/hHRvFGnaXYNJptvoa20g1W6aUQQWsUwBQNJcMkO4narMS3Q0AUP%2BEH/4KF/9HQfBn/ww%2Brf/ADUUf8IP/wAFC/8Ao6D4M/8Ahh9W/wDmop37OfxEs/ivc%2BM/BfxW%2BBvhrwn4u8A6/FpviHTNJ1JdVsHSaxt76C5t7uS0tXkjaK5CnfBGyywyrhlVXfzb4E/tZeIfj5Bp8GgfskeD9MvfHXw5Tx38IY9W8XMsOu6Ibi3jc6g8elu%2Bl3Kx3tjKYY47tf8ASlXzMo%2BAD0f/AIQf/goX/wBHQfBn/wAMPq3/AM1FH/CD/wDBQv8A6Og%2BDP8A4YfVv/morzfwP%2B0v8WPG37PfjH46f8MnfCLTI/BHjPX9J1WXU/ifdLpU2naPuivNRhvE8PtK2y7gvIDE1uoxalxIdwWsLUP289U0b4f6V4/1/wDYo0SxTRvhJoHxD%2BMthc%2BJ0Wfwhpeqy3KpDbD%2Bz8ancwpY38ksbG1CrbjazNIq0Aey/wDCD/8ABQv/AKOg%2BDP/AIYfVv8A5qKP%2BEH/AOChf/R0HwZ/8MPq3/zUV5b4W/bn8I%2BMf2yb79kXRPgF4LfULfXdV0lLRvFcf9v2ZsrE3S6nqGkixJstJuGCQw3omlLvdWuIv3pCZ/iT9trxj8MdN%2BMF38Yf2QPh3Yj4TP4YtbzU9A%2BIMt7pf2zV50WRb25uNFtm0%2B3sbWezvrq48uYR2tz5gVthFAHsX/CD/wDBQv8A6Og%2BDP8A4YfVv/moo/4Qf/goX/0dB8Gf/DD6t/8ANRXz14p/4Kk/Dzw18D/Dfxeuvgj8K7K38Qa54i0%2BLxNrvxMis/B93/ZJxusNc/sx/tr3XzC2j%2BzReaba6wR5IL9/pX7bHgHxf8c/CXwO8LfB/wAA6PqWsaJoeo%2BINL%2BI/jO30LWLR9Ri%2B0HT7DTxaXD6le29viSaLdAimWFRKxZ/LAPRv%2BEH/wCChf8A0dB8Gf8Aww%2Brf/NRR/wg/wDwUL/6Og%2BDP/hh9W/%2BaiuM%2BCP7VfhH9or4t%2BMfAPwp%2BG/wpurLwxPq9la2t18QoV8RXN3YXb2TSz6RHYSGzsJLqKVEumnd2QRyCEiRRXNeE/21NQ8e/Bj4t%2BOvh5%2BzZ8LvFOu/Ch0%2B1Dwn8SxfeG9SAtjcXEMesLpKst1borCW3%2BysUZ4QW/eHaAesf8IP/wAFC/8Ao6D4M/8Ahh9W/wDmoo/4Qf8A4KF/9HQfBn/ww%2Brf/NRXCftQftl/D39nT9lTQP2gdO/Z70/xJr/iTw9FrOneCoLmK3K2a20d1e3Etz5D%2BXDbwvgyGLDzSW8OFadMZ3jb9uTwH4Q/bZg/Y9T4FeEZriTxJpukLBceJYofEV8l3YC8Oq2Oj/Y2%2B16VAC0c939pTy3trobCYRvAPTP%2BEH/4KF/9HQfBn/ww%2Brf/ADUUf8IP/wAFC/8Ao6D4M/8Ahh9W/wDmor598Ff8FSPAPi3T/iJqsH7L3hy%2BHgTwRq/iO50jwz4ni1HVNJaxvVtBp2v2v2GM6JeS7nmWLdc/urW7bJ8kB/bP2Jvj/wCBP2wPBXiPxZbfDjwKIfDvil9Gi1zwL4ji8Q6BrWLS2uTcafqP2W2%2B0ohuTbyful2T280eW2ZoA1v%2BEH/4KF/9HQfBn/ww%2Brf/ADUVQ8D%2BOP2rPB37Vnhz4I/G74j/AA98TaN4m%2BHviHXIZvCvw8vtFurS602%2B0S3RWe41e%2BSWN01SUlQiMGiQhsZB9Q8WeE/C2m%2BFtS1LTfDljbXNtYyy29xb2iI8bqhZWVlAIIIFefeOP%2BUhfwv/AOyM%2BPP/AE7eEKAPZqKKKACiivP/ANpf443PwB%2BGsXizRfCK%2BINa1XxDpeg%2BG9Dk1H7HHe6jqF7FaQLLP5chghVpfMlkEcjLFG5VJGCowB6BRXz7c/t0XWhfsveKfjd4t%2BFMdp4n8HeMT4R1vwlb%2BIhJaR6w%2BpQWEGNQeBMWUhurW4Ny0CtHBKWeIMjR1w3xC/4Kkn4ZeDL0%2BNfA3gPQ/E2gfFWTwJ4xuvEfxUNj4R0K9XRY9Zjln1xtOLKkttPbRIHtEY3UxgIUpuIB9d184/CbxV%2B3f8ddH17x34X%2BN/wk0DS7f4heKtD0vSr/AOD%2BqX9xFa6Xr1/pkLS3CeIoFlkeOzV2ZYo13OQFAAr139nn4tSfHr4EeD/jZL4OvvDzeLPDdnqx0TUjmey8%2BFZPKY4GcbuDhSRglVzgea/shDzP2ddbt2J2TfHTx5FKAcbkfx9qysv0Kkg%2BxoA1f%2BEH/wCChf8A0dB8Gf8Aww%2Brf/NRR/wg/wDwUL/6Og%2BDP/hh9W/%2Bain6/wDtQf8ABP3wprt74W8U/tEfBzTdT027ktdR07UPF2lQz2s8bFJIpI3lDI6sCrKwBBBBGRVT/hr/AP4Jwf8AR0XwR/8AC20f/wCO1yvHYFOzqw/8Dj/8ke9DhXimpBThl%2BIaaTTVCu009U01QaaaaaabTTTTaaZY/wCEH/4KF/8AR0HwZ/8ADD6t/wDNRR/wg/8AwUL/AOjoPgz/AOGH1b/5qKfoH7UH/BP3xXrtl4W8LftEfBzUtT1K7jtdO07T/FulTT3U8jBI4o40lLO7MQqqoJJIAGTV79qv4l/Cr9lD9m/xr%2B0l4p%2BFy6tp/grw9cardabpGiCa4uViXOxFjjYjJxlyNqLl3KqrMNaVehXTdOalbs0/ybPPx2V5nlc4wxuHqUnJXSqQnTbW10pwg2r6XSavpe%2Bhnf8ACD/8FC/%2BjoPgz/4YfVv/AJqKP%2BEH/wCChf8A0dB8Gf8Aww%2Brf/NRVDSf2s/2P9c8by/DXS/DWvy%2BIbbw4uvahov/AAprXVutPsHju3iluo208NatL9huVijmCSTPGI41d3RWdpn7Tn7MHiaTw7/wiumWCHWfHU3hW9sPEvhLUdH1Gxvo9GutXMLWVzYCZJTa26zKtwtvG8MnmLKzGKObU4S7/wAIP/wUL/6Og%2BDP/hh9W/8Amoo/4Qf/AIKF/wDR0HwZ/wDDD6t/81FUPgp%2B1/8AsL/tBaNN4j%2BG3ibS/wCzovD%2Bn66l/wCIvCN3osFzpd8zLa3sEmo20C3NvI6lBLEXUPhCQxAq7%2B0b8RG%2BFev%2BD/hp8IPgB4a8XeM/G17eJpWl61qq6RYwWtnatcXNzPdJZ3ToB%2B5iVVhctJcR52IHdQB3/CD/APBQv/o6D4M/%2BGH1b/5qKP8AhB/%2BChf/AEdB8Gf/AAw%2Brf8AzUVz2v8A7Unwtg/Yt8Nftf8AhP4KWV4PF48O2%2BjeHdUMFn5F/rF/aafBBd3IjkW3jiubxFmlVZNqxyFFkO1W8x%2BIv/BR/wAAfDbwJHf%2BKPg18LtE1/T/AIi6r4N8YXfiz4ix6b4U0PUbGyF6Y21s6a5d5oZIPJja1jZnaRGCNEQQD2//AIQf/goX/wBHQfBn/wAMPq3/AM1FH/CD/wDBQv8A6Og%2BDP8A4YfVv/moryWX9vPSLiy0fxnpv7H1tb%2BF7Xwx4P1j4k3Ov6hHZan4XPiKQJDbJZC0kF3LaKyy3Qaa32RsPL858xjY8S/tg6N4D/aH8W/APxL%2Bz74K1298O%2BDNa8Swab8NvFa65rsNrYpFLbx6lpjWFudNlvI5k%2BzqJpxJJlASPnIB6F/wg/8AwUL/AOjoPgz/AOGH1b/5qKP%2BEH/4KF/9HQfBn/ww%2Brf/ADUVyH7CH7VvgH9tWy8TXNl8MPh/5Hh3%2BziNd%2BH/AIsi8SaNctdwNMbQXn2O12XsAVfPt/LPlCeA723kL9AeDBs0MwKTshvruKIE52olzIqr9AoAHsKAPLv%2BEH/4KF/9HQfBn/ww%2Brf/ADUUf8IP/wAFC/8Ao6D4M/8Ahh9W/wDmor2aigDxn/hB/wDgoX/0dB8Gf/DD6t/81FH/AAg//BQv/o6D4M/%2BGH1b/wCaivZqKAPGf%2BEH/wCChf8A0dB8Gf8Aww%2Brf/NRR/wg/wDwUL/6Og%2BDP/hh9W/%2BaivZqKAPGf8AhB/%2BChf/AEdB8Gf/AAw%2Brf8AzUUf8IP/AMFC/wDo6D4M/wDhh9W/%2BaivZqKAPGf%2BEH/4KF/9HQfBn/ww%2Brf/ADUUf8IP/wAFC/8Ao6D4M/8Ahh9W/wDmor2aigDxn/hB/wDgoX/0dB8Gf/DD6t/81FH/AAg//BQv/o6D4M/%2BGH1b/wCaivZqKAPGf%2BEH/wCChf8A0dB8Gf8Aww%2Brf/NRR/wg/wDwUL/6Og%2BDP/hh9W/%2BaivZqKAPGf8AhB/%2BChf/AEdB8Gf/AAw%2Brf8AzUUf8IP/AMFC/wDo6D4M/wDhh9W/%2BaivZqKAPGf%2BEH/4KF/9HQfBn/ww%2Brf/ADUUf8IP/wAFC/8Ao6D4M/8Ahh9W/wDmor2aigDxn/hB/wDgoX/0dB8Gf/DD6t/81FH/AAg//BQv/o6D4M/%2BGH1b/wCaivZqKAPGf%2BEH/wCChf8A0dB8Gf8Aww%2Brf/NRR/wg/wDwUL/6Og%2BDP/hh9W/%2Baiuw%2BKX7Sv7PPwQiaT4w/HHwn4ZKrnytc8QW9tI3sqO4Zj7AE14Vrn/BZz9g%2BLUX0H4ceNvEXj/VI%2BumeBPBt/fSH0wxiSNs%2BzmuHEZnl2Fly1q0Yvs5K/3Xb/A%2BoyjgjjLP6Xtcuy6vVh/NGlPk9XNqNNLzc7eZ6L/wg/8AwUL/AOjoPgz/AOGH1b/5qKt/srfEb40%2BMNY%2BKHgT46a/4X1bVPAPxCi0Oz1Xwn4audJt7q1l0HR9TVnt7i9vGWRZNRlQsJdpWNDtU5z5J/w8J/a2%2BIfy/s%2B/8Er/AImXqSf6q6%2BIuq2fhlVH98pOZCR3wDk10X/BOrW/jJ4i1r48618f/BOl%2BHPFtx8ZoDquiaNqP2u2tQPCPhsQqs38ZMIiZj03MwHAow2YYbGVHGlzPS9%2BWSj8nKMU36BnfB%2BdcO4WNbHulFt8vIq9CpVWjd3TpVasopWs3JpXaWtz6UoooruPlwooooAKKKKACiiigAooooAKKKKACiiigAooooAKKKKACiiigDC%2BJng7VPiD4D1PwXo3xB1nwrcajb%2BSniDw/DZyXlmCQWaJb23uLckgFT5kLjDHABwR5L4S/Yan8Gfslp%2Bx5pP7W/xXXQbXwQnhXStfhn0S21jTbGNEiieC4ttLjVZkgQQrKUJ2kucy4lHu9FAHCfs5fA2P9nL4W2Pwj0/4j614k0zSVSDRW1rTdJtDp1mkUcUVnDHpVlZwLCgTK5jL5dsuQFVfm79tDxe/g/8A4K/fsatJJst9V8P/ABJ0y4OeplttEaMfjJGlfZlfnf8A8FiNYuvCH7fn7GnxBhO2HRPFeryajJn7lrNqfhu3lP5SgfjXn5rVdHASqfyuL%2B6cL/g2fYcA4GOZ8V0MG/8Al7GtBerw2J5fnzRjbzsfohRRRXoHx4UUUUAFFFFABRRRQAUUUUAFFFFABRRRQB5nqX7Mn7Nvxo0fQfFPxi/Z78D%2BLNTt/D9rawaj4l8J2d/PHAql1iWSeNmCBndgoOAXY4yTVL/hgf8AYV/6Ms%2BEv/hudM/%2BMVyfxe/4KQfsX/sfS%2BHPhp%2B0X8Zf%2BEd1u%2B8KWep2tl/wjuo3e%2B1ffEsm%2B1t5EGXhlG0sG%2BXOMEE8h/w/N/4JZf8AR0X/AJZOuf8AyFXi4jF8O068o150lNPXm9ne/ndXv6mi8Q8RlS%2BqRzidJU9ORYmpBR62UVXio77KK321PW/%2BGB/2Ff8Aoyz4S/8AhudM/wDjFenaBoGheFNCsvC3hbRbTTdM020jtdO07T7ZYYLWCNQkcUcaAKiKoCqqgAAAAYFfK3/D83/gll/0dF/5ZOuf/IVfT3gHx14V%2BKHgTRfiX4F1T7doniLSLbU9HvfIeL7Ra3ESyxSbJFV03I6nayhhnBAPFdGBxGT1pyWDlTbS15OW9vPlS0v3FLi6rxJ%2B6nmMsTya2dedXlvpe0qtS19rpK%2B1%2Bh4T8MP2F/FfgDx54U1rU/jPpuoaD4H%2BKHirxf4a0uHwhJBdhdd/tZ57S4uTeukpil1VikqQxfu4QjIWYyDyPWv%2BCMMuveKfHviS8%2BO3h2K48ZeAvH/hf%2B2rX4Xomt3MfiaRXFxquom%2BL6o9ltEcKBbdPLG3amAw92sP2/PhHq%2BnWM2k%2BFPEc19daL4t1K70mX7Bby6Wnhy9Ww1GO7knu0ggYXbpAjNL5bEli6xq7rwng3/gp94H%2BO03w41H4CQWctjrvxn1HwN43gv76x1KXTzb%2BDdX8Qoba50q%2BuLOV2NpYHek8yBJpo2CSqfK9Ig66T9hgP4h1XXx8UMHU/jrpPxHMQ0T/V/YtI0/TfsGfP8Am3/YPM87A2%2Bbt8ttu5u8%2BNfwO1D9oD9nnXfgl4/8YxW9/rVg0aeIND0swCyuklE1rdRQSyy5aGVIX2s7K7RnOA2B88eLf%2BCq0r/BDwp41%2BEXwp1/xHe6pB8PZPEfimXw/Bb6NoreJLvTlSC5gGpNcx3DWt75qpAbqKBpoPNmZSS30h8Yfjx4f%2BEnwC8efH260bUrmx8BeH9Y1S%2BsrjT5rSW4GnQyyyrGJ0UsreSwSVQ0bghkZlIJAOc%2BBH7PfxM%2BF2qeI/G/jr4r6D4j8T%2BOvFkWq%2BNr%2B08HS2NnLaQ6ZFYW9lY2zX0zWgX7PBK0kstzuZrgbVEqeTx/7Nn7C/jb9n%2B6064vPjxZ64PA3wybwF8JAfCLW50HRzJC6m%2BJvJP7SucWenI0i/ZlZbP/AFatIzVsfstfGz4/eIfip4m%2BA37So8I3PiLRvBXh3xXa6l4L0q5srQWuqyalAbJo7m5uHeW3n0ubM4dFlSaMiKMhlrl/FX7Yfxg%2BBfi39pi8%2BNNr4Y1rw78G/hbZ%2BPvDNv4Z0m5srySxlXXnazu5ZrmZJ5gmkR4ljjhXMzDYQAaAOj1D9hjR5/2EtF/YS074gzRaNBpWlaV4p1m403zZvEFjHcwyaskqeYoSTUY1uo5JMtsN477XxtNX9pv9hvW/j7491/XfD3xht/DuhfEHwZp3hH4p6JP4ZN7LrGjWV3eXEcdnOLmIWEzpqN/BJK8dwGjnXCK0StXJ6x%2B0X%2B2z4U8I/GH4aeJdX%2BF//Cy/hz8O9H8b6frdr4S1E6JLYXw1RTaSWZ1Lz5Jo5tGvUEq3MauskL%2BWmGQ1fj9/wUF8W%2BANO%2BEvhbSvEWgeGNb8e/Da88Z694h1H4e6x4mtNNs7SPThMiadpc8VxsaTUA5uZJlht4rdzISXTIB1nhL9hHxT4f8Aj7pPxG1T43Wd94U8O/E3XfHmhaCPCRj1Yarqtle2k0Nzqhu2WezjTULjy4Vto3VY7VGlZIArWdU/YV1G9%2BBnib4e2vxgVPFniT4tj4hXPiyfw95tvLqMGswX9jbXFl9oBuLWG3s7GwKecjvDbKweN8FcGy/a%2B%2BKZ/bHj%2BF3ijx74Y0L4e3qaLF4S1af4U61cW/i64vLFpnjtfEC3q6bbyGTaIoHSSRwcKHLA1R%2BB/wC17%2B0r8X/F3hy3vJvA2maL8XfDfijUvhhLH4bvJ7jw%2B%2BmXkEVsNSBv1XURcW1wJ2EP2PyXiMIaTeJVAJLb/gnf8WtB1aD4n%2BE/2kPDkXju61TxRd%2BIrjVvhk134eu11xdPW4FvpX9pI9tJGumWwSR7qYnzrzzBJ9pYCnb/APBKfSvDNvo/g34e/GCGy8K/2F4E03xhFq/hYXus6t/wiksb6dPBqIuY1tJJBDEkpaCfhd0Xkuxc53g79r39sbWo7nwPL4i%2BGeo6x4l/aCuvhr8O/GNr4D1C103y9N0a71DV725sW1eWScxXGl6rZRxx3UQMlsrMwDFQnxM/a9/bIuP2QrH48/CbxH8M9M8WR%2BMrvwBceFdd8B6hqcGs%2BKoPE83hwNbTQ6vatbWb3ULTYdJnjg3MznYTQB1/gj/gnv4j%2BG/xKg8VeCvjFollovhvXvF/iHwDpKeBD9q0/WPEMlxNdPf3QvQNQtY5rudkt0itmKrAHlcwq9Xr/wDY4%2BPmseEPi7qWrftFeEj4%2B%2BLOg2OiXWtWvwzuYtE02xtoriEMumf2uZprl47u4Bne9/htxsKQCNjxf%2B2L8QR%2B3H4F/Z3%2BHnh/RbrwXd6xf6F448RXkMzXB1lNFudUjtLErIEXyI4ITcM6yA/bY40KvFLtb4A%2BNH7V118YPH37PHi7xx8OtY1rw74Esdcj8UeFvAOpC08P31zNOqadeWR1OWS%2BkaGIToIp7eRkxmJBLEzAHO/Fr/glf4e/aH/ZjsPhP8bvixfN490z4eSeDrTx94Fvtd8PWX2AupjEuk2%2BsNHcjEcJkSaaRZHj3DYu1F2tX/4J869efF6fxBp/xzVfBF98Q/DvjW%2B0DVNAmv8AXBqWjWVja20UOtTXpZbZxp1u8qywSzSGW6HnAXBC%2BYR/8FOfizD8ONP0fURo8PirXPjHf%2BC9G8RP8JvEAL2lpow1Wa8k8KLO2rx3Gd1stk8qyOm293C3ZQT48/8ABTD4v/DnUfCbfDbxB4J8TaRffD7QvEEviGy8BatPYeIp73U5bKeNriG9MfhK3RYldbnVGmjZppIwWa0mBAOgtP8AglL4lvfBQ%2BH/AIw/aXiu7DQPhtqfgvwHdab4JFreQWl7qFhfPNq8r3kq6xL5mmWyuAlqkqy3RdS0%2B5Pc/wBmr9n3xb8G9X8deO/iT8RNM8R%2BKPiF4kg1bXLnw/4afR9OhaDT7WwiSC0kurp1PlWqF5JJ5Gdj1VFRF8f8Gf8ABQTxB4%2B/aR8XeCtG8RaFDo3hvxLrfhvQ/BcngPVn1PxPqmmWUks0MGuGdNOhuWlimddPEU05toPPJUSYj8x8I/8ABWf4n6n8LPFl9b%2BIvhz4v8T6d4F8L%2BJYJPB2gX/2bw8%2Bp6qun3%2BlXlo15LPfX9gHSUWsL291dMy24t4JXj3gH3d45/5EnWP%2BwVcf%2Bi2ry3xx/wApC/hf/wBkZ8ef%2BnbwhWP%2ByZ%2B0L45/aQ/Zx8YeKviCmnNf6Nr%2BtaIl3Y%2BHLzRHu4rdQFmn0m/lku9LmO4g21w5k2qkvCTIBseOP%2BUhfwv/AOyM%2BPP/AE7eEKAPZqKKKACvPv2l/gddfH74axeE9F8Xr4f1rSvEOl694b1yTTvtkdnqOn3sV3A0tv5kZnhZovKljEkbNFI4V42KuvoNFAHhvw//AGVviN4I%2BEfjHwDqnxM8H%2BIdU8dXWpar4ivte%2BHck%2Bn3eq3szGQyWJ1HD2C2whtltDL5myHc9y7MTXAeC/8AgmhrXwl0TRfEHwY%2BKfg/w54103x/e%2BKryS2%2BF%2BzwtNNc6Omj/Z4NFt7%2BFrWOKyht1iZbsuGSVnaTz5AfrGigDzP4NfstfDv4Y/staB%2Byh4ssLPxl4e0nQI9L1CDxDpMMttqSj5n32rBoliL5Kw4KooVRkKK4L9hnwx4a8FfssXHg/wAG%2BHrHSNI0v43%2BNLTTNL0y0S3trSCPx9qqxxRRIAsaKoChVAAAAAr6JrwX9j//AJN61f8A7L345/8AVgarQB1mv/sTfsZeK9dvfFPin9kf4Y6lqepXcl1qOo6h4B06ae6nkYvJLJI8JZ3ZiWZmJJJJJyaqf8MD/sK/9GWfCX/w3Omf/GK878f/APBZT/gm58L/AB3rfw08dftHfYdb8O6vc6ZrFl/wiGsS/Z7q3laKWPfHaMj7XRhuVipxkEjmsj/h%2Bb/wSy/6Oi/8snXP/kKvBnjeGFNqU6N7u9/Z3v1vpve9zT/iJuJofulnk48ulvrdVWtpa31hWta1rK1rWVrL2bQP2Jv2MvCmu2Xinwt%2ByP8ADHTdT027jutO1HT/AADp0M9rPGweOWORIQyOrAMrKQQQCDkVrftNfBOy/aT/AGdPHf7Peoa/LpMPjfwjqGhvqsEAlez%2B1W7wiYISA5QuG2kgNtxkZzXjXgH/AILKf8E3Pih470X4aeBf2jvt2t%2BItXttM0ey/wCEQ1iL7RdXEqxRR75LRUTc7qNzMFGckgc17j8dfjD4c/Z9%2BD3iP43%2BMtM1G60bwrpUup6ymlQpJPFZxDdPMFd0DLHGHlYZztjbaGbCn0MDWy2tCTwcoNJ68nLa/nypa27ky4kqcSfvZ414nk0u6sqvLfW15VKlr72TV97dTyPxF%2BxN8QvH%2Bg/F2Xx78fbWLxJ8W/h3pvhm%2B1rwn4Vm02HTZLMaiFuYopL6eRkcX4DRGYHETYkHmDZw3wR/4JTRfCLxFD4mh%2BJPhCw2/FweOX0HwF8L49A0iBh4RvPDhs7a1S8lMIb7ULtpWeRmdGUj5w6ei/Gf/goh8Hfgtpfi7XNU8N6nqFj4K8W2fhvWNRHiDQdKtHv7jTYtRCQ3Gr6lZwybIJ4AwD798wVFfZIU5G1/4KO6T4p8fR3/AIJuLS48Ba54M%2BEmu%2BEdVi0KSe8uv%2BEw8QatppWZHu4VjjEVnZlWALwNJM7Jc4WCu4k6v4G/sUeIfgFH4Eu/CPxcsrm/8DfA3Svh1by6h4Xdobv7HJAxvmjS7Vl3rCwEIc7C4PmNt2t1n7RvwC8cfFTxB4P%2BJnwf%2BJ%2BneEfGfgm9vH0rVNa8NPq9jPa3lq1vc209ql1au4P7mVWWZCslvHnehdG8w8G/8FGj8TP2ivB/gjwh8H/E1l4B8R%2BCvFmv2nizVNCWdvEMOk3GnQxz6XHZXM05jf7VK3lT26TzBoGhQgnPpP7Unxo%2BIHw90bwL4W%2BDiaRD4o%2BJPje38O6FqHifS57iy03NleahPcz2sc1vLNttbC4CxCWImRkBZRmgCn4d/ZY1jwF%2By7a/sreDPFPhfUND0zwPYaFY/wDCd%2BCW1iO8nj3C7udQgW8gju47hNuYEEOxzI291dUTzTwh/wAE1Nf%2BEmjeHNc%2BCHxb8JeH/GGk%2BIta1bVJJfhiJPDV2%2BpWcFk8cGjQX8BtFgtrS1gtyty7JHHIshm8%2BQnqNK/a6%2BKb/sE%2BNf2j3%2BHdlrHjjwL/AMJXpl9omjw3As9Q1PQ9SvtNlmhjBknW3lksjOIgZJVjfZl3GTyfwR/bM%2BI/x68H/EzR/BX7TXwgur/4YahZXeofFLS/A17feGdR0efTzdM0dsmsqySwyJPG8i3s0Y8g5UOzRxAEejf8Es5PB3hzQfhX4G%2BPj2/gb/hF/B%2BiePNG1PwwLm915PDswkt5Le6S5iSwNwgSC4XyJ1MMaLCIGBc9V8Y/2Ifif%2B0n4n1a4%2BOn7Q9gNFbwj4o8PeGLfwL4Nl0jUrC31q2%2Byu9zey39yLp4YQpQRxW6GZElZSURV8ptf26/23734A%2BHPGQ8M/D208XWHwFu/iv46sNS8N38UN3ZmVnsNHtYhqDPYXMlukomuJZLpYZYxiGRXwnt3hn4%2B/GHVP21dA%2BF1zeeGJ/h142%2BEmpeLPDcUGh3MWs2c1nc6LCRcXDXTQypJ/akpCJAjJ5SZd8kUAaX7NH7Mvjn4QfEDxV8Xfir8UND8SeI/FGg6Hojjwr4MOg6dbWGlfbTbYtWu7otOzX8%2B%2BXzApRII1jRYhn1Dwf/AMgmb/sK33/pXLWpWX4P/wCQTN/2Fb7/ANK5aANSiiigAooooAKKKKACiiigAooooAKKK4r4y/tHfAT9nnR/7d%2BOHxg8PeFrdkLRDWdUjhknA7RRk75T7ICfaoqVKdGDnUkkl1bSX3ux04PBY3McTHD4SlKpUloowjKUm/KMVJv5I7Wivkeb/grh4J%2BJMz6b%2Bxr%2BzL8T/jFMWKxarovhuTT9H3DjEl7dhfL57mMjrTDD/wAFlPj6P3l18MPgJpM3aJG8Ta5Bn1zizbA9Mc15n9s4SpphlKq/7kW1/wCBPlh/5Mz7leGnEGDXNnNSjgI/9RNaEKn/AIIh7bEN%2BTpQfofXdcN8Tf2nP2cfguH/AOFt/Hjwf4beP70OteI7a3lJ9AjuGY%2BwBNeAL/wSb07x6PtP7T37anxq%2BIsknN1ps/i9tN0pz322lso8sH0D9K7r4Zf8Es/%2BCe3wkKS%2BEv2T/CU0sZylxr1m2qyhv7we9aUg%2B4o9vnNX4KMIL%2B/Nt/dCP/twv7K8NMv/AN5zPEYlrph8NGnF%2BlTFVb/P2PnZbHJa9/wWa/YWi1J/D/wz8W%2BJfiHqsfXS/AHg2%2Bv5WPbaxjSNs%2Bzmqf8Aw3z%2B2j8Sfl/Z9/4JZePHhl/1eofEvX7Pw4Ih/faCQu7f7qnNfVeg%2BHfD/hbTU0bwxoVnp1nEP3VpYWqQxJ9FQAD8quUfVM1q/wAXE8vlCEV%2BM3N/gH%2BsPAOB/wByyR1X/NisVVn/AOU8PDDw%2BXO%2B12fJB8Of8FpPisMar8Rvgr8KLKX7p0LSLvXNRhH%2B19pIt2I7Y4pP%2BHXHjX4j/vv2pf8AgoP8ZPG%2B/wD4%2BNK0bV49A0uf1DWtqp49MOMV9cUUf2NhJ/x5Tqf4pya/8BThH8GH/ES%2BIMLpldHD4PzoYajGa/7i1I16vzU0%2BujPn34W/wDBK3/gnz8IJVu/C/7LXhm8ulbeb3xJA%2BrzF%2BpfdetLhs85GPbFe7aH4e0DwxpyaP4a0Oz060j/ANXa2NskMafRUAAq5RXbh8HhMJG1CnGC8kl%2BSPl834j4h4gq%2B0zTGVcRLvUqTn9ylNpfJIK8Z/Zf/wCS3/tHf9lmsf8A1CvC9ezV4z%2By/wD8lv8A2jv%2ByzWP/qFeF66Txj2aiiigAooooAKKKKACiiigAooooAKKKKACiiigAooooAKKKKACiiigAorA%2BKXxN8JfBvwFqPxL8dPqS6VpUaPdnSNCu9TuSGdY1EdrZxSzzMWZRtjjY85xgE1lRftDfBqX9n%2B3/albxzBF4CuvCsPiSDxDc28sSNpktutxHOY3QSgtEykRlBJlgu3dxQB2lfnf/wAF4NHvbu30HxRpEe6/8MfCnxLrVif7rweKPA5ZvbEZkNfcXwZ%2BOfw0%2BP3hq68VfDLVb6aHT9Tk07VLPV9CvNLvtPu0RHaC5s76KG4tpPLkikCyxqWjljcZV1Y/Nf8AwU08Gf8ACwfFt14SSLzJbr9lb4pNbJjOZo7zwpJF/wCPotefm1J18rr01u4S%2B/lbX4pH1/h/j45Vx5lWLn8MMTQb/wAPtYRlfycZyv5XPrjQtYsvEOiWev6c%2B63vrWO4gb1R1DKfyIq1Xk/7B/jP/hYX7FPwn8YPNvlvPh5pBuWznMy2kaS/%2BPq1esV1Yeqq%2BHhVX2kn96T/AFPCznASynOMTgZb0alSn/4BUnD/ANt/EKKKK2PNCiiigAooooAKKKKACiiigAooooAyvA3/ACJOj/8AYLt//Ra1q1lDwZoaZWBr6FMkiK31a5jRfZVWQKo9gAKX/hD9J/5%2B9V/8Hl3/APHaANSisv8A4Q/Sf%2BfvVf8AweXf/wAdo/4Q/Sf%2BfvVf/B5d/wDx2gDw/wAQf8E0/wBnzxL4j%2BM3iXUNX8TCX426dbWeuW6ajD5OiCJSWk01DCRA005FzMJfNSWZVLKV%2BQv8Ff8ABO74c%2BFvF0fxC8QfGLx94p8QH4nSeO7zWPEF7p/mXept4Vn8L%2BWyWtlDEluLCcsscSR4mRGzs3Rt7b/wh%2Bk/8/eq/wDg8u//AI7R/wAIfpP/AD96r/4PLv8A%2BO0AfOX/AA6k%2BDFn4X0DwD4c%2BM/xI0jw7pFj4Qh1TQdO1PTxB4gm8NNanTLu8Z7FpRNtsrZJfs7wRypEoZPlXH0DrHw60jxb4H134dfEK%2BufEek%2BIob621K11SOFQ1ldB1ezHkRxgxLG5jUtmQqBvd2yxuf8IfpP/P3qv/g8u/8A47R/wh%2Bk/wDP3qv/AIPLv/47QB5n8Dv2PdL%2BBcmpazp3xz8d%2BINf1SHRbG68UeJp9NnvjpGlSSvaaSPLso4vsw%2B0XYZzGbljeTOZ/MKyLmTfsK%2BHda%2BM3xF%2BK3j747eOfE2mfFHwkvhjxV4C1iDRV0Z9JT7aIbaM2%2BmxXiiMajeKGa5Z2E37xpNq7fX/APhD9J/5%2B9V/8Hl3/wDHaP8AhD9J/wCfvVf/AAeXf/x2gDxWx/YD0ez%2BF3jnwHN%2B0x8TLvXPiBo1loutfEK/l0abWotJtUkjg0%2BLfpptBEqT3YLPbPKWvJpDIZGDqaj%2BwDouofDrwd4O/wCGlPiTb614L8L6h4Zs/HlodEj1e90S9NuZ9PnC6Z9k8si0swskVvHOv2WNhKGaRn9q/wCEP0n/AJ%2B9V/8AB5d//HaP%2BEP0n/n71X/weXf/AMdoA8qvv2JfCWo6r4U024%2BLnjQeBfBN1o1z4c%2BFscmnJottPpSxfYHMgsvt8gilghnCPdlDLGpKkDbTvgz%2BxB8Ofgl8UP8AhZWheO/FWpR6fa6va%2BD/AA3rF1aPp3hWDVL2O9vorFYraOUrJNDFj7RLOYkjEURjjLIfU/8AhD9J/wCfvVf/AAeXf/x2j/hD9J/5%2B9V/8Hl3/wDHaAPKI/2F/hvp37Pfgr4B%2BFvHvizRp/h/qcWreGPHVjc2b63BqoE4n1F2mtpLWWe5F3eCcPbmJxeTDy1DDF3w1%2BxZ8KfDGhfDPw5b6zr1za/DDxNe%2BJNOS9vInOsazdwX0c9/fkRDzpWk1G8ufk8tBPKHC/IgX0r/AIQ/Sf8An71X/wAHl3/8do/4Q/Sf%2BfvVf/B5d/8Ax2gDyjxd/wAE7v2NvGH7Qnhf9qS4/Z98I2Xjjwv4in1xPEGneFNOjutTvZLWW3Et5ObczTMnm%2Bcjb1ZZYo33Hbg5vwE/YT1L9njwL4j8D%2BEv2yfivqDeJLyfULrXNZt/DUmoRanNOs02o%2BdHoyfaJ22iP/SRNGIgsaxqqIF9p/4Q/Sf%2BfvVf/B5d/wDx2j/hD9J/5%2B9V/wDB5d//AB2gDxiL9gDwbBpTajB8b/Hq%2BOX8eN4wf4omTSm1o6o2lLo5bymsDp4iOmqtr5ItPL2qH2%2BcPNrC1L/glj8DbjQF8H6H8TPHuj6JqPg208LeOdIsNUs3i8Z6Zb3d5diPUHntJJVeSbUdQMklo9s7i8kUnaIwn0J/wh%2Bk/wDP3qv/AIPLv/47R/wh%2Bk/8/eq/%2BDy7/wDjtAHldr%2Bw/wDDq0%2BOEPxki8eeKvsVp4vuPFlj4FFxZjRrbX57GWxm1JQLYXRkaKecmJrhoPMmaURCTDDJ1H/gn14M8VaF4gX4nfHT4g%2BK/E%2ButoZg8eavcaXDqmkf2NqA1LTRaJZ2EFmghvc3B327%2Bcx2zeaiqi%2B1f8IfpP8Az96r/wCDy7/%2BO0f8IfpP/P3qv/g8u/8A47QBwfw7%2BAWhfAH4XeM7Oy8Y674k1bxPe3uueJ/E3iWS2N7ql89pHbiWRbWCCCMLBbW8KpFFGgSFeM5JyfHH/KQv4X/9kZ8ef%2BnbwhXqJ8GaG%2BFna%2BmTIJiuNWuZEb2ZWkKsPYgivLvHH/KQv4X/APZGfHn/AKdvCFAHs1FFFABRRRQAUUUUAFeCfsf/APJvWr/9l68c/wDqwNVr3uvE/wBh6wtNT%2BAuv2N9AJIpPjL8Rgykkf8AM7a0QcjkEHBBHIIoA9sorK/4Q/Sf%2BfvVP/B5d/8Ax2l/4Q/Sf%2BfvVf8AweXf/wAdoA1Kqa9oWj%2BKNDvfDPiLTYrzT9RtJLW%2Bs7hN0c8MilHjYd1ZSQR6Gq3/AAh%2Bk/8AP3qv/g8u/wD47R/wh%2Bk/8/eq/wDg8u//AI7QB8/eCf8AgmD8KPhp8I/Afww%2BHnxq%2BI%2Blah8Ptb1PVNL8crqen3Ot3kt%2Bk0V0LqS5spIJN0U3lK6wpLGkMQjdNpJseBv%2BCYnwD%2BH/AIa8PeFdE8W%2BMJLbw14a%2BHmh2DXepWzyPbeDdVu9U0tpG%2BzjdJLPeSrcNwHRUEYhYF295/4Q/Sf%2BfvVf/B5d/wDx2j/hD9J/5%2B9V/wDB5d//AB2gDxD4bf8ABO7wL8KfiJpfxA8JfHX4iKvhfw3ruheA9CuLzTZLDwtZ6rNbTTJaIbHfKYntIPJN09xsVNh3J8tekfHP4B6J8d/Bul%2BHNX8aa7omqaBrVrrHh7xZoD2q6jpmoQBlW5iE8EtuxaOSaJ0kheN45pFKYPHT/wDCH6T/AM/eq/8Ag8u//jtH/CH6T/z96r/4PLv/AOO0AcX8Nv2bbD4RfDCH4V/D34q%2BKrC1TTtXW41EmwmvLrVNSumvLjWpHltGU3v2mW4mACi2L3Mm6BwIwnM3P7CvgDXfgr8Qfg747%2BJ/jLxHN8VW2%2BP/ABdqlzYx6pq1v5EVsbQ/ZrSK2gtzaxfZ/LhgjGyWVhiWR5T61/wh%2Bk/8/eq/%2BDy7/wDjtH/CH6T/AM/eq/8Ag8u//jtAHl/7Sn7E3w9/aY1CLUdY8e%2BK/C7TeF73wv4gj8IXdrAuvaDdtG0%2BmXPn28xWJjH8ssBhuIhJKI5k8xsy6v8Asj/2l%2B1ToP7U1l%2B0N4602Tw54dudC03wPYWuhjRBp1w9pJcW5D6Y15iSWxtZCwuQymPahRGZD6X/AMIfpP8Az96r/wCDy7/%2BO0f8IfpP/P3qv/g8u/8A47QBqVleD/8AkEzf9hS%2B/wDSuWj/AIQ/Sf8An71T/wAHl3/8dq/YWFpploljYwCOKMYVQSe%2BScnkknJJPJJoAmooooAKKKKACiimXNzbWVtJeXlwkMMSF5ZZXCqigZJJPAAHegaTbsh9FfM3xZ/4Kv8A7KvgfxM/w1%2BE17rPxb8Z8rF4V%2BFumNq0u4HH7yeP9xGoPDfOWXnK8V4P8Uf20v2r/iG8kXxb/ah%2BD/7K/h1879MfxDaeIfF7x9x5St5UWR/dUSIT3IrxsRn2XULqEudr%2BW1l6zbjBfOTfkfbQ4CzbCYSONz2rSy3DyV1PFzVFyXenRd8RU8uWik/5z7q%2BK/xr%2BEPwK8NN4w%2BMvxM0Pwxpi5xea3qUdurkfwpvILt6KuSewr5ruf%2BCpmsfGq7k0L/AIJ/fso%2BMvi04cx/8JXeQ/2H4djIOCftl2oMhXklAikgcHmvm74aeO/%2BCSuh%2BLj438O%2BCPjD%2B1d48RsS%2BItQ8I3/AIhnaUHOEju1ht1AblSEYrxhjX0haftj/wDBQfx1bR2HwE/4JZ6jo2nIgS31D4i%2BNrLSRAgGFU2SAygY7KeMYrzP7XrYz4aqgu1KMq0//AlH2a%2BXN6nC%2BLPCHItMFCrm1ZfacalLD38qdFTrVF/18xFJPrFCf8M1/wDBTz9o399%2B0Z%2B2NpXwu0Wf/W%2BFfgrpbC7KHoG1O6zLFIB1MYZSTx2rtfg1/wAErf2I/g3rH/CYf8KjTxd4ldxJceKfiBdvrN9NIOkhNzujR/8AaRFNcj/Zv/BbXx5/x9%2BJP2ffAVq/3fsNnqmqXsf18zEJ/Cj/AIYj/wCChPjX5vix/wAFW9fiif71j4I%2BHen6V5Y9FnDM5%2BpGaunRw7mprCVasl9qpy/hzzaXygjlxni9xpi8NLCZdQqYWhLR08PTpYSDXaTjP2s1/wBfKs79UfWkMMNtClvbwrHHGoVI0UAKBwAAOgpxIAyTXyV/w6Z03Wfn%2BIH7f37Suv7vv29x8UTFbn6RxwDH50D/AIInfsH6pz4%2B8P8AjPxXn7//AAkXxC1OTf8AXy5kr1PrOby%2BHDRXrVX/ALbBnwrxmfVHeOEiv8VaP/tsJH0T4x%2BPXwM%2BHas/xA%2BM/hPQgn3zrPiO1tQv18x1xXk3jP8A4Kv/APBOXwHv/tz9rzwhPs6/2LdvqWfp9kSTP4VF4O/4JK/8E4PAzK%2Bi/sjeFZyp4/tiKXUR%2BIu5JM/jXrPgv9nj4AfDfZ/wrz4GeDtB8v8A1f8AYvhm0tdv08qNcUf8Lk/%2BfUP/AAOX/wAgg/4ySp/z5h/4Mm//AGxHz0P%2BC0f7H2tfN8MPDvxM8bRn/Vy%2BFfhtfyrJ/u%2BakdH/AA9N8Wa7x8P/APgml%2B0lqGfuTap4CTT4X9w8k5498V9bUUfVc2l8WJS/w04/%2B3SYfUs8n8eMS/w0Yf8At05M%2BST%2B2/8A8FCvEfyeAP8Agkp4iO/hJvEvxO0vTQnuysrH8BzR/wAJt/wWt8b8aD8EvgN4Hjfr/wAJP4k1HUpYx7fYwFLfXivraij%2BzcRL%2BJiqj9OSP/pML/iH9kYqf8XG1X6ezh/6TTb/ABPkn/hnT/grj4258Xf8FEPBvg9H/wBZB4M%2BFUF7x6K964YfXrS/8O9f2ttX/wCRw/4KvfFKfP3v7F0Ww0/8tgbFfWtFH9jYN/HKcvWpU/SSX4B/q/gJfxJVJf4qtV/lOK/A%2BSv%2BHU1/qvzeMP8AgpD%2B07qGfvwwfE4W0LfVEt/610X/AATr%2BD%2Bk/ATW/jz8J9D8WeIdctdK%2BM0Hl6r4q1Zr7UJzL4R8NzMZZ2AL4aQqvHCqo7V9J14z%2By//AMlv/aO/7LNY/wDqFeF66MNl2Cwk3OlCz2veT0/7elI6sJlOX4Go6lCFpNWveTdv%2B3py/I9mooortPRCiiigAooooAKKKKACiiigAooooAKKKKACiiigAooooAKKKKAOc%2BLmteIPD/w01rVfCvw81fxXqKWLLaeHtBuLKK7vGfCbY3vri3t1IDFj5kqDCnBJwp%2BWfBfwe/aM8Yf8EqfBv7MGs/s7a74X8ceDfh34XibS/EWtaO9tqGpaHLYSGxE9jfXKhLlrIqsjAKI5QZNjZSvsmigDxT9kPwV8S7TxX8WPjX8TfhxfeDZviR48ttU0vwpqt9Z3F7Y2lrommaYr3TWM89v50kllLJiKaQCJoQW3BlXlvGPwv1eb/got4aXxR8WvEOvaX4n%2BCXj2C38P6ra6alpo0R1PwmjpbNbWkU7hw/P2iWc/INpX5s/SleM%2BOP8AlIX8L/8AsjPjz/07eEKTSasyoTlTmpxdmmmn5p3X4pHnv/BFrXL3Uv8AgnP4H0DV2/0/w5daro18ufuPb6lcqq/hH5dfVFfJX/BKL/imE%2BPvwfk%2BX/hF/wBobxCLKL%2B5ZXHkzQ/nlzX1rXl5G3/ZFGL3jHl/8Bbj/wC2n3ninCK8RMzqwVo1arqr0rxp11by/fNfIKKKK9U%2BBCiiigAooooAKKKKACiiigAooooAKKKKACiiigAooooAKKKKACiiigAooooAKKKKACiiigAooooAKKKKACiiigArxnxx/wApC/hf/wBkZ8ef%2BnbwhXs1eM%2BOP%2BUhfwv/AOyM%2BPP/AE7eEKAPZqKKKACvIf21/iR4%2B%2BHnwn0iy%2BGXiVtC1jxZ4/8ADvhiHxElpDO%2Bkxahqdvbz3Mcc6PE0wheQReYjxiVoy6OoKN69XO/Fj4T%2BAfjf4Cvfhn8TdDbUNHv3gkmhivZraWOWGZJ4J4Z4HSWCaKaKOWOWJ1kjkjR0ZWUEAHzpYfGX9qif9kP4oWHg3xBqPirx38PviNd%2BGbfxRa6Day6lfaXFfWrTX8dnDElvPfwadcy4iSIRzXNqAIQJPKryGD9u/8AaM1yD/hQPgnUPirq%2Boy/H258Had4u/4QbSNO8XX2kxeELbxGW%2Bxapb2mnWdyZbgwh7q3iX7LCX8rznWvsTwt%2Byj8F/BHw9uvhf4Qs/Emm6Re2k8N0LPx5rEd1K891JdT3Zuhd/aPtsk8skj3vmfaXLfNKQABRk/Yp/Zzf4ZWfwoj8KavBp9hr8mu2uqWnjPVodaTVJFkSS%2BOrR3Q1Brl45pYnmM5d4pGjYlCVoAsfBn46eDtf/Zc0P44Q%2BJPFniXTBoayXV/deFXn1u5liYwzCaw0y2ybpZUdZIreDaHV9ihQK5j/gnT4hsPFv7N194p0q3vorbUfi38Q7m3i1PS57K5RH8Z60wEtvcIk0DgHmORFdTkMoIIr1n4b/DjwR8IfAek/DL4b%2BHodJ0LRLJLTTNPgLFYYlHGWYlnYnJZ2JZmJZiSST5p%2Bwf/AMkQ1z/ss3xH/wDU11ugD2aiiigAooooAKKKKACiiigAooooAKKKKACiiigAoor5t/ac/wCCrP7IP7M%2Btn4fy%2BMLnxr43kuPs1r4F8A239pag9xuK%2BS%2Bw%2BXC4brG7iTByEbpXNisZhcFS9pXmorzdvkurfkk35GGIxNDCw560lFba9X0SWrbfRJNvomfSVee/Hv9q/8AZu/Ze0U678fvjRoHhiMwmWG21C9BurlQcEw2ybpp8HtGjGvk%2BWD/AILC/t8piSSw/Zf%2BHt4v3UY33im6hZe5Gw25yP8Ap1kTP8Yr039n3/gjv%2BxJ8DNTPjLxD4Dn%2BIviyaQy3nin4kXP9qTzSnBL%2BU48hWBGQ/lmQf3z1rzFmGY43/c6Fo/z1LxXygvffz5EYe1x9ZXpU1Fd6jab9IRTkl/jlB/3TzTX/wDgrN%2B0H%2B0hJL4e/wCCZf7E3ibxrG0jxR/EDxnbHTtERlONyb3QSjHOHlicf3DXn3jH/gk5/wAFL/203TUf24v287LTLCZxKfCPhewlurKAZyEMCtbQFh03sJT/ALTdT%2Bl8UUUESwQRqiIoVERcBQOgA7CnVnUyH68v%2BFCvOov5U/Zw/wDAYu7/AO3pM9DA43PsBNVKGMnSl3oWoy/8GRUq33VYHxF8MP8AghB%2By14P0D/hG/H/AMUfiL4r06Rt91oD%2BI/7M0mRu5FrYpFtz3O8k%2Bte6/C3/gnV%2Bwv8GVjb4e/sq%2BCraaHHlXt5okd7cp9J7kSSD/vqvaKK7cPkuU4W3sqEVbrZN/fLmf5HnSyvL6mKliqtNVKsndznepNvu51ZVJt%2BbkR2lnaafbJZWFrHBDEoWOGFAqoPQAcAVJRRXp7HfsFFFFABRRRQAUUUUAFFFFABRRRQAUUUUAFeM/sv/wDJb/2jv%2ByzWP8A6hXhevZq8Z/Zf/5Lf%2B0d/wBlmsf/AFCvC9AHs1FFFABRRRQAUUUUAFFFFABRRRQAUUUUAFFFFABRRRQAUUUUAFFFFABRRRQAV4z44/5SF/C//sjPjz/07eEK9mrxnxx/ykL%2BF/8A2Rnx5/6dvCFAHmH7If8AxRn/AAU1/al%2BHbfJBq3/AAiviLTo/wC95tg8dw3/AH9C19a18lN/xRH/AAW1U/ctfHH7PJH/AF0vbPVs/jiA19a15OUe7Rq0/wCWpUX3y5l/6WfoHiL%2B/wAxwGN/5/4LBz%2BcaLoS%2Bd8Pr5hRRRXrH5%2BFFFFABRRRQAUUUUAFFFFABRRRQAUUUUAFFFFABRRRQAUUUUAFFFFABRRRQAUUUUAFFFFABRRRQAUUUUAFFFFABXjPjj/lIX8L/wDsjPjz/wBO3hCvZq8Z8cf8pC/hf/2Rnx5/6dvCFAHs1FFFABRRRQAUUUUAFeM/sH/8kQ1z/ss3xH/9TXW69mrxn9g//kiGuf8AZZviP/6mut0AezUUUUAFFFFABRRRQAUUUUAFFFFABRXz3%2B0F/wAFNv2WvgN4lPwysNf1Dx547kcxWvgH4d2Datqbyj%2BB1i%2BSEjjKyMrYOQpr47/aX/4KEftz/EzxUnwf0qZfhlqupkpYfC74axp4i8c3Sn/n7uF/0bSEIKsWOJ4gSfLcA14mO4gy7BJq/PJaWjrr2b%2BFPyu5f3RZVTx/EWZPLskw88XiFduNJJqCW8qtSTjRowjvKdWrFRW/Z/oF8fv2uv2Z/wBlvSxqvx%2B%2BNWg%2BGQ8Zkgs768DXdwo6mK2j3TSj/cQ18Z%2BOv%2BC91p8SPGR%2BEf7Af7KXi34meJJSVgub%2B2e1t06fvvJjDytEMjJk8gDqSAK5L9mn/ghLr/xG1o/Fb9tjxNe6W19J583hXStea/1e8JBBOp6xJlndlO147YJG2AQVORX6HfBP9nz4Jfs4eEE8CfAz4Y6R4Y0tMF7fS7QI07AYDyyHLzPj%2BN2ZveuClPibNXzaYam/LmqNfP3Y/NX8j3sZkGX5VDkzHMFVr9aWDtKnB9p42rFqbXX6rh3G90qz%2BI%2BO9E/Yn/4KXftqWn9oft//ALV83w/8L3qnz/hh8JSlvJJE6kNDcXgLgj1RmulI7qa%2Bn/2Zv2If2Wf2QNH/ALM/Z/8Ag5pWiXDxeXdayYzPqF0pwSJLqUtKykgHZuCA/dUV6tRXr4TKMFhantbOdT%2Beb5pfJv4fSKij5qGDwVGu6tKnaW125TlbtzTcpa9bcqfVdEUUUV6Z0BRRRQAUUUUAFFFFABRRRQAUUUUAFFFFABRRRQAUUUUAFFFFABXjP7L/APyW/wDaO/7LNY/%2BoV4Xr2avGf2X/wDkt/7R3/ZZrH/1CvC9AHs1FFFABRRRQAUUUUAFFFFABRRRQAUUUUAFFFFABRRRQAUUUUAFFFFAHj3/AAUHPjkfsOfFg/Df%2B0/7Y/4QLU/s/wDYm/7ds%2Bzv5v2by/n8/wArzPL2fPv27fmxXzn8D/Gn7PfhrwH%2B0tp37H17p83wzufDr3Hw70P4T6hbwjUdUg8PhtVXQRDmMygNYBmhVlS7eQuPNMufu2igD4N/4I06T4Q8O%2BNviLonw78Z/DrxRo//AAhHguaXxB8G9F/szw39uMeqJPayWwmnVtYQJHJd3PmK8sVxYh4LcxKJPa7/AFL4r3f/AAU28F2fjbwX4e0/Qrf4PeOB4a1HSvE895d36HVvCXmNc20llCloRhMBJrgNuOSu0bvoevGfHH/KQv4X/wDZGfHn/p28IUAeYftgf8UZ/wAFMP2WfiMvyQao/irw7qL/AN7ztPSS3X/v6GNfWtfJX/BWD/imLb4C/GCP5f8AhFf2hvDz3sv92ynM0Mwz2zlBX1rXk4H3MwxdP%2B9CX/gUEvzgfoHFX%2B08H8P4vtSxFF/9wcVKS/8AJcQreQUUUV6x%2BfhRRRQAUUUUAFFFFABRRRQAUUUUAFFFFABRRRQAUUUUAFFFFABRRRQAUUUUAFFFFABRRRQAUUUUAFFFFABRRRQAV4z44/5SF/C//sjPjz/07eEK9mrxnxx/ykL%2BF/8A2Rnx5/6dvCFAHs1FFFABWb4w8ZeEPh54Xv8Axx4/8V6boei6XbNcanrGsX0dta2cKjLSSyyEJGgHVmIArSrxD9v7w34i134J6Nq2ieFNS1%2B08N/Evwrr/iDQ9H06S8urzTbHWrS5uDFbRK0ly8Kx/aRCitJJ9n2oruVUgHpmmfGH4R618Mh8a9H%2BKXhy78GnT3vx4tttct5NMNogJe4%2B1K5i8pQrZfdtG05PFQaL8dfgj4k%2BFc/x08O/GPwrf%2BCLayuLy58Y2XiG2l0qK3g3efM12rmFY49j73LYXY2SMGvljw18PbT4k/sn/Fvw94v0Lx14R07xP8S7/wAeeE7b/hWWqXV3Z2sWswXdrK%2Bmi38yZri9s3vJNOwty8N2Q8cbSHHl%2Bpfs%2Bft4fFz4FfFDxLaeGNB8VaF47%2BK2oeLL/wAN%2BLbPVPBNxrFla%2BG9LsbJINMNnqNzbRNqdjLdfY7grLP5EDSPi4mQgH6MaLrWj%2BJNHtPEXh3Vra/0%2B/to7mxvrKdZYbmF1DJJG6kq6MpBDAkEEEV5F%2Bwf/wAkQ1z/ALLN8R//AFNdbqT9lnQ/jhZ/sK/Dzwzf2Oj%2BDvHVr8OtKtXt9UsrnVLXTbmO1iTbPCTYzSMFX5490JRyy7jt3Nm/8E6bfxLafs3X1r4y1axv9Xj%2BLfxDXU77TNOe0triceM9a8ySKB5pmhQtkhGlkKggF2xkgHulFFFABRRRQAUUUUAFIzKil3YAAZJJ6VyPxy%2BPXwh/Zt%2BHV78Vvjb46sfD%2BhWC/vbu9k5kfBKxRIMtLI2DhEBY44FfGfxG8Y/HD9vrwTqPxR%2BO/inUP2f/ANl6wtzcXiX1yLTxD4xtOxnbn7FayZAES7nl3AASB1ZfOxuZUsI/ZxXNUtflTSsv5pN6QiuspfJSZwV8bNYuGCwlOVfE1LKFKCvJtuyvZPlTbtdptvSMZS0PXPi7/wAFUvgloPi%2Bb4PfszeFta%2BNvj9Mr/wjnw9iFxbWjZxuu7/Bgt0BBDMC5Qj5lFeA/tP%2BKvjbeaHDr/8AwU9/a6h%2BFugatj%2ByPgN8E5zNrmtBjtWCa6XdLNuP7txGPIO778ZrpPg14s%2BPfx08EW3wp/4JafADTPgZ8IdoT/hbHirQwt5qceNvn6fYH5rh2AyLm4Zt4JyyOK%2Bgf2YP%2BCd/wC/Zn1yb4lCHUfGnxDv8vq/xH8bXRvtWuZCMNsd8i3XttjAO3AZmxmvA5cyznaV4Pr70KXyV1UrerdOm%2BzR91/xD7LMj/e8d4xyqr/mAwkkpX/lxNa8o0l0lByqVt17Gm9F8z/s9/sfftE/FvwyPCvwf%2BFsH7JvwfvEC3NvpEYl8eeJYPW6u33PZhh/eYyocqQ6nNfYv7NH7IH7PP7IvhVvC3wJ%2BHNppRuMHU9VkzNf6i/UvcXL5klOSTgnapJ2qo4r0uivbwOT4PAtTS5prTmaWi7RSSjBeUUvNsrNOL8Zi8tWUZfRhgsArWw9BclN22lVl/ErzX89aUrO7jCAUUUV6p8kFFFFABRRRQAUUUUAFFFFABRRRQAUUUUAFFFFABRRRQAUUUUAFFFFABRRRQAV4z%2By//wAlv/aO/wCyzWP/AKhXhevZq8Z/Zf8A%2BS3/ALR3/ZZrH/1CvC9AHs1FFFABRRRQAUUUUAFFFFABRRRQAUUUUAFFFFABRRRQAUUUUAFFFFABRRRQAV4z44/5SF/C/wD7Iz48/wDTt4Qr2avGfHH/ACkL%2BF//AGRnx5/6dvCFAHn3/BaTQr3Vf%2BCcvjvWtJH%2Bn%2BHp9K1ixfH3Ht9StnZvwj8yvprw1rtn4p8Oaf4m05s2%2Bo2UV1Ac5ykiB1/QivNv27PBn/Cwv2LPix4NSHfLffDzV1tlxn98tnK0X/j6rVf/AIJ/%2BM/%2BFg/sPfCTxY83mS3Pw80lLl8/emjtY4pD/wB9o1eTD3M9mv56UX/4DOS/KR%2BgYj/avCvDS64fG1Y/KvhqVRfLmov53PXqKKK9Y/PwooooAKKKKACiiigAooooAKKKKACiiigAooooAKKKKACiiigAooooAKKKKACiiigAooooAKKKKACiiigAooooAK8Z8cf8pC/hf/2Rnx5/6dvCFezV4z44/wCUhfwv/wCyM%2BPP/Tt4QoA9mooooAKKKKACiiigArxn9g//AJIhrn/ZZviP/wCprrdezV4z%2Bwf/AMkQ1z/ss3xH/wDU11ugD2aiiigAooqrret6L4a0e68Q%2BI9XtbCwsoHnvb69nWKG3iUZZ3diFVQASSSAAKTaSuxNpK7LVfPn7WX/AAUD8E/s/wDiW2%2BB3wt8JXvxI%2BLusp/xI/h34ccNMmRkT3svK2cABDFn528gbcsvmXif9rr9oj9vnxBefCT/AIJyKdA8FW1w1p4o%2BPutWDG3TBxJDo8D4N1MOR5pwq9tmUkLtdf9nH/gkv4Lsvhx8CvAGofEL41/Ea5KaZY3N39p1/xXesSXu765YZhtVbczN8qDDEDO9x4GKzWValKWHly0lvVav5Wpx%2B3JvRO3LfbnZyZPhM%2B43zSGWcPU%2BZzbXtXblSSbk4c1o8sIpynWm40acU5NytryXjL4X%2BDfgItp%2B3d/wV6%2BJtr418dJNt8CfDfSIDNpej3LYMdnpliT/pl1naDO%2BQpCsW%2BQS11vw4/ZU%2BN37ePjfTv2jf8Agofoh0jwpp9wLvwD8BllLW1n/wA87vV%2Bn2m5IP8AqWG1ASGC7nirrv2W/wBhPxTa/EdP2vf23fFVt45%2BL1zH/wAS6KNCdI8HwHkWmmwtwGXOGnPzE5wcl3k%2BoKywWU%2B3XNXi40278jd5Tf8ANWf2n2h8MdLptWX6bQxmQeGuEngOGJ%2B2xs7qtjtW7tWlDCuSUkmrxlimo1Jq8aEaFF3m2CCG2hS2toVjjjULHGigKqgYAAHQCnUUV9KfnzbbuwooooAKKKKACiiigAooooAKKKKACiiigAooooAKKKKACiiigAooooAKKKKACiiigAooooAK8Z/Zf/5Lf%2B0d/wBlmsf/AFCvC9ezV4z%2By/8A8lv/AGjv%2ByzWP/qFeF6APZqKKKACiiigAooooAKKKKACiiigAooooAKKKKACiiigAooooAKKKKAPP/2q/jVc/s5/s3%2BNvjjp%2Bgpqt54Y8OXV9p%2BmSzGKO7ulQ%2BRC7gEojSlFZwCVUk4OMV554A/ak%2BJPw%2B0b4zaT%2B1HJ4f1XVfg3o8OvX2seB9Fn0%2B11PS5dNe8XZa3N1cvDMj293EQZ3VwkcnybzGnsPxc%2BFng344fCzxF8G/iHYSXWheKdFudK1aCGZopGt54mjfY64aNwGJV1IKsAQQQK4L4Z/sdeGvAdt4kj8V/Fjxd45n8bCVPHN54wGmPJr8Js4rKKCYWllAkUUMEZCJbrCGaaZ5PNeQtQBzn7BP7Ufir9pbw/qOqePfiP4Vv9WGlaXqo8M6B4D1fRJdHtr1JnjJl1Odjq1s5jdIdQgiggnNvMUXqqRX/xc%2BFHjn/gpt4L8BeCfid4e1jXfDHwe8cReJdF0rWoLi70l5NW8JeWtzDG5eAtsfAcKTtOOhrrv2df2RfC/wCzvr2oeLIvif4u8YateeHtN8P22peMLmzeSw0fT2uGtLGIWltbqURrqdjLKsk8hceZK%2B1dtLxx/wApC/hf/wBkZ8ef%2BnbwhQB67rWk2ev6Nd6FqMe%2B3vbaSCdP7yOpVh%2BRNfLv/BFfVr24/wCCd/g/wpq0m6/8LanrGiX3%2By8GpXO0e2I2QV9V18lf8ErP%2BKW1T9ob4PyfL/wjn7QuuzWUXTy7O7WGaEY/77P415OJ9zOMNP8AmjUj%2BEZr8mfoGSf7V4c5zh%2BtKrg6y/8AA6%2BHl%2BFSN/kfWtFFFesfn4UUUUAFFFFABRRRQAUUUUAFFFFABRRRQAUUUUAFFFFABRRRQAUUUUAFFFFABRRRQAUUUUAFFFFABRRRQAUUUUAFeM%2BOP%2BUhfwv/AOyM%2BPP/AE7eEK9mrxnxx/ykL%2BF//ZGfHn/p28IUAezUUUUAFFFef/tL/HG5%2BAPw1i8WaL4RXxBrWq%2BIdL0Hw3ocmo/Y473UdQvYrSBZZ/LkMEKtL5ksgjkZYo3KpIwVGAPQKK%2Bfbn9ui60L9l7xT8bvFvwpjtPE/g7xifCOt%2BErfxEJLSPWH1KCwgxqDwJiykN1a3BuWgVo4JSzxBkaOjwh%2B1j8d/iV4Y8Waf8ADr4HeBLvxr8OvG83hv4g6TqPxWnt9H0%2BVNOtdRWSDUU0mSS43W99a5V7WHY5lRiPKywB9BV4z%2Bwf/wAkQ1z/ALLN8R//AFNdbrtP2dvjLpX7RfwC8E/H7QtDvNMsvG3hTT9dtNO1Db59tHd26TrG5UlSyhwMqSpxkEgiuL/YP/5Ihrn/AGWb4j/%2BprrdAHs1FFFAEGqappuh6Zca1rWoQWlnZwPPd3dzKI44YkUszuzYCqACSTwAK%2BHNB0DWP%2BCw/wAU7rxv4ym1Wx/Zm8J37W3hrQoriW0PxC1CKTEl7cbSrGxjZSqJwWYZyGDquh8f/F3if/gpn8d9Q/Yn%2BDOu3Nl8IfB18g%2BNvjXTpSp1a4Vtw8P2kg65I/fuDxgg4ACy%2BoftVftS%2BFP2LPBXhf8AZ9/Z7%2BGUPiD4heILZdL%2BGPw30eMJGsca7BPPtIEFnCBlmJGdhAIAd0%2BcxeJoY3mnVdsNTdn/ANPJ3typLWUU9LK/PP3dYxd%2BHJsjzLxCzuGWYCHPSTd9Uo1HG7m5SbUY0KKTlVnJqDcXduEGpv8A2sP2sfBX7F/hDw98DPgV8NrbX/iH4hhGn/DX4Y6BAsSkKComlSPAt7OLBLN8oIRgCAHdE/Yq/Yn1H4Karqn7Q/7Q3ipPGfxp8YxhvFHimRcxafEcFdOsFIHk20eAvABfaCQAFVX/ALFP7E118CL3Vfj18efFa%2BNPjP4yQP4t8XzLlLVDgjT7FSB5NrHhVAAXfsBIACIn0LXXhcJVxNWOKxUbW%2BCHSC7u2jm18oL3Y63k/wBSznOsq4dyufD3Ds%2BaEklicSk4vENNP2VK6UoYSDXux92VeUVVqpRVKlAooor2D87CiiigAooooAKKKKACiiigAooooAKKKKACiiigAooooAKKKKACiiigAooooAKKKKACiiigAooooAK8Z/Zf/wCS3/tHf9lmsf8A1CvC9ezV4z%2By/wD8lv8A2jv%2ByzWP/qFeF6APZqKKKACiiigAooooAKKKKACiiigAooooAKKKKACiiigAooooAKKKKACiiigArxnxx/ykL%2BF//ZGfHn/p28IV7NXgvxS8Z%2BGfDv8AwUo%2BC/hvW9XhtrzXvhD8QbfR4ZnAN1NHqPhKZok9W8qOR8f3Y2Pak5RirtilKMVeTse9V8lfsn58F/8ABUX9p/wC3ywa7Z%2BFPEWnx/WxeC4b3zLt/KvrWvkq/wD%2BKI/4LaWFz9y28cfs9S2%2BP%2Bel5Z6r5mffEJxXlZp7lXDVO1VL/wACjOP6o/QeBf8AaMDneC/5%2BYGpJetCrh66%2Bdoy%2BVz61ooor1j8/CiiigAooooAKKKKACiiigAooooAKKKKACiiigAooooAKKKKACiiigAooooAKKKKACiiigAooooAKKKKACiiigArxnxx/wApC/hf/wBkZ8ef%2BnbwhXs1eM%2BOP%2BUhfwv/AOyM%2BPP/AE7eEKAPZqKKKACvPv2l/gddfH74axeE9F8Xr4f1rSvEOl694b1yTTvtkdnqOn3sV3A0tv5kZnhZovKljEkbNFI4V42KuvoNFAHhvw//AGVviN4I%2BEfjHwDqnxM8H%2BIdU8dXWpar4ivte%2BHck%2Bn3eq3szGQyWJ1HD2C2whtltDL5myHc9y7MTXmGp/8ABL7xnp37Pl58DfhX8avBPhaHxd4%2BHiP4o2Fh8J3i0HxDbLZQWcejQadaapbvYaf5NnZpLGtxI06wyLIzLcTBvsGigDmE%2BG%2BneLfhRF8MPjdofhjxTb3Olx2mv2I8NCLSb/AAZVsbiW4CQkgYieSXaABubGa8y/4J0%2BGPDXgr9m6%2B8H%2BDfD1jpGkaX8W/iHaaZpemWiW9taQR%2BM9aWOKKJAFjRVAUKoAAAAFe6V4z%2Bwf/AMkQ1z/ss3xH/wDU11ugD2avlD9uT9oj4o/EH4kWf/BPL9j3Vjb/ABB8TWIuPGni2IFo/BGhtgSXLkEYupFbbEmQw3q2VLRtX1B4o8S6H4L8M6j4x8Taglppuk2E15qF1KflhgiQvI59gqk/hXxn/wAE/PH3hT4Wfsw/Ev8A4KdftJ6kmht8VfEt14mvLi8H7210aF2t9MslHWRtgPlqMl/PQDk14%2BaVnKUMKp8ikpSnK9nGnFe9Z9HJtRv0XM1ra3l4yhjs2zDD5NglJ1MQ7NQTc%2BW6jywtrzVJyjTi1qrya1Sa9L8Y%2BKf2dP8Agkf%2Bx3pvhnwf4dmuI7Mrp/hXw7a/PqXinWpvur8ozJNLJ8zuFO1c4XCqlRfsI/smePPA%2Bq6z%2B1t%2B1XdQ6r8Z/H8StrDphoPDen8NDpFpyQiRgLvKk73Xq23e3I/sd/Br4jftX/GCD/go7%2B1j4cl0%2BQwPH8Fvh9e8r4Z0uTpfTKeDezrht3VVI/2Fi%2Bw6ywGHWLnDESjy0oaUoWtZWtztd2vgT%2BGLv8Unb9czipgeA8klwtlTi680o4urBpxXK01g6Ulp7KnJJ15xdq1aPKnKlRXtCiiivdPzcKKKKACiiigAooooAKKKKACiiigAooooAKKKKACiiigAooooAKKKKACiiigAooooAKKKKACiiigAooooAK8Z/Zf/AOS3/tHf9lmsf/UK8L17NXjP7L//ACW/9o7/ALLNY/8AqFeF6APZqKKKACiiigAooooAKKKKACiiigAooooAKKKKACiiigAooooAKKKKAOd%2BLnxS8G/A/wCFviL4x/EO/e10LwtotzqmrTxQtLItvBE0j7EXLSOQpCooLMxAAJIrnfgB%2B0ZpPx4PiHSLj4ceJvBniLwrqENp4g8J%2BL47MX1p59tHcwS7rK5uYJIpIpAVaOVsMkiNteN1WT9qv4K3X7Rn7N3jb4Hadr0elXnifw5dWOnanNCZY7S6ZCYJnQEF0WUIzICCygjIzmvMfAv7Nv7QXjC5%2BKuu/Ha70TwtqXxg0ldG1K5%2BGnjK5mufDFlb6cbW2lsbm602Lz7ppri8nMjxRLBmBQs%2B1mIB3n7Nf7XXwv8A2q9U8dWPwusNYFv4D8V/2Dd6nqNrHHbapJ9lhuVurJlkZpbVknXZKyp5mC6Bo2SR/nr/AIKdfs1eL/2kv2lvhZD8J/Ecuj/EDwZ8MvGvif4eanHLsEerWuqeE/LjkzwY5UeSJg3yjzAxBC4PqH7Ef7F3jv8AZK%2BIHxP1LXfjtq3i3QPFeqaO3hWx1Ky0m3axtbLRrKwAePTtMso43BtvKVI90YghgO1ZDKWL/wCGPhvwd/wU28F%2BM9J1LxDNeeIfg944kv4dV8XajfWkRTVvCWBbWtzPJBZA7jlbdIw2BuB2rjDE4eni8PKjU2krefqn0admn0aRz4vC0cbhZ0KvwyVnbR%2BqfRppNPo0mdT%2BxD%2B1bov7YPwE0/4mxaYdK16znk0vxp4clBWXRtYgwtzbOrfMoDfMueSjrnByB5R%2B2X/xRv8AwUg/ZU%2BJa/JDeX/ifw7qDf3/ALTpyG3XPtIrGsD9pS2uf%2BCdX7Xdt%2B3D4at3j%2BFnxLurbRfjZYQIfK0u%2BLbLPXQo6Dc3lynvuJwzyjHrX7d/7M3jT9p34beGPFHwN8c2OkeOPAPii28V%2BBtQvYhNZXV1CjgW8%2BMnyZVfBZc4wpwRkHwqs8VicvnQmuavRlBtL7SjKMlJf44p6fzKUex9N4UZ1h8JxMsLm1VU706%2BHqTlfl5cRh6tKFV2Tag5Spyk0nyOM9Hy2PeqK8E/Yz/bk0X9pOXU/hP8SvCc3gb4t%2BEwI/GXw/1N8SxEYH2q1Y/8fFq%2BQVdScB1ySGR397r3cNiaGMoqrSd0/wAH1TW6aejTs0znzvI804czKeAzCnyVI2e6alFq8Zwkm4zhOLUoTi5RlFpp7pFFFFbnkhRRRQAUUUUAFFFFABRRRQAUUUUAFFFFABRRRQAUUUUAFFFFABRRRQAUUUUAFFFFABRRRQAUUUUAFFFFABXjPjj/AJSF/C//ALIz48/9O3hCvZq8Z8cf8pC/hf8A9kZ8ef8Ap28IUAezUUUUAFFFFABRRRQAV4z%2Bwf8A8kQ1z/ss3xH/APU11uvZq8Z/YP8A%2BSIa5/2Wb4j/APqa63QB5x/wVv8AGXiLVfgd4f8A2SPh5ftD4n%2BOXiy18K2kkXLW2nM4k1C5I7xpANj/AOzNXB%2BD/hHov7a/7XmofCDV440%2BBP7MNzp2i%2BH/AAfEubfXtfitVy912eO0UCMREYJIJ4d1NmX4h6H8TP8Agoj8U/2rvFcnm%2BBv2W/ANzpGlyE/u31qeB7nUpoyekkcCG2YepSvRP8AgkP8O9c8I/sT6J8QfGkf/FR/E3Vb7xv4imK486fUZjLG/PPNuIOtfIKKzTOPe1g29OjhSfKk/KVaUnbZ%2BzV7rQ%2Bq8Pq1TKckzri%2Bn7tZyp4HCz6wcvaSxFSD6SVKNSKmtY%2B0vFptSX04AAMAUUUV9efKhRRRQAUUUUAFFFFABRRRQAUUUUAFFFFABRRRQAUUUUAFFFFABRRRQAUUUUAFFFFABRRRQAUUUUAFFFFABRRRQAV4z%2By//wAlv/aO/wCyzWP/AKhXhevZq8Z/Zf8A%2BS3/ALR3/ZZrH/1CvC9AHs1FFFABRRRQAUUUUAFFFFABRRRQAUUUUAFFFFABRRRQAUUUUAFFFFABRRRQAV4z44/5SF/C/wD7Iz48/wDTt4Qr2avGfHH/ACkL%2BF//AGRnx5/6dvCFAHpfxK%2BHPgz4vfD/AFn4X/EPQ4tS0PX9OlsdUsZh8ssMilWGeqnnIYcqQCCCAa%2BXv%2BCeHxG8Z/AT4g67/wAEyfj3rkt3rfgW0F98MtfvThvEfhZmKw4PQy23%2BpdR0C4AIjZj9eV4r%2B1/%2Bxd4f/aoHhvxfo3xE1jwL498FXkt14O8deHkRrmwaVNksUiPxNA4xujJXO3G4AsG8zHYet7WGKw6vUho1e3NB7xu9L/ai3tJdpM8fMsJiPbU8bhVerDRq6XPB/FC70unaUG9FJW0UmUv2zP2HfDf7T0WmfEfwT4puPBHxV8JkzeCfiFpKYuLRxk/Z5wP%2BPi1Ykho2zgO2OGZW5/9kL9uLxH4y8dXH7JX7Xvha38FfGnRbfe9grY0/wAUWyg41DTZDxIjBSzRfeTDf3XCch/w0n/wUV/Y5/0X9rX4BxfF7wdbcN8SPhJbY1KGMf8ALS80psZOMszQlY0A6mt3xTJ%2Bwf8A8Fd/hhb23w9%2BLttP4h0GYX3h7XNDuTZeIvCt4pBEyxyBZohuUBgy7H2gg5VWXzHXpyxTq4R8ld/FSn7vtEvXTmXScXJdJXj8P6Hw1x7kGdYKHDfErlGnG/sZuP8AtGFbd3yJv9/h3LWpQjOSV3UoOnUvGp9U0V8fDxH/AMFZP2TAE8U%2BFvDf7R3hK24OpaFt0PxNFGP4ntzm3uCBjCx5kc5yRnNdv8D/APgqR%2ByL8ZfEP/CvdZ8X3vw/8ZowS58FfEqwbRtQikPRAJj5cjE5wqOzewr0qeb4RzVOtelN9Jrlv6S1jL5S%2BR6GN8O%2BIKeFnjMt5Mdh4q7qYaXteVd6lK0a9Lz9pQSX859FUUAhgGUggjgiivUPhAooooAKKKKACiiigAooooAKKKKACiiigAooooAKKKKACiiigAooooAKKKKACiiigAooooAKKKKACvGfHH/KQv4X/wDZGfHn/p28IV7NXjPjj/lIX8L/APsjPjz/ANO3hCgD2aiiigAryH9tf4kePvh58J9Isvhl4lbQtY8WeP8Aw74Yh8RJaQzvpMWoanb289zHHOjxNMIXkEXmI8YlaMujqCjevVzvxY%2BE/gH43%2BAr34Z/E3Q21DR794JJoYr2a2ljlhmSeCeGeB0lgmimijljlidZI5I0dGVlBAB86WHxl/aon/ZD%2BKFh4N8Qaj4q8d/D74jXfhm38UWug2supX2lxX1q01/HZwxJbz38GnXMuIkiEc1zagCECTyq86%2BFn7VX7Qnxw8cR/ss%2BHvjZ468PiH4zanoC/EzxB4G07T/Et7pNt4TsNcRHsLzTltba4a51FY8yWKMbW1z5SSSeYn1X4W/ZR%2BC/gj4e3Xwv8IWfiTTdIvbSeG6Fn481iO6lee6kup7s3Qu/tH22SeWSR73zPtLlvmlIAAy779hv9mnUPhnYfCmTwhrEVhpviCXXbPVbPxrq8GtJqkscsUt6dXjul1B7iSKeaJ5WnLPFI0bEodtAFb9lv9onWfHX7FfhP9oT4tW11dalL4dWXxA3hnw9dXr3lxE5glntrO0SWd1ldDIsUauwVwOcZrzT4DftJ%2BE/gr/wTq8fftRXtvdppukePfiVq1paavps9hcSyN4x1o29vJBcJHNBI8jRxmORUdWfDBSCK%2BmvAvgfwj8MvBOkfDjwB4fttJ0LQNMg07RtLs02xWlrDGscUSDsqoqqPYV%2Bd3jEn9om4%2BGv/BPqwPnWXir9on4j%2BK/iFCvKjQNM8ba3IIZR/cuJwEU/34hXBmeJnhcFKVP43aMf8Unyx/F3fkmeZnGLqYPLpzpfxHaMP8c3yx/F3flFlHx58LfGnwj/AOCUPgb9mu9vZV%2BJX7TXxAsE8T3hXFwbvVrlby7lkH/TO2jjgkPQc%2BtfpP4a8PaR4R8Oaf4T8P2a21hpdlFaWNunSKGNAiKPYKoH4V8o%2BOQP2gP%2BCwXg7wYg87RfgV8O7vX70DlF1jVGFtDEw/vC2UTKT0wcV9d1wZNhoU6tWUPhhy0o%2BlNe8/nOUm/NM/S89wlPhvgjIuHqX2aUsVU7ueIfLTv5/V6MZf8AcV99SiiivePhwooooAKKKKACiiigAooooAKKKKACiiigAooooAKKKKACiiigAooooAKKKKACiiigAooooAKKKKACiiigAooooAK8Z/Zf/wCS3/tHf9lmsf8A1CvC9ezV4z%2By/wD8lv8A2jv%2ByzWP/qFeF6APZqKKKACiiigAooooAKKKKACiiigAooooAKKKKACiiigAooooAKKKKACivHv%2BCg58cj9hz4sH4b/2n/bH/CBan9n/ALE3/btn2d/N%2BzeX8/n%2BV5nl7Pn37dvzYrxL9jnxf%2BxroGq/HHSPg/4r8C2HwFvEtptEt9C1C2h0KZ4dFjbXpLERMIzBHC1mbhofkSZpy5EploA%2Bzq8Z8cf8pC/hf/2Rnx5/6dvCFeQ/8Em/Ef7NvxLk%2BJPxq/ZPv/AmieB/E19ph8P/AA28CX1nt0e0hhmSPVL6ztG2afe6hlnMDKsghtbcSgTLMid7f6l8V7v/AIKbeC7Pxt4L8PafoVv8HvHA8NajpXiee8u79Dq3hLzGubaSyhS0IwmAk1wG3HJXaNwB9D0UUUAFeEftH/8ABN/9lX9pfWl8d%2BIfBlx4b8ZwyebZePvBF4dL1i3l7SefEMSsOxlV8dsV7vRWGIw2HxdP2daCkuzV/wDhn5pp%2BZzYrB4THUvZYiCnHs1f5rqn5pproz5E/wCGaP8AgqZ8DP3vwF/bl0D4jadF/qPDvxl8MEShR2OoWR86ViO7ADP41w/xw%2BNfxE8V%2BHv%2BEQ/4KWf8Eg9V8SaRApUeJvh4bfxLFED96aNEKXNkvqwcMBn6V950V5tTJk4OFKrJRf2ZWqR/8BqKX4SObBYPMcmxUcVlGOrYepB3i4zcuV%2BXM%2Bdf9u1F92h%2BWnwz8V/sV6POLD9hz/gr74y%2BDd1A2xPA/wAS2a50mwYf8sBbaskap/dJEr/U4r37wr%2B0F/wVO8AaUut3Pwn%2BFP7QXhtPu678LfFo02%2BePu7xXG6GR%2B%2ByHrwAa%2BpPiR8Dfgr8Y7Q2Pxb%2BEXhjxPFt2%2BX4g0K3vAB7eajY/CvAvFX/AARr/YK1fVW8S%2BBPhxq/gHWG%2B7q/gDxReabLH6bUWQxLg%2BiV5n9kZphf92kl/glOC/8AAJ%2B1p/Jcq9D7n/iJPHNfTPMJgs0XWVak6VZ/9x6Ps6l/OUp66tvW9LS/%2BCxv7Mnh29j0D9pbwP8AET4O6q7%2BX9l%2BIPgm6iid/wDpnPAsqMno52gjnivePhR%2B1D%2Bzh8dY0f4OfHbwl4ld1z9n0bX4J5l9miVt6H2YA18%2Baj/wTs/a48I2Mul/BP8A4Kh%2BPDpzLtOk/FDw3Y%2BKUmT/AJ5vJOEOO2QM14T8V/8Aglr%2B1drkj3fi/wDZg/Zg%2BIihtxv9AtNS8I6xK45Dl7Jo4N3fLZ568UfX%2BI8L/Eo86/wq/wB9Ocl/5IvQX%2BsHhxjv98yrH4CXehOhjqS9ITdCvb/t%2BTP00or8kF%2BF/wDwUV/Z5P8AxRPwv/ab8CQw/wCqtfC3j3TfiBpaAdDFYTCNlH%2By0hJx1p6/8Fbf2%2BvgScfE/WrC7tIR/pH/AAt74K6x4cviB6f2YJ4Fb65FP/WzD0f96ozp/K6/FQYfUOBsXrgeIcPF/wAuLp4nBT9G61CrR/8AK1vlqfrZRX5oeAv%2BDjDwqsCy/Fz9nOJIFIBvvBnj6wvnn90s7n7PMvsrHNe2eDP%2BC6f/AAT68RxQv4u8YeJ/BrTkCJfFXg%2B7QEntvt1mQfUtj3rtocT5BiPhxEV/ivH81b8TrpcBcTY3XLqdPGJ7PC18Pib%2BioV5z/8AKX%2BR9h0V5P8ADv8Abu/Yv%2BK/lx%2BAP2pvAeoTS42WY8T20dwf%2B2MjrIP%2B%2Ba9Vtrq2vbdLuzuElikXdHLE4ZWHqCOCK9ijiKGIjzUpqS8mn%2BTZ89mOUZtlFX2WPw9SjLtUpzg/unCP4XH0UUVseeFFFFABRRRQAUUUUAFFFFABRRRQAUUUUAFFFFABRRRQAUUUUAFeM%2BOP%2BUhfwv8A%2ByM%2BPP8A07eEK9mrxnxx/wApC/hf/wBkZ8ef%2BnbwhQB7NRRRQAUUUUAFFFFABXwT/wAEifg/rWo/tA/tH/tVeOAxC/Gnxn4O8FmcY%2BzaZbeJ9Sursof7kl3MT7NC9fe1fD/xB%2BM0v7Pv/BKn4w%2BNdCzHqt58TPiVpOhpbr%2B8e/v/ABxrNrEyAfedWm8z/gBNefmKo06SxNXaledu7UZJfdfTzaOvKuHK3FPEOAy6j8dStCMe3NN%2BzTflHnlL/t1vTc6b/glCjfFiL4v/ALbl6hdvi38TLttCuWHMmh6aTZWIz7bZh6cCvrqvPP2TPgpa/s5fsz%2BBfgdbRor%2BGvDNpZ3jR9JLoRg3EnH9%2BYyN/wACr0OnleHnhcvp05/Fa8v8Uryl/wCTSf3H0XHeb4bPOL8Zi8L/AAOfkpeVGko0aK/8FUoP1k%2B4UUUV3nyQUUUUAFFFFABRRRQAUUUUAFFFFABRRRQAUUUUAFFFFABRRRQAUUUUAFFFFABRRRQAUUUUAFFFFABRRRQAUUUUAFeM/sv/APJb/wBo7/ss1j/6hXhevZq8Z/Zf/wCS3/tHf9lmsf8A1CvC9AHs1FFFABRRRQAUUUUAFFFFABRRRQAUUUUAFFFFABRRRQAUUUUAFFFFABRRRQAV4z44/wCUhfwv/wCyM%2BPP/Tt4Qr2avGfHH/KQv4X/APZGfHn/AKdvCFAHs1FFFABRRRQAUUUUAFFFFABRRRQAUEAjBFFFAHC%2BOv2X/wBmr4obz8SP2fPBOvtJ999Z8K2lyxPrukjJz715H4w/4I8/8E1vG7M%2Bq/so6FauxyH0W8u9P2n1AtZowPyxX0tRXHWy7L8T/Fowl6xi/wBP1ODEZVleLd6%2BHhL1hF/jy3/E%2BFfHH/BvH/wT98YO0umz%2BPNCcj5DpnigTbfb/S4ZjiuHg/4N3dH8C3LXnwF/bt%2BIvhCXcWjkjt1ZlPrm2lt8/pX6RUV5lThbh%2BpLm%2BrxT7xvF/8AkskehhKuNy6j7LBYmvRh/LTxGIhH/wAAjX5P/KZ%2Be%2Bnf8E4v%2BCu3wtx/wqb/AIKz3eseX/qh4y0mWcHHTP2lrz%2Btben6P/wcI/DePE3ir4D/ABBCDg3UVxbvJ9fLitFB/Svu2iqjw/hqX8GtVh6VZNfdLmM608yr/Hi6r/xOE/vc6Lk//Aj4m0j9rP8A4LNeDYZJ/ib/AMEv/DviOOMHdN4R%2BJlnabvdY5JbiQ/TFSaR/wAFYPj9o9y0Pxe/4JNfHjSkjBMsvhnRG1lFx33eXCpHvmvtWitFluYU7ezxk/8At6NOX/tsX%2BJxyw2OlzNYmV3t7lLT5KMfxPiGb/gvl%2Bx3oN//AGd8Svhb8XPBsgbDjxP4IWEofcRzu36V03h//guh/wAEwde2pJ%2B0ZJYSN0j1DwlqiY%2BrLbFB/wB9V9bsqupR1BBGCCOCK4rxj%2BzR%2Bzj8RN3/AAsD4AeCdc3nLf2x4Vs7nP18yM1Lw/EMPgxFOX%2BKm1/6TP8AQ2hhsRdc2Ja/7g05flVhb72eZ6F/wVY/4J0%2BItv9n/tfeDY93T7ffm1/PzlTFdloX7bn7GXifA8Pfta/DS9ZuiW3jrT3b/vkTZFcV4r/AOCUP/BObxnuOsfsh%2BEId/X%2ByrN7D8vszR4/CvNPFf8AwQG/4Jp%2BI9x0n4W65oRbvpPi28bb9PtLy1lKpxVT2p0Z/wDb1SP5pnoUsDGe%2BPhH/Fhq35068vyPrHRviv8AC3xHt/4R74laBf7vu/YtZglz9NrGt5HSRQ8bBlIyCDkGvzq8R/8ABtT%2Bx3db38I/GP4h6a79FvLiwu0X6D7KjY/4FXEXf/BtTcaBcG8%2BGf7b%2BqWGDlbe78KMA31eC9jI/BaxlmXE1P4sDGX%2BGrH9Yo9ClkMq3wZng/8At/67Tf44Wql85H6m0V%2BVF9/wRL/4KK%2BFYzH8Mf22dL%2BX/VvN4p8RWB/8hTSgVRg/4J1/8FsvAuTF%2B054t10J92LQvj9ewx/8BW%2BtDj8TWbz/ADWm/wB5l1T5OL/L/I6ocIZ9VjejicBU8lmFOD%2B6thqX4yR%2BstFfkzL8MP8Aguj4Mfa1n8ZJIU6XVp8V/DurFv8AtlJAjn8ab/wtr/gsd4Q/5DPjL9pC0CfeWy%2BAHh/xB%2BAK3CbqX%2BtKj/EwlWP/AG7/AMA0/wBRePpfwsBTq/8AXrH5bU/D65Tf5H60UV%2BS/wDw3p/wUI8Lj/irf2ivibpW373/AAmn7JK2mP8Ae%2ByzyY/Cn2//AAVs/aC0qZbXVv8AgoN8JbWcnAg8VfBXxHZkn3MNuwH50f635avjjKPryr85RE%2BAfFFK8eHMbP8A6906db8aOIqo/WWivzD0L/gqv%2B1hqG3%2Bx/20v2ML9T/0GB4l09z/AN9ooB%2Btdlon/BRr9t7VNq6f8Wv2K9Zc/wDLLTPi3PE5/wCAyy5H4iumHFGWVNlL7ov8qjPHxWScZ4D/AHrIswp/4sFX/NRkj9CqK%2BJdD/bQ/wCClmrEDR/gD8CPEGen9hfGSH5vpuzXRxftSf8ABWG3jEsv/BL/AMPaipGQ%2Bn/G3Toww9vMjNdUc7wk1dQqf%2BC5v8rnz9fNPqkuXEYavTfaWHrJ/c4n1vXjPjj/AJSF/C//ALIz48/9O3hCvMP%2BGzv%2BCmNn/wAhf/gkDfrjqbL43aNcfoIxVT4KfHb48fGr/goX4MT43/skaz8LH0v4M%2BMv7OGq%2BIbXUF1PzNW8K%2BZsNuBt8vy0zu6%2BaMdDXRQzPDYiqqcVJN96c4r73FL8Qw2cYPFVlSgppv8Amp1IrvvKCS%2BbPsCiiivQPUCs3xh4y8IfDzwvf%2BOPH/ivTdD0XS7ZrjU9Y1i%2BjtrWzhUZaSWWQhI0A6sxAFaVeIft/eG/EWu/BPRtW0TwpqWv2nhv4l%2BFdf8AEGh6Pp0l5dXmm2OtWlzcGK2iVpLl4Vj%2B0iFFaST7PtRXcqpAPTNN%2BMPwj1n4ZD416P8AFPw5d%2BDDp7348W22uW8mmfZEBL3H2pXMXlKFbL7to2nJ4rnrr9rz9k6x%2BF0Hxwvf2n/h3D4Kur42Vt4vl8a2C6XNcjcDAt2ZfKaQbH%2BQNu%2BVuODXyt4j8K%2BNPGH7DPxp8P6L8HvGsR8a/Em88VeGtBfwhf22o6fo0%2BuWxk1GG2khUm%2BVoLvVo9OcefIzxrLDmZkPnMPw2%2BKlrfw/Ee8vPjlp2jSfHfXNYtfjZpnwokm8a3cM3hKysUuLnw//AGTJHFHJOtxYCX%2Byo1EOnW7%2BWjTm7YA/SvStV0vXdLttb0TUre8sry3SezvLSZZIp4nUMkiOpIZWUggg4IIIr85px/wvH4sfBL9kKD99ZL%2B0f8TvH3iyIdEtNK8Y64bVZB3jlndkx0yor6y/Y58DfFrwb/wT8%2BGnw4sdB0rwH4u0n4caVYQ6dq%2BkT31tpM0VtHGEmthdxyuQq/NH9p3KxIMjYyflX/gjF4G8eeM/2pf2hvjt8U9SsdSvfB3xE8T%2BAdI1PTNNe0tpXPijVNT1ExQyTTNChuLiJlQyyFQ%2BC7EZPlZtGVaFLDrapOKf%2BGPvy%2B9RS%2BZ994f1aeW4rHZzN2lhMNVlT/6/VUsNSt5xlXnPy5L9D9GaKKK9U%2BBCiiigAooooAKKKKACiiigAooooAKKKKACiiigAooooAKKKKACiiigAooooAKKKKACiiigAooooAKKKKACiiigAooooAK8Z/Zf/wCS3/tHf9lmsf8A1CvC9ezV4z%2By/wD8lv8A2jv%2ByzWP/qFeF6APZqKKKACiiigAooooAKKKKACiiigAooooAKKKKACiiigAooooAKKKKACiiigArxnxx/ykL%2BF//ZGfHn/p28IV7NXzh%2B0fq/xr0f8Abw%2BE8/wO%2BH/hbxFqTfCPx2t3aeK/GFzosEcH9qeEiXSW30%2B9Z33bRsMajBJ35AUgH0fRXjP/AAnH/BQv/o1/4M/%2BH41b/wCZej/hOP8AgoX/ANGv/Bn/AMPxq3/zL0AezUV4z/wnH/BQv/o1/wCDP/h%2BNW/%2BZej/AITj/goX/wBGv/Bn/wAPxq3/AMy9AHs1FfOPwR/aO/bt%2BPHwY8IfHHwr%2Byh8JLXS/GfhfT9d0221D466os8MF3bR3EaSBPDDKHCyAMFZhkHBI5rqP%2BE4/wCChf8A0a/8Gf8Aw/Grf/MvQB7NRXjP/Ccf8FC/%2BjX/AIM/%2BH41b/5l6P8AhOP%2BChf/AEa/8Gf/AA/Grf8AzL0AezUV846t%2B0d%2B3bo/xn0D4HXH7KHwkbVPEXhfV9ds7lPjrqnkRwadc6bbzI5PhjcHZtUgKgKQQkmSpChuo/4Tj/goX/0a/wDBn/w/Grf/ADL0AezUV4z/AMJx/wAFC/8Ao1/4M/8Ah%2BNW/wDmXo/4Tj/goX/0a/8ABn/w/Grf/MvQB7NRXzj8bv2jv27fgP8ABjxf8cfFX7KHwkutL8GeF9Q13UrbT/jrqjTzQWltJcSJGH8MKpcrGQoZlGSMkDmuo/4Tj/goX/0a/wDBn/w/Grf/ADL0AezUV4z/AMJx/wAFC/8Ao1/4M/8Ah%2BNW/wDmXo/4Tj/goX/0a/8ABn/w/Grf/MvQB7NRXjP/AAnH/BQv/o1/4M/%2BH41b/wCZeuX0n9o79u3WPjPr/wADrf8AZQ%2BEi6p4d8L6Rrt5cv8AHXVPIkg1G51K3hRCPDG4uraXOWBUAB48FiWCgH0dRXjP/Ccf8FC/%2BjX/AIM/%2BH41b/5l6P8AhOP%2BChf/AEa/8Gf/AA/Grf8AzL0AezUV4z/wnH/BQv8A6Nf%2BDP8A4fjVv/mXrl/jd%2B0d%2B3b8B/gx4v8Ajj4q/ZQ%2BEl1pfgzwvqGu6lbaf8ddUaeaC0tpLiRIw/hhVLlYyFDMoyRkgc0AfR1FeM/8Jx/wUL/6Nf8Agz/4fjVv/mXo/wCE4/4KF/8ARr/wZ/8AD8at/wDMvQB7NRXjP/Ccf8FC/wDo1/4M/wDh%2BNW/%2BZej/hOP%2BChf/Rr/AMGf/D8at/8AMvQB7NRXzjpP7R37dusfGfX/AIHW/wCyh8JF1Tw74X0jXby5f466p5EkGo3OpW8KIR4Y3F1bS5ywKgAPHgsSwXqP%2BE4/4KF/9Gv/AAZ/8Pxq3/zL0AezUV4z/wAJx/wUL/6Nf%2BDP/h%2BNW/8AmXo/4Tj/AIKF/wDRr/wZ/wDD8at/8y9AHs1MubW2vITb3duksbfeSRAwP4GvnT43ftHft2/Af4MeL/jj4q/ZQ%2BEl1pfgzwvqGu6lbaf8ddUaeaC0tpLiRIw/hhVLlYyFDMoyRkgc11H/AAnH/BQv/o1/4M/%2BH41b/wCZegabTujude%2BAfwK8U7v%2BEn%2BC3hLUt33vt/hy1mz9d8Zrjdb/AOCff7CniLJ1X9jr4ZOzfeki8EWMTn/gSRA/rUH/AAnH/BQv/o1/4M/%2BH41b/wCZej/hOP8AgoX/ANGv/Bn/AMPxq3/zL1zzweDq/HTi/WMX%2BcWexheI%2BIsD/u2NrU/8NarH/wBJqpfgctrn/BIn/gm34g3fb/2SvDce7r9hkubX8vJlXFc5L/wRF/4JwwSGfw38GdW0SRjkyaR451eM59fmumA/KvTP%2BE4/4KF/9Gv/AAZ/8Pxq3/zL1y/gH9o79u34ieK/G/hDR/2UPhJDceA/FEWharJc/HXVAk88mlafqYeLb4YJKeTqMKksFO9HGMAM3JLJMmm7vDQ/8Aj%2BiR9BQ8T/ABIw0eWnnOKS7fWKrX3SnJfgcz/w50/Z7sP%2BRR%2BOnxs8P4%2B7/Y3xRu02/TeHqn8FP2Tov2XP%2BChfgyO2/aM%2BKnj2HW/gz4y8uH4l%2BL/7VGm%2BTq3hXi1zGhiEnmjf13eVH0xz61/wnH/BQv8A6Nf%2BDP8A4fjVv/mXqh4H8D/tWeMf2rPDnxu%2BN3w4%2BHvhnRvDPw98Q6HDD4V%2BId9rV1d3WpX2iXCMyXGkWKRRomlygsHdi0qALjJF0Mqy7DVVUpU1Frs5flzW/A5s04/4zzzATweYY2VWnO11JUm3Zpr3vYqa1S2qK%2Bzurp%2B60UUV6B8eFFFFABRRRQAV4F/wTm8E6D4P%2BDPjO80a22Ta78ffiVqWpSHrLO3jHV4tx%2BkcUaj2QV77XyV%2ByV4s/bO0/wCHviiz%2BGPwD%2BGGr6Enxp%2BIv9n6jr3xd1HTbuZf%2BEz1ksZLaLQLlIiG3AATPkAHIJ2hOMW02tjSNWrCnKEZNKVrrvZ3V/R6rzPrWivGf%2BE4/wCChf8A0a/8Gf8Aw/Grf/MvR/wnH/BQv/o1/wCDP/h%2BNW/%2BZemZns1FeM/8Jx/wUL/6Nf8Agz/4fjVv/mXrl/H37R37dvw78V%2BCPCGsfsofCSa48eeKJdC0qS2%2BOuqFIJ49K1DUy8u7wwCE8nTplBUMd7oMYJZQD6Oorxn/AITj/goX/wBGv/Bn/wAPxq3/AMy9H/Ccf8FC/wDo1/4M/wDh%2BNW/%2BZegD2aivGf%2BE4/4KF/9Gv8AwZ/8Pxq3/wAy9H/Ccf8ABQv/AKNf%2BDP/AIfjVv8A5l6APZqK%2BcfhF%2B0d%2B3b8ZfCl34v8OfsofCS2t7PxRrehSR3vx11RXM%2Bl6rdaZO42%2BGGGxprSRkOclGUkKcqOo/4Tj/goX/0a/wDBn/w/Grf/ADL0AezUV4z/AMJx/wAFC/8Ao1/4M/8Ah%2BNW/wDmXo/4Tj/goX/0a/8ABn/w/Grf/MvQB7NRXzj4%2B/aO/bt%2BHfivwR4Q1j9lD4STXHjzxRLoWlSW3x11QpBPHpWoamXl3eGAQnk6dMoKhjvdBjBLL1H/AAnH/BQv/o1/4M/%2BH41b/wCZegD2aivGf%2BE4/wCChf8A0a/8Gf8Aw/Grf/MvR/wnH/BQv/o1/wCDP/h%2BNW/%2BZegD2aivGf8AhOP%2BChf/AEa/8Gf/AA/Grf8AzL1y/wAEf2jv27fjx8GPCHxx8K/sofCS10vxn4X0/XdNttQ%2BOuqLPDBd20dxGkgTwwyhwsgDBWYZBwSOaAPo6ivGf%2BE4/wCChf8A0a/8Gf8Aw/Grf/MvR/wnH/BQv/o1/wCDP/h%2BNW/%2BZegD2aivGf8AhOP%2BChf/AEa/8Gf/AA/Grf8AzL1y%2BrftHft26P8AGfQPgdcfsofCRtU8ReF9X12zuU%2BOuqeRHBp1zptvMjk%2BGNwdm1SAqApBCSZKkKGAPo6ivGf%2BE4/4KF/9Gv8AwZ/8Pxq3/wAy9H/Ccf8ABQv/AKNf%2BDP/AIfjVv8A5l6APZqK8Z/4Tj/goX/0a/8ABn/w/Grf/MvR/wAJx/wUL/6Nf%2BDP/h%2BNW/8AmXoA9mor5x%2BCP7R37dvx4%2BDHhD44%2BFf2UPhJa6X4z8L6frum22ofHXVFnhgu7aO4jSQJ4YZQ4WQBgrMMg4JHNdR/wnH/AAUL/wCjX/gz/wCH41b/AOZegD2aivGf%2BE4/4KF/9Gv/AAZ/8Pxq3/zL0f8ACcf8FC/%2BjX/gz/4fjVv/AJl6APZqK%2BcdW/aO/bt0f4z6B8Drj9lD4SNqniLwvq%2Bu2dynx11TyI4NOudNt5kcnwxuDs2qQFQFIISTJUhQ3Uf8Jx/wUL/6Nf8Agz/4fjVv/mXoA9morxn/AITj/goX/wBGv/Bn/wAPxq3/AMy9H/Ccf8FC/wDo1/4M/wDh%2BNW/%2BZegD2aivGf%2BE4/4KF/9Gv8AwZ/8Pxq3/wAy9cv8Ef2jv27fjx8GPCHxx8K/sofCS10vxn4X0/XdNttQ%2BOuqLPDBd20dxGkgTwwyhwsgDBWYZBwSOaAPo6vGf2X/APkt/wC0d/2Wax/9QrwvR/wnH/BQv/o1/wCDP/h%2BNW/%2BZerf7K3w5%2BNPg/WPih47%2BOmgeF9J1Tx98Qotcs9K8J%2BJbnVre1tYtB0fTFV7i4srNmkaTTpXKiLaFkQbmOcAHrdFFFABRRRQAUUUUAFFFFABRRRQAUUUUAFFFFABRRRQAUUUUAFFFFABRRRQAV8r/tPftafFz4YfGPxZrXgHw74Pk8MfB/w/4fvfGp1rSLibVdUt9Xv5UuYLC4juI0svItrOO4zJFOLmQpGRD5fmn6orxn4z/sQ/Dj43fFI/EzXPHPirS4tRtdItfF/hrRrq1TTvFMGl3sl7YxXyy28kwWOaaXP2eWAyxyGKYyxhUAB7NRRRQAVz3xQtfije%2BDbi1%2BDniXw9o%2BvNJH9n1PxRos%2Bo2cEe8GRnt4Lm2eU7NwUCaMbiCTgYPQ15/wDtRfs%2B6f8AtTfA7W/gPrXxK8UeFNP8QRxQ6nqng%2B4tYr2S2WVXktt11bzxmKZVMUqmM74pHXI3GgDB/YZ%2BL/iD43fs6ad401/S9CiSDV9U0rSdR8K2MlrpWsafZX89pa6jZQSSSNDa3EMMc0aeZIoRwUkkQpI3r1cz8Ifh3f8Awp8A2PgO%2B%2BImseKBp6eXb6nrdjpttMsI4jhEem2lrboiKAqhIVwoGSTzXTUAFFFFAHzZ42/a08Wy/t7%2BAfgf8PfB2gXfhSTU9U8OeMPFd/bSPepqn9jzasLGwkV1VBElpatcllkVzdQou14JNv0nXini7/gnd%2Bxt4w/aE8L/ALUlx%2Bz74RsvHHhfxFPrieINO8KadHdaneyWstuJbyc25mmZPN85G3qyyxRvuO3B9roAKKKKAPHv27/2g7H9mn9m3U/H11o2n6hLqWsaT4csbTV7KW6tGn1XULfTkeeCEGW5iQ3PmNBGPMmVDEnzutbP7KnxXvfjF8JU8Uax8StF8Uajb6pdWOp3ui%2BCr/w4LeeKQq1tPpmo3E91ZzxjAeOZ9x4baoYCtr44/Bnwx8fPhzcfDjxVf39jG2oWOo6fqmlSRrd6bf2V3De2d5AZUkj8yG5ghlUSI6MU2ujqWU1PgJ8BtB%2BAPhvVNI03xZrfiHUtf1%2B41vxJ4k8RyW7Xuq38yxo00gtoYYExFFDEqRRRoqRIAuckgHc0UUUAFfHmr/tw/FjR/wDgoXL8BovC/hyDRZfH1j4SkMvgzUPOu7JtAOqreN4iE/8AZ0VwlxNLEmjPEbtkJmXCThq%2Bw68Ruv2E/h5d/Gqb4tSfErxiNMufG8HjK58ALd2f9iy6/DaR20d%2BSbX7YGCxRSeSLkQGWMSGIsSSAe3UUUUAFfLn7VH7WPxQ/Zw%2BL3jiy%2BJWjeEvEXwvsP2d/F/j220K30S4TVXbRBpaz21xcyXL280U6304CC2QqETLvlhX1HXhnxj/AGFfDvx0%2BOrfGXx58dvHMumzeCtT8I33w9hg0X%2BxLvRtSW2%2B32khfTWvSJ2tIHZxdB1KEIyIzIQCf9mf4v8Ax81T4ueMv2df2ln8JXnijwx4Y8PeJY9V8FaTc2NlJZas%2BpW62xhubm5cyw3GkXYMokCyI8TeXGdy17ZXmH7O/wCy7of7Pt9rXiOf4oeLfG/iHX7Wwsr/AMT%2BNrm0kvTYWKSLZ2Y%2ByW1vH5URnuHBKGR3uZXd3Zs16fQAVzXxik%2BJsPwy1if4Oa1oOneJYrXfpl74m0qa%2BsYirAuZYIJ7eSUeWHwqyx/MVy2M10tYXxM8Hap8QfAep%2BC9G%2BIOs%2BFbjUbfyU8QeH4bOS8swSCzRLe29xbkkAqfMhcYY4AOCAD5b1v9q39pSy/ZJ%2BFX7b%2BhyfDRLjxx4F8HTat4Kk8J3smp%2BJtW1MxP/ZunXa36/ZQDdyeQskN3tLSM5VA719g18t%2BDP%2BCXtn4Dm%2BGE2ifttfGR/wDhUPhQeHvBUd7b%2BFZ4rW12LD5hjfQin2n7MiWv2lQsvkhl35lmaT6koAKKKKAPmjUP2pfHfgD4tfHX4e/tKWvhfXfCvhHwv4e1Twjpfhnw7PHfalHrV5q9lBpE63F1LHe3U0ljbQx7EgR5LooUxhq7P9hD42fGH4%2B/s/v43%2BPmieHtO8W2PjnxToGr2fhUTfYY20vXr7TUEZmdnf5LVSzkqHbcwSMEIuRqX/BPr4beM/jl4y%2BMHxn%2BImvfETSfHWm2Fhrfw18deH/Dt94c%2Bz2Fxc3GnosP9lLcE20t5cMjPO7EuDIZCiFev/ZW/ZF%2BBH7GPgHVPhp%2Bz94HsNC0jV/FureIbu2sNMtbVTc393JcsgW2iiXyoVdLeEEFkt7eGPc2wGgD0yiiigDxf/goL8Xfjh%2Bz9%2ByP40%2BPXwCvfCkeseCdCu9cuoPGGi3N9bXdpa20sz26JbXVsySuyIokLlUBYlH4Fee65%2B20LP8Abj139n3Q/GPhXwho/h7xLoWk%2BJpdY%2BHmq6hPr%2BralaW8sMX9p200NlpTPDNZ29u135z3M26JEHlKH9j/AGsf2cbL9rT4Ea9%2Bz7rXxV8U%2BEdJ8T2Utjrl/wCEF077Xc2UsTxTW26/tLqNEdX5ZEWQFRtdec8Xf/sAeD9e8X2ni7xb8c/H2rebquhav4u024bSYbXxbqujzxT6dqF%2Bttp8TJNE9va5W0a2ikW0iWSN1BDAHvdFFFABRRRQAUUUUAFFFFAFHxR4hsPCXhrUfFeqhza6ZYzXdyIly3lxoXbA7nCmvnP9ib9pP41%2BP/FOj%2BDPjZ4e8GWY8dfC2y%2BI3hmHwZpVxaDTI7y4Ju9PuzNcSi7mje5tn%2B2IIBO0sxMEe0F/pa7tLW/tZbG9t0mhmjaOaKVQyupGCpB4II4xXkP7M37FfgL9mDVX1fQPiD4t8Sy23hix8M%2BHR4svbWYaBoVm8j2%2Bm2pt7eEtGpk%2BaWczXEgji8yZ/LXAB7FRRRQAV4R%2B3x8SvjP8DPhDffH/AOGviL4f29p4J0u61JtJ8Y%2BFLzUbvWtRKeTaafYS295AbS4uWla1RxFcuz3SKsT5KP7vXj37Sv7IMH7SXjzwR8QJv2gfHfhC58A3dze6LY%2BGItGns5L2VBGt5NBqenXiPPDH5iwyAKYxPKR8zZAB6zpN1d32l217f6c9nPNbo81pI4ZoHKglCRwSDxkccVYqKygltbOK1nvZbl44lV7iYKHlIGC7BFVQT1O0AZPAA4qWgArE%2BJHxD8IfCTwDrHxO8fastjoug6dLfaldFGcpFGpZtqqCzscYVFBZmIUAkgVt1keO/AHgT4peEb74f/E7wVpHiPQdUh8rU9E17TYryzu48htksMqski5AOGBGQKAPHv2Bvjj8XPjd4U8fv8Z/hvoXhLVPDfxMvNNt9A0OFlNpbTWdlqKR3bGR1lvVN%2B6zyx7Y3lVmVQDk%2B8V5V%2BzF%2Bxb%2Bzl%2Bx3P4yf9nn4ZaP4Zh8ceJBrOrWej6LZ2UMUi20NulvCltDGFgQRM6o24q88xB%2BfA9VoAKKKKAPlX9o79toeDP2wLT9ny18Y%2BFfC9j4T0bRNe1/xD4p%2BHmq66hbVbu9sYYUnspoYdEGy2mQ3147Rs14iKjbZRX1VXjHx7/Yg%2BHP7QPjS98Xa9478VaND4g0Ox0TxzomgXFmlp4r0yzuZ7m2s7wz20syIj3V2N1rJbyMlzIjOw2hfZ6ACiiigDhf2oPil4j%2BB/7Nvj74zeD9AstV1bwp4N1LV9N03Ur9LW3up7e2klSOWZyqxozIAWJAAJ5HWvMP%2BCev7SHjX486F4z8N%2BLrbSfJ8Ea5Z6Xo9zp/w91PwfLLbSabbXKrLoWqzS3liIzKY0eRgkyKHjUKMn2H41/CHwd8fvhJ4i%2BC3xAjum0bxPpM2n6gbG5MM8aSKRvikHKSKcMrdmUHB6Vg/Ab9nHTfgfqniTxbqHxO8UeNfE3i25tZNd8UeLmsRdTx20Pk28Cx2Fra28ccalyAkKktK7MWLZoA9GooooAo%2BJk8SS%2BG9Qj8G3NjBrDWMo0qbU4Hlto7nYfKaVEZGeMPtLKrKSMgMDzXyB8Pf2rf2t/jHo3w%2B8DeD7f4Xw/FfWI/iTJqPibUvCV82kfYPDPiKHRnht7VdQFxA13NPprsWupFjEcjFJSqKPsPXdPu9X0S80rT9dutLnurWSKDU7BImntHZSBNGJo5Iy6EhgJEdMgblYZB%2BafC3/BL/QvCXg%2Bz8PaZ%2B2D8YP7V03VvEF3pni5ZPD0Op2kGuXLXerWKmHR0hNvc3TLcHdE0sUkMRhkiEagAHtf7Nnxm0/8AaO/Z08A/tDaVpEmn2vjzwVpXiK2sJpNz20d7ZxXKxM2BkqJQpOBnFdrWR8PvAfhP4WeAtE%2BGPgPR49O0Pw5pFtpei6fESUtrS3iWKGJc5OFRFUZ9K16ACvF/jd8Xfjh8Nv2qvg34K0K98KSeA/iFrt/oetWV3oty%2Brx3cOiarqaXEF0t0sMcWbCGMxtbyM3mOQ6YFe0V5J8ef2Ubr46/FrwF8Wh%2B0d498JyfDvVX1PRtF8MW%2BiNZXF3Ja3VnLLP9u025mbfa3k8BVJUUKwZQsiiQAHOfs%2BfFT446d%2B0lrX7LXxK1HwDrtn4f8DWWsG8%2BH3he60mHw08tw8NvpdzHPeXSytJDG0sToYCEt2LQqrxmvfq8Z/ZR/Y5X9lCXXP7M/aO%2BIHjODxFqd1qmqweNYdEd59RuJQ8l5JcWOmW1xNLtVYlEsrokKJGiKscYX2agAqj4mTxJL4b1CPwbc2MGsNYyjSptTgeW2judh8ppURkZ4w%2B0sqspIyAwPNXqq67p93q%2BiXmlafrt1pc91ayRQanYJE09o7KQJoxNHJGXQkMBIjpkDcrDIIB8RfE3/goZ8dfAH/BP7U/jxa%2BEvAviD446Ta/ENdPSHQ7q30dNP8NanfQ32oSQG6kuYbVotOtFMYuDvurq1jLqGDp9w6dcPeafBdygBpYVdgvTJANfLc//AASB/Zd8X/s%2BeIv2efj7qGo/FS21oeITpPij4g%2BGvDlxrPheXWpp7m/m0u4t9KhW2ka5uHuFZkfZIsePkRUH0x4N8H%2BFvh74S0zwH4H8PWWk6No1hDZaVpem2iQW9pbxIEjijjjASNFUABVAAAAAAoA0qKKKAPm746ftZ/FX9m79o/xFafEM%2BG9Q%2BGWn/ArxP4%2Bs7PS9GuY9bgfRH0pZo5bl7poJklF9OVRbeMp5ceXbJFaH7Af7Qms/HDwffWXibx74Ou77S9N0u5i8LeFvh5q3h7%2BwrS5ikMCj%2B0pmbUbV/KdIL%2BCKCCcW8pRPlKpp/FX9iHRPjH%2B0HH8dfGfx38cSWI8H6j4Vuvh9Hb6IdDu9I1AWxvrWQvprXpWZ7O3dmF0HUoQjIjMh2v2ef2UPD37Puv6v4xb4o%2BLvGeuavoml6I2teMbizee20rTjdNZ2UYs7W3j2Rve3TmR0eaRpiZJH2ptAPVKKKKACiiigAooooAKKKKACiiigAooooAKKKKACiiigAooooAKKKKACiiigAooooAKKKKACiiigAooooAKKKKACiiigAooooAKKKKACiiigAooooAKKKKACiiigAooooAKKKKACiiigAooooAKKKKACiiigAooooAKKKKACiiigAooooAKKKKACiiigAooooAKKKKACiiigAooooAKKKKACiiigAooooAKKKKACiiigAooooAKKKKACiiigAooooAKKKKACiiigAooooAKKKKACiiigAooooAKKKKACiiigAooooAKKKKACiiigAooooA//2Q%3D%3D\">"
      ]
     },
     "metadata": {},
     "output_type": "display_data"
    },
    {
     "ename": "KeyboardInterrupt",
     "evalue": "",
     "output_type": "error",
     "traceback": [
      "\u001b[0;31m---------------------------------------------------------------------------\u001b[0m",
      "\u001b[0;31mKeyboardInterrupt\u001b[0m                         Traceback (most recent call last)",
      "\u001b[0;32m<ipython-input-142-58f13f9820fc>\u001b[0m in \u001b[0;36m<module>\u001b[0;34m()\u001b[0m\n\u001b[1;32m     18\u001b[0m     \u001b[0mtrain_loss\u001b[0m \u001b[0;34m=\u001b[0m \u001b[0mnp\u001b[0m\u001b[0;34m.\u001b[0m\u001b[0mmean\u001b[0m\u001b[0;34m(\u001b[0m\u001b[0mbatch_losses\u001b[0m\u001b[0;34m)\u001b[0m\u001b[0;34m\u001b[0m\u001b[0m\n\u001b[1;32m     19\u001b[0m     \u001b[0mval_loss\u001b[0m \u001b[0;34m=\u001b[0m \u001b[0ms\u001b[0m\u001b[0;34m.\u001b[0m\u001b[0mrun\u001b[0m\u001b[0;34m(\u001b[0m\u001b[0mloss\u001b[0m\u001b[0;34m,\u001b[0m \u001b[0;34m{\u001b[0m\u001b[0minput_X\u001b[0m\u001b[0;34m:\u001b[0m \u001b[0mX_val_flat\u001b[0m\u001b[0;34m,\u001b[0m \u001b[0minput_y\u001b[0m\u001b[0;34m:\u001b[0m \u001b[0my_val_oh\u001b[0m\u001b[0;34m}\u001b[0m\u001b[0;34m)\u001b[0m  \u001b[0;31m# this part is usually small\u001b[0m\u001b[0;34m\u001b[0m\u001b[0m\n\u001b[0;32m---> 20\u001b[0;31m     \u001b[0mtrain_accuracy\u001b[0m \u001b[0;34m=\u001b[0m \u001b[0maccuracy_score\u001b[0m\u001b[0;34m(\u001b[0m\u001b[0my_train\u001b[0m\u001b[0;34m,\u001b[0m \u001b[0ms\u001b[0m\u001b[0;34m.\u001b[0m\u001b[0mrun\u001b[0m\u001b[0;34m(\u001b[0m\u001b[0mclasses\u001b[0m\u001b[0;34m,\u001b[0m \u001b[0;34m{\u001b[0m\u001b[0minput_X\u001b[0m\u001b[0;34m:\u001b[0m \u001b[0mX_train_flat\u001b[0m\u001b[0;34m}\u001b[0m\u001b[0;34m)\u001b[0m\u001b[0;34m)\u001b[0m  \u001b[0;31m# this is slow and usually skipped\u001b[0m\u001b[0;34m\u001b[0m\u001b[0m\n\u001b[0m\u001b[1;32m     21\u001b[0m     \u001b[0mvalid_accuracy\u001b[0m \u001b[0;34m=\u001b[0m \u001b[0maccuracy_score\u001b[0m\u001b[0;34m(\u001b[0m\u001b[0my_val\u001b[0m\u001b[0;34m,\u001b[0m \u001b[0ms\u001b[0m\u001b[0;34m.\u001b[0m\u001b[0mrun\u001b[0m\u001b[0;34m(\u001b[0m\u001b[0mclasses\u001b[0m\u001b[0;34m,\u001b[0m \u001b[0;34m{\u001b[0m\u001b[0minput_X\u001b[0m\u001b[0;34m:\u001b[0m \u001b[0mX_val_flat\u001b[0m\u001b[0;34m}\u001b[0m\u001b[0;34m)\u001b[0m\u001b[0;34m)\u001b[0m\u001b[0;34m\u001b[0m\u001b[0m\n\u001b[1;32m     22\u001b[0m     \u001b[0msimpleTrainingCurves\u001b[0m\u001b[0;34m.\u001b[0m\u001b[0madd\u001b[0m\u001b[0;34m(\u001b[0m\u001b[0mtrain_loss\u001b[0m\u001b[0;34m,\u001b[0m \u001b[0mval_loss\u001b[0m\u001b[0;34m,\u001b[0m \u001b[0mtrain_accuracy\u001b[0m\u001b[0;34m,\u001b[0m \u001b[0mvalid_accuracy\u001b[0m\u001b[0;34m)\u001b[0m\u001b[0;34m\u001b[0m\u001b[0m\n",
      "\u001b[0;32m/opt/conda/lib/python3.6/site-packages/tensorflow/python/client/session.py\u001b[0m in \u001b[0;36mrun\u001b[0;34m(self, fetches, feed_dict, options, run_metadata)\u001b[0m\n\u001b[1;32m    787\u001b[0m     \u001b[0;32mtry\u001b[0m\u001b[0;34m:\u001b[0m\u001b[0;34m\u001b[0m\u001b[0m\n\u001b[1;32m    788\u001b[0m       result = self._run(None, fetches, feed_dict, options_ptr,\n\u001b[0;32m--> 789\u001b[0;31m                          run_metadata_ptr)\n\u001b[0m\u001b[1;32m    790\u001b[0m       \u001b[0;32mif\u001b[0m \u001b[0mrun_metadata\u001b[0m\u001b[0;34m:\u001b[0m\u001b[0;34m\u001b[0m\u001b[0m\n\u001b[1;32m    791\u001b[0m         \u001b[0mproto_data\u001b[0m \u001b[0;34m=\u001b[0m \u001b[0mtf_session\u001b[0m\u001b[0;34m.\u001b[0m\u001b[0mTF_GetBuffer\u001b[0m\u001b[0;34m(\u001b[0m\u001b[0mrun_metadata_ptr\u001b[0m\u001b[0;34m)\u001b[0m\u001b[0;34m\u001b[0m\u001b[0m\n",
      "\u001b[0;32m/opt/conda/lib/python3.6/site-packages/tensorflow/python/client/session.py\u001b[0m in \u001b[0;36m_run\u001b[0;34m(self, handle, fetches, feed_dict, options, run_metadata)\u001b[0m\n\u001b[1;32m    995\u001b[0m     \u001b[0;32mif\u001b[0m \u001b[0mfinal_fetches\u001b[0m \u001b[0;32mor\u001b[0m \u001b[0mfinal_targets\u001b[0m\u001b[0;34m:\u001b[0m\u001b[0;34m\u001b[0m\u001b[0m\n\u001b[1;32m    996\u001b[0m       results = self._do_run(handle, final_targets, final_fetches,\n\u001b[0;32m--> 997\u001b[0;31m                              feed_dict_string, options, run_metadata)\n\u001b[0m\u001b[1;32m    998\u001b[0m     \u001b[0;32melse\u001b[0m\u001b[0;34m:\u001b[0m\u001b[0;34m\u001b[0m\u001b[0m\n\u001b[1;32m    999\u001b[0m       \u001b[0mresults\u001b[0m \u001b[0;34m=\u001b[0m \u001b[0;34m[\u001b[0m\u001b[0;34m]\u001b[0m\u001b[0;34m\u001b[0m\u001b[0m\n",
      "\u001b[0;32m/opt/conda/lib/python3.6/site-packages/tensorflow/python/client/session.py\u001b[0m in \u001b[0;36m_do_run\u001b[0;34m(self, handle, target_list, fetch_list, feed_dict, options, run_metadata)\u001b[0m\n\u001b[1;32m   1130\u001b[0m     \u001b[0;32mif\u001b[0m \u001b[0mhandle\u001b[0m \u001b[0;32mis\u001b[0m \u001b[0;32mNone\u001b[0m\u001b[0;34m:\u001b[0m\u001b[0;34m\u001b[0m\u001b[0m\n\u001b[1;32m   1131\u001b[0m       return self._do_call(_run_fn, self._session, feed_dict, fetch_list,\n\u001b[0;32m-> 1132\u001b[0;31m                            target_list, options, run_metadata)\n\u001b[0m\u001b[1;32m   1133\u001b[0m     \u001b[0;32melse\u001b[0m\u001b[0;34m:\u001b[0m\u001b[0;34m\u001b[0m\u001b[0m\n\u001b[1;32m   1134\u001b[0m       return self._do_call(_prun_fn, self._session, handle, feed_dict,\n",
      "\u001b[0;32m/opt/conda/lib/python3.6/site-packages/tensorflow/python/client/session.py\u001b[0m in \u001b[0;36m_do_call\u001b[0;34m(self, fn, *args)\u001b[0m\n\u001b[1;32m   1137\u001b[0m   \u001b[0;32mdef\u001b[0m \u001b[0m_do_call\u001b[0m\u001b[0;34m(\u001b[0m\u001b[0mself\u001b[0m\u001b[0;34m,\u001b[0m \u001b[0mfn\u001b[0m\u001b[0;34m,\u001b[0m \u001b[0;34m*\u001b[0m\u001b[0margs\u001b[0m\u001b[0;34m)\u001b[0m\u001b[0;34m:\u001b[0m\u001b[0;34m\u001b[0m\u001b[0m\n\u001b[1;32m   1138\u001b[0m     \u001b[0;32mtry\u001b[0m\u001b[0;34m:\u001b[0m\u001b[0;34m\u001b[0m\u001b[0m\n\u001b[0;32m-> 1139\u001b[0;31m       \u001b[0;32mreturn\u001b[0m \u001b[0mfn\u001b[0m\u001b[0;34m(\u001b[0m\u001b[0;34m*\u001b[0m\u001b[0margs\u001b[0m\u001b[0;34m)\u001b[0m\u001b[0;34m\u001b[0m\u001b[0m\n\u001b[0m\u001b[1;32m   1140\u001b[0m     \u001b[0;32mexcept\u001b[0m \u001b[0merrors\u001b[0m\u001b[0;34m.\u001b[0m\u001b[0mOpError\u001b[0m \u001b[0;32mas\u001b[0m \u001b[0me\u001b[0m\u001b[0;34m:\u001b[0m\u001b[0;34m\u001b[0m\u001b[0m\n\u001b[1;32m   1141\u001b[0m       \u001b[0mmessage\u001b[0m \u001b[0;34m=\u001b[0m \u001b[0mcompat\u001b[0m\u001b[0;34m.\u001b[0m\u001b[0mas_text\u001b[0m\u001b[0;34m(\u001b[0m\u001b[0me\u001b[0m\u001b[0;34m.\u001b[0m\u001b[0mmessage\u001b[0m\u001b[0;34m)\u001b[0m\u001b[0;34m\u001b[0m\u001b[0m\n",
      "\u001b[0;32m/opt/conda/lib/python3.6/site-packages/tensorflow/python/client/session.py\u001b[0m in \u001b[0;36m_run_fn\u001b[0;34m(session, feed_dict, fetch_list, target_list, options, run_metadata)\u001b[0m\n\u001b[1;32m   1119\u001b[0m         return tf_session.TF_Run(session, options,\n\u001b[1;32m   1120\u001b[0m                                  \u001b[0mfeed_dict\u001b[0m\u001b[0;34m,\u001b[0m \u001b[0mfetch_list\u001b[0m\u001b[0;34m,\u001b[0m \u001b[0mtarget_list\u001b[0m\u001b[0;34m,\u001b[0m\u001b[0;34m\u001b[0m\u001b[0m\n\u001b[0;32m-> 1121\u001b[0;31m                                  status, run_metadata)\n\u001b[0m\u001b[1;32m   1122\u001b[0m \u001b[0;34m\u001b[0m\u001b[0m\n\u001b[1;32m   1123\u001b[0m     \u001b[0;32mdef\u001b[0m \u001b[0m_prun_fn\u001b[0m\u001b[0;34m(\u001b[0m\u001b[0msession\u001b[0m\u001b[0;34m,\u001b[0m \u001b[0mhandle\u001b[0m\u001b[0;34m,\u001b[0m \u001b[0mfeed_dict\u001b[0m\u001b[0;34m,\u001b[0m \u001b[0mfetch_list\u001b[0m\u001b[0;34m)\u001b[0m\u001b[0;34m:\u001b[0m\u001b[0;34m\u001b[0m\u001b[0m\n",
      "\u001b[0;31mKeyboardInterrupt\u001b[0m: "
     ]
    }
   ],
   "source": [
    "s.run(tf.global_variables_initializer())\n",
    "\n",
    "BATCH_SIZE = 512\n",
    "EPOCHS = 40\n",
    "\n",
    "# for logging the progress right here in Jupyter (for those who don't have TensorBoard)\n",
    "simpleTrainingCurves = matplotlib_utils.SimpleTrainingCurves(\"cross-entropy\", \"accuracy\")\n",
    "\n",
    "for epoch in range(EPOCHS):  # we finish an epoch when we've looked at all training samples\n",
    "    \n",
    "    batch_losses = []\n",
    "    for batch_start in range(0, X_train_flat.shape[0], BATCH_SIZE):  # data is already shuffled\n",
    "        _, batch_loss = s.run([step, loss], {input_X: X_train_flat[batch_start:batch_start+BATCH_SIZE], \n",
    "                                             input_y: y_train_oh[batch_start:batch_start+BATCH_SIZE]})\n",
    "        # collect batch losses, this is almost free as we need a forward pass for backprop anyway\n",
    "        batch_losses.append(batch_loss)\n",
    "\n",
    "    train_loss = np.mean(batch_losses)\n",
    "    val_loss = s.run(loss, {input_X: X_val_flat, input_y: y_val_oh})  # this part is usually small\n",
    "    train_accuracy = accuracy_score(y_train, s.run(classes, {input_X: X_train_flat}))  # this is slow and usually skipped\n",
    "    valid_accuracy = accuracy_score(y_val, s.run(classes, {input_X: X_val_flat}))  \n",
    "    simpleTrainingCurves.add(train_loss, val_loss, train_accuracy, valid_accuracy)"
   ]
  },
  {
   "cell_type": "markdown",
   "metadata": {},
   "source": [
    "# Submit a linear model"
   ]
  },
  {
   "cell_type": "code",
   "execution_count": 129,
   "metadata": {
    "collapsed": true
   },
   "outputs": [],
   "source": [
    "## GRADED PART, DO NOT CHANGE!\n",
    "# Testing shapes \n",
    "grader.set_answer(\"9XaAS\", grading_utils.get_tensors_shapes_string([W, b, input_X, input_y, logits, probas, classes]))\n",
    "# Validation loss\n",
    "grader.set_answer(\"vmogZ\", s.run(loss, {input_X: X_val_flat, input_y: y_val_oh}))\n",
    "# Validation accuracy\n",
    "grader.set_answer(\"RMv95\", accuracy_score(y_val, s.run(classes, {input_X: X_val_flat})))"
   ]
  },
  {
   "cell_type": "code",
   "execution_count": 130,
   "metadata": {},
   "outputs": [
    {
     "name": "stdout",
     "output_type": "stream",
     "text": [
      "Submitted to Coursera platform. See results on assignment page!\n"
     ]
    }
   ],
   "source": [
    "# you can make submission with answers so far to check yourself at this stage\n",
    "grader.submit(COURSERA_EMAIL, COURSERA_TOKEN)"
   ]
  },
  {
   "cell_type": "markdown",
   "metadata": {},
   "source": [
    "# MLP with hidden layers"
   ]
  },
  {
   "cell_type": "markdown",
   "metadata": {},
   "source": [
    "Previously we've coded a dense layer with matrix multiplication by hand. \n",
    "But this is not convenient, you have to create a lot of variables and your code becomes a mess. \n",
    "In TensorFlow there's an easier way to make a dense layer:\n",
    "```python\n",
    "hidden1 = tf.layers.dense(inputs, 256, activation=tf.nn.sigmoid)\n",
    "```\n",
    "\n",
    "That will create all the necessary variables automatically.\n",
    "Here you can also choose an activation function (remember that we need it for a hidden layer!).\n",
    "\n",
    "Now define the MLP with 2 hidden layers and restart training with the cell above.\n",
    "\n",
    "You're aiming for ~0.97 validation accuracy here."
   ]
  },
  {
   "cell_type": "code",
   "execution_count": 141,
   "metadata": {
    "collapsed": true
   },
   "outputs": [],
   "source": [
    "# write the code here to get a new `step` operation and then run the cell with training loop above.\n",
    "# name your variables in the same way (e.g. logits, probas, classes, etc) for safety.\n",
    "### YOUR CODE HERE ###\n",
    "hidden1 = tf.layers.dense(input_X, 256,activation=tf.nn.sigmoid)\n",
    "hidden2 = tf.layers.dense(hidden1, 256,activation=tf.nn.sigmoid)\n",
    "logits = tf.layers.dense(hidden2, 10,activation=None)\n",
    "probas = tf.nn.softmax(logits)\n",
    "classes = tf.argmax(probas,1)\n",
    "#print(hidden1.shape,logits.shape, probas.shape, classes.shape)\n",
    "\n",
    "loss = tf.reduce_mean(tf.nn.softmax_cross_entropy_with_logits(labels=input_y, logits=logits))\n",
    "\n",
    "step = tf.train.AdamOptimizer().minimize(loss)"
   ]
  },
  {
   "cell_type": "markdown",
   "metadata": {},
   "source": [
    "# Submit the MLP with 2 hidden layers\n",
    "Run these cells after training the MLP with 2 hidden layers"
   ]
  },
  {
   "cell_type": "code",
   "execution_count": 143,
   "metadata": {
    "collapsed": true
   },
   "outputs": [],
   "source": [
    "## GRADED PART, DO NOT CHANGE!\n",
    "# Validation loss for MLP\n",
    "grader.set_answer(\"i8bgs\", s.run(loss, {input_X: X_val_flat, input_y: y_val_oh}))\n",
    "# Validation accuracy for MLP\n",
    "grader.set_answer(\"rE763\", accuracy_score(y_val, s.run(classes, {input_X: X_val_flat})))"
   ]
  },
  {
   "cell_type": "code",
   "execution_count": 144,
   "metadata": {},
   "outputs": [
    {
     "name": "stdout",
     "output_type": "stream",
     "text": [
      "Submitted to Coursera platform. See results on assignment page!\n"
     ]
    }
   ],
   "source": [
    "# you can make submission with answers so far to check yourself at this stage\n",
    "grader.submit(COURSERA_EMAIL, COURSERA_TOKEN)"
   ]
  },
  {
   "cell_type": "code",
   "execution_count": null,
   "metadata": {
    "collapsed": true
   },
   "outputs": [],
   "source": []
  }
 ],
 "metadata": {
  "kernelspec": {
   "display_name": "Python 3",
   "language": "python",
   "name": "python3"
  },
  "language_info": {
   "codemirror_mode": {
    "name": "ipython",
    "version": 3
   },
   "file_extension": ".py",
   "mimetype": "text/x-python",
   "name": "python",
   "nbconvert_exporter": "python",
   "pygments_lexer": "ipython3",
   "version": "3.7.5"
  }
 },
 "nbformat": 4,
 "nbformat_minor": 1
}
