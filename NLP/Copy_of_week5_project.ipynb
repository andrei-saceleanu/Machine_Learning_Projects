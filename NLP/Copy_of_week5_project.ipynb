{
  "nbformat": 4,
  "nbformat_minor": 0,
  "metadata": {
    "kernelspec": {
      "display_name": "Python 3",
      "language": "python",
      "name": "python3"
    },
    "language_info": {
      "codemirror_mode": {
        "name": "ipython",
        "version": 3
      },
      "file_extension": ".py",
      "mimetype": "text/x-python",
      "name": "python",
      "nbconvert_exporter": "python",
      "pygments_lexer": "ipython3",
      "version": "3.5.2"
    },
    "latex_envs": {
      "bibliofile": "biblio.bib",
      "cite_by": "apalike",
      "current_citInitial": 1,
      "eqLabelWithNumbers": true,
      "eqNumInitial": 0
    },
    "colab": {
      "name": "Copy of week5-project.ipynb",
      "provenance": []
    },
    "accelerator": "GPU",
    "widgets": {
      "application/vnd.jupyter.widget-state+json": {
        "480f6fe2b1a849719bab9896c6670c32": {
          "model_module": "@jupyter-widgets/controls",
          "model_name": "HBoxModel",
          "state": {
            "_view_name": "HBoxView",
            "_dom_classes": [],
            "_model_name": "HBoxModel",
            "_view_module": "@jupyter-widgets/controls",
            "_model_module_version": "1.5.0",
            "_view_count": null,
            "_view_module_version": "1.5.0",
            "box_style": "",
            "layout": "IPY_MODEL_5937a89ba80149d38e8abdf239d5fcc3",
            "_model_module": "@jupyter-widgets/controls",
            "children": [
              "IPY_MODEL_ebc6ef770f754783a615cb95d1b43e4a",
              "IPY_MODEL_2ea6dd98e13147e19780c4fde5ed950c"
            ]
          }
        },
        "5937a89ba80149d38e8abdf239d5fcc3": {
          "model_module": "@jupyter-widgets/base",
          "model_name": "LayoutModel",
          "state": {
            "_view_name": "LayoutView",
            "grid_template_rows": null,
            "right": null,
            "justify_content": null,
            "_view_module": "@jupyter-widgets/base",
            "overflow": null,
            "_model_module_version": "1.2.0",
            "_view_count": null,
            "flex_flow": null,
            "width": null,
            "min_width": null,
            "border": null,
            "align_items": null,
            "bottom": null,
            "_model_module": "@jupyter-widgets/base",
            "top": null,
            "grid_column": null,
            "overflow_y": null,
            "overflow_x": null,
            "grid_auto_flow": null,
            "grid_area": null,
            "grid_template_columns": null,
            "flex": null,
            "_model_name": "LayoutModel",
            "justify_items": null,
            "grid_row": null,
            "max_height": null,
            "align_content": null,
            "visibility": null,
            "align_self": null,
            "height": null,
            "min_height": null,
            "padding": null,
            "grid_auto_rows": null,
            "grid_gap": null,
            "max_width": null,
            "order": null,
            "_view_module_version": "1.2.0",
            "grid_template_areas": null,
            "object_position": null,
            "object_fit": null,
            "grid_auto_columns": null,
            "margin": null,
            "display": null,
            "left": null
          }
        },
        "ebc6ef770f754783a615cb95d1b43e4a": {
          "model_module": "@jupyter-widgets/controls",
          "model_name": "FloatProgressModel",
          "state": {
            "_view_name": "ProgressView",
            "style": "IPY_MODEL_3578d7648d6f4bb2829fea82f7326a5d",
            "_dom_classes": [],
            "description": "GoogleNews-vectors-negative300.bin.gz: 100%",
            "_model_name": "FloatProgressModel",
            "bar_style": "success",
            "max": 1647046227,
            "_view_module": "@jupyter-widgets/controls",
            "_model_module_version": "1.5.0",
            "value": 1647046227,
            "_view_count": null,
            "_view_module_version": "1.5.0",
            "orientation": "horizontal",
            "min": 0,
            "description_tooltip": null,
            "_model_module": "@jupyter-widgets/controls",
            "layout": "IPY_MODEL_fbe9ada3add04f11ab7c12eea0032eee"
          }
        },
        "2ea6dd98e13147e19780c4fde5ed950c": {
          "model_module": "@jupyter-widgets/controls",
          "model_name": "HTMLModel",
          "state": {
            "_view_name": "HTMLView",
            "style": "IPY_MODEL_2bb831a692a14fb78ead9d6b6dff8786",
            "_dom_classes": [],
            "description": "",
            "_model_name": "HTMLModel",
            "placeholder": "​",
            "_view_module": "@jupyter-widgets/controls",
            "_model_module_version": "1.5.0",
            "value": " 1.65G/1.65G [01:35&lt;00:00, 17.2MB/s]",
            "_view_count": null,
            "_view_module_version": "1.5.0",
            "description_tooltip": null,
            "_model_module": "@jupyter-widgets/controls",
            "layout": "IPY_MODEL_a6a443c5a8894e10a5d259d159494827"
          }
        },
        "3578d7648d6f4bb2829fea82f7326a5d": {
          "model_module": "@jupyter-widgets/controls",
          "model_name": "ProgressStyleModel",
          "state": {
            "_view_name": "StyleView",
            "_model_name": "ProgressStyleModel",
            "description_width": "initial",
            "_view_module": "@jupyter-widgets/base",
            "_model_module_version": "1.5.0",
            "_view_count": null,
            "_view_module_version": "1.2.0",
            "bar_color": null,
            "_model_module": "@jupyter-widgets/controls"
          }
        },
        "fbe9ada3add04f11ab7c12eea0032eee": {
          "model_module": "@jupyter-widgets/base",
          "model_name": "LayoutModel",
          "state": {
            "_view_name": "LayoutView",
            "grid_template_rows": null,
            "right": null,
            "justify_content": null,
            "_view_module": "@jupyter-widgets/base",
            "overflow": null,
            "_model_module_version": "1.2.0",
            "_view_count": null,
            "flex_flow": null,
            "width": null,
            "min_width": null,
            "border": null,
            "align_items": null,
            "bottom": null,
            "_model_module": "@jupyter-widgets/base",
            "top": null,
            "grid_column": null,
            "overflow_y": null,
            "overflow_x": null,
            "grid_auto_flow": null,
            "grid_area": null,
            "grid_template_columns": null,
            "flex": null,
            "_model_name": "LayoutModel",
            "justify_items": null,
            "grid_row": null,
            "max_height": null,
            "align_content": null,
            "visibility": null,
            "align_self": null,
            "height": null,
            "min_height": null,
            "padding": null,
            "grid_auto_rows": null,
            "grid_gap": null,
            "max_width": null,
            "order": null,
            "_view_module_version": "1.2.0",
            "grid_template_areas": null,
            "object_position": null,
            "object_fit": null,
            "grid_auto_columns": null,
            "margin": null,
            "display": null,
            "left": null
          }
        },
        "2bb831a692a14fb78ead9d6b6dff8786": {
          "model_module": "@jupyter-widgets/controls",
          "model_name": "DescriptionStyleModel",
          "state": {
            "_view_name": "StyleView",
            "_model_name": "DescriptionStyleModel",
            "description_width": "",
            "_view_module": "@jupyter-widgets/base",
            "_model_module_version": "1.5.0",
            "_view_count": null,
            "_view_module_version": "1.2.0",
            "_model_module": "@jupyter-widgets/controls"
          }
        },
        "a6a443c5a8894e10a5d259d159494827": {
          "model_module": "@jupyter-widgets/base",
          "model_name": "LayoutModel",
          "state": {
            "_view_name": "LayoutView",
            "grid_template_rows": null,
            "right": null,
            "justify_content": null,
            "_view_module": "@jupyter-widgets/base",
            "overflow": null,
            "_model_module_version": "1.2.0",
            "_view_count": null,
            "flex_flow": null,
            "width": null,
            "min_width": null,
            "border": null,
            "align_items": null,
            "bottom": null,
            "_model_module": "@jupyter-widgets/base",
            "top": null,
            "grid_column": null,
            "overflow_y": null,
            "overflow_x": null,
            "grid_auto_flow": null,
            "grid_area": null,
            "grid_template_columns": null,
            "flex": null,
            "_model_name": "LayoutModel",
            "justify_items": null,
            "grid_row": null,
            "max_height": null,
            "align_content": null,
            "visibility": null,
            "align_self": null,
            "height": null,
            "min_height": null,
            "padding": null,
            "grid_auto_rows": null,
            "grid_gap": null,
            "max_width": null,
            "order": null,
            "_view_module_version": "1.2.0",
            "grid_template_areas": null,
            "object_position": null,
            "object_fit": null,
            "grid_auto_columns": null,
            "margin": null,
            "display": null,
            "left": null
          }
        }
      }
    }
  },
  "cells": [
    {
      "cell_type": "markdown",
      "metadata": {
        "id": "aAo-5oTuKN9T",
        "colab_type": "text"
      },
      "source": [
        "# Final project: StackOverflow assistant bot\n",
        "\n",
        "Congratulations on coming this far and solving the programming assignments! In this final project, we will combine everything we have learned about Natural Language Processing to construct a *dialogue chat bot*, which will be able to:\n",
        "* answer programming-related questions (using StackOverflow dataset);\n",
        "* chit-chat and simulate dialogue on all non programming-related questions.\n",
        "\n",
        "For a chit-chat mode we will use a pre-trained neural network engine available from [ChatterBot](https://github.com/gunthercox/ChatterBot).\n",
        "Those who aim at honor certificates for our course or are just curious, will train their own models for chit-chat.\n",
        "![](https://imgs.xkcd.com/comics/twitter_bot.png)\n",
        "©[xkcd](https://xkcd.com)"
      ]
    },
    {
      "cell_type": "markdown",
      "metadata": {
        "id": "c5Tnz4MfKN9V",
        "colab_type": "text"
      },
      "source": [
        "### Data description\n",
        "\n",
        "To detect *intent* of users questions we will need two text collections:\n",
        "- `tagged_posts.tsv` — StackOverflow posts, tagged with one programming language (*positive samples*).\n",
        "- `dialogues.tsv` — dialogue phrases from movie subtitles (*negative samples*).\n"
      ]
    },
    {
      "cell_type": "code",
      "metadata": {
        "id": "PwRqt35dKN9Y",
        "colab_type": "code",
        "colab": {
          "base_uri": "https://localhost:8080/",
          "height": 379,
          "referenced_widgets": [
            "480f6fe2b1a849719bab9896c6670c32",
            "5937a89ba80149d38e8abdf239d5fcc3",
            "ebc6ef770f754783a615cb95d1b43e4a",
            "2ea6dd98e13147e19780c4fde5ed950c",
            "3578d7648d6f4bb2829fea82f7326a5d",
            "fbe9ada3add04f11ab7c12eea0032eee",
            "2bb831a692a14fb78ead9d6b6dff8786",
            "a6a443c5a8894e10a5d259d159494827"
          ]
        },
        "outputId": "975fa96e-6954-42d1-df41-0f3006dd2832"
      },
      "source": [
        "try:\n",
        "    import google.colab\n",
        "    IN_COLAB = True\n",
        "except:\n",
        "    IN_COLAB = False\n",
        "\n",
        "if IN_COLAB:\n",
        "    ! wget https://raw.githubusercontent.com/hse-aml/natural-language-processing/master/setup_google_colab.py -O setup_google_colab.py\n",
        "    import setup_google_colab\n",
        "    setup_google_colab.setup_project()\n",
        "\n",
        "import sys\n",
        "sys.path.append(\"..\")\n",
        "from common.download_utils import download_project_resources,download_week3_resources\n",
        "\n",
        "\n",
        "download_project_resources()\n",
        "download_week3_resources()"
      ],
      "execution_count": 1,
      "outputs": [
        {
          "output_type": "stream",
          "text": [
            "--2020-09-13 11:06:40--  https://raw.githubusercontent.com/hse-aml/natural-language-processing/master/setup_google_colab.py\n",
            "Resolving raw.githubusercontent.com (raw.githubusercontent.com)... 151.101.0.133, 151.101.64.133, 151.101.128.133, ...\n",
            "Connecting to raw.githubusercontent.com (raw.githubusercontent.com)|151.101.0.133|:443... connected.\n",
            "HTTP request sent, awaiting response... 200 OK\n",
            "Length: 1939 (1.9K) [text/plain]\n",
            "Saving to: ‘setup_google_colab.py’\n",
            "\n",
            "setup_google_colab. 100%[===================>]   1.89K  --.-KB/s    in 0s      \n",
            "\n",
            "2020-09-13 11:06:40 (38.4 MB/s) - ‘setup_google_colab.py’ saved [1939/1939]\n",
            "\n",
            "File data/dialogues.tsv is already downloaded.\n",
            "File data/tagged_posts.tsv is already downloaded.\n",
            "File data/train.tsv is already downloaded.\n",
            "File data/validation.tsv is already downloaded.\n",
            "File data/test.tsv is already downloaded.\n",
            "File data/test_embeddings.tsv is already downloaded.\n",
            "Downloading GoogleNews-vectors-negative300.bin.gz (1.5G) for you, it will take a while...\n"
          ],
          "name": "stdout"
        },
        {
          "output_type": "display_data",
          "data": {
            "application/vnd.jupyter.widget-view+json": {
              "model_id": "480f6fe2b1a849719bab9896c6670c32",
              "version_minor": 0,
              "version_major": 2
            },
            "text/plain": [
              "HBox(children=(FloatProgress(value=0.0, max=1647046227.0), HTML(value='')))"
            ]
          },
          "metadata": {
            "tags": []
          }
        },
        {
          "output_type": "stream",
          "text": [
            "\n"
          ],
          "name": "stdout"
        }
      ]
    },
    {
      "cell_type": "markdown",
      "metadata": {
        "id": "kQSXSn-TKN9k",
        "colab_type": "text"
      },
      "source": [
        "For those questions, that have programming-related intent, we will proceed as follow predict programming language (only one tag per question allowed here) and rank candidates within the tag using embeddings.\n",
        "For the ranking part, you will need:\n",
        "- `word_embeddings.tsv` — word embeddings, that you  trained with StarSpace in the 3rd assignment. It's not a problem if you didn't do it, because we can offer an alternative solution for you."
      ]
    },
    {
      "cell_type": "markdown",
      "metadata": {
        "id": "keWgPD2dKN9m",
        "colab_type": "text"
      },
      "source": [
        "As a result of this notebook, you should obtain the following new objects that you will then use in the running bot:\n",
        "\n",
        "- `intent_recognizer.pkl` — intent recognition model;\n",
        "- `tag_classifier.pkl` — programming language classification model;\n",
        "- `tfidf_vectorizer.pkl` — vectorizer used during training;\n",
        "- `thread_embeddings_by_tags` — folder with thread embeddings, arranged by tags.\n",
        "    "
      ]
    },
    {
      "cell_type": "markdown",
      "metadata": {
        "id": "9yviws68KN9n",
        "colab_type": "text"
      },
      "source": [
        "Some functions will be reused by this notebook and the scripts, so we put them into *utils.py* file. Don't forget to open it and fill in the gaps!"
      ]
    },
    {
      "cell_type": "code",
      "metadata": {
        "id": "72hDQ8kqKN9p",
        "colab_type": "code",
        "colab": {
          "base_uri": "https://localhost:8080/",
          "height": 52
        },
        "outputId": "0feb63fa-841a-4df8-9028-c1ceea306094"
      },
      "source": [
        "from utils import *"
      ],
      "execution_count": 2,
      "outputs": [
        {
          "output_type": "stream",
          "text": [
            "[nltk_data] Downloading package stopwords to /root/nltk_data...\n",
            "[nltk_data]   Package stopwords is already up-to-date!\n"
          ],
          "name": "stderr"
        }
      ]
    },
    {
      "cell_type": "markdown",
      "metadata": {
        "id": "6Wc5qZipKN9x",
        "colab_type": "text"
      },
      "source": [
        "## Part I. Intent and language recognition"
      ]
    },
    {
      "cell_type": "markdown",
      "metadata": {
        "id": "0j35yfyNKN9x",
        "colab_type": "text"
      },
      "source": [
        "We want to write a bot, which will not only **answer programming-related questions**, but also will be able to **maintain a dialogue**. We would also like to detect the *intent* of the user from the question (we could have had a 'Question answering mode' check-box in the bot, but it wouldn't fun at all, would it?). So the first thing we need to do is to **distinguish programming-related questions from general ones**.\n",
        "\n",
        "It would also be good to predict which programming language a particular question referees to. By doing so, we will speed up question search by a factor of the number of languages (10 here), and exercise our *text classification* skill a bit. :)"
      ]
    },
    {
      "cell_type": "code",
      "metadata": {
        "id": "IaW_kdE2KN9z",
        "colab_type": "code",
        "colab": {}
      },
      "source": [
        "import numpy as np\n",
        "import pandas as pd\n",
        "import pickle\n",
        "import re\n",
        "\n",
        "from sklearn.feature_extraction.text import TfidfVectorizer"
      ],
      "execution_count": 3,
      "outputs": []
    },
    {
      "cell_type": "markdown",
      "metadata": {
        "id": "-e1zF3HlKN95",
        "colab_type": "text"
      },
      "source": [
        "### Data preparation"
      ]
    },
    {
      "cell_type": "markdown",
      "metadata": {
        "id": "z9l25j06KN97",
        "colab_type": "text"
      },
      "source": [
        "In the first assignment (Predict tags on StackOverflow with linear models), you have already learnt how to preprocess texts and do TF-IDF tranformations. Reuse your code here. In addition, you will also need to [dump](https://docs.python.org/3/library/pickle.html#pickle.dump) the TF-IDF vectorizer with pickle to use it later in the running bot."
      ]
    },
    {
      "cell_type": "code",
      "metadata": {
        "id": "tQzvVI81KN98",
        "colab_type": "code",
        "colab": {}
      },
      "source": [
        "def tfidf_features(X_train, X_test, vectorizer_path):\n",
        "    \"\"\"Performs TF-IDF transformation and dumps the model.\"\"\"\n",
        "    \n",
        "    # Train a vectorizer on X_train data.\n",
        "    # Transform X_train and X_test data.\n",
        "    \n",
        "    # Pickle the trained vectorizer to 'vectorizer_path'\n",
        "    # Don't forget to open the file in writing bytes mode.\n",
        "    \n",
        "    tfidf_vectorizer = TfidfVectorizer(min_df=5,max_df=0.9,ngram_range=(1,2),token_pattern='(\\S+)')####### YOUR CODE HERE #######\n",
        "    \n",
        "    ######################################\n",
        "    ######### YOUR CODE HERE #############\n",
        "    ######################################\n",
        "    tfidf_vectorizer.fit(X_train)\n",
        "    X_train=tfidf_vectorizer.transform(X_train)\n",
        "    X_test=tfidf_vectorizer.transform(X_test)\n",
        "    f=open(vectorizer_path,mode='wb')\n",
        "    pickle.dump(tfidf_vectorizer,f)\n",
        "    f.close()\n",
        "    \n",
        "    return X_train, X_test"
      ],
      "execution_count": 4,
      "outputs": []
    },
    {
      "cell_type": "markdown",
      "metadata": {
        "id": "iSXyiOhBKN-C",
        "colab_type": "text"
      },
      "source": [
        "Now, load examples of two classes. Use a subsample of stackoverflow data to balance the classes. You will need the full data later."
      ]
    },
    {
      "cell_type": "code",
      "metadata": {
        "id": "sGBhn02vKN-E",
        "colab_type": "code",
        "colab": {}
      },
      "source": [
        "sample_size = 200000\n",
        "\n",
        "dialogue_df = pd.read_csv('data/dialogues.tsv', sep='\\t').sample(sample_size, random_state=0)\n",
        "stackoverflow_df = pd.read_csv('data/tagged_posts.tsv', sep='\\t').sample(sample_size, random_state=0)"
      ],
      "execution_count": 5,
      "outputs": []
    },
    {
      "cell_type": "markdown",
      "metadata": {
        "id": "U60xWAhEKN-I",
        "colab_type": "text"
      },
      "source": [
        "Check how the data look like:"
      ]
    },
    {
      "cell_type": "code",
      "metadata": {
        "id": "RELfV8eZKN-J",
        "colab_type": "code",
        "colab": {
          "base_uri": "https://localhost:8080/",
          "height": 206
        },
        "outputId": "cdbdb0ed-bca8-4024-d76f-ad4bfdaa5cb1"
      },
      "source": [
        "dialogue_df.head()"
      ],
      "execution_count": 6,
      "outputs": [
        {
          "output_type": "execute_result",
          "data": {
            "text/html": [
              "<div>\n",
              "<style scoped>\n",
              "    .dataframe tbody tr th:only-of-type {\n",
              "        vertical-align: middle;\n",
              "    }\n",
              "\n",
              "    .dataframe tbody tr th {\n",
              "        vertical-align: top;\n",
              "    }\n",
              "\n",
              "    .dataframe thead th {\n",
              "        text-align: right;\n",
              "    }\n",
              "</style>\n",
              "<table border=\"1\" class=\"dataframe\">\n",
              "  <thead>\n",
              "    <tr style=\"text-align: right;\">\n",
              "      <th></th>\n",
              "      <th>text</th>\n",
              "      <th>tag</th>\n",
              "    </tr>\n",
              "  </thead>\n",
              "  <tbody>\n",
              "    <tr>\n",
              "      <th>82925</th>\n",
              "      <td>Donna, you are a muffin.</td>\n",
              "      <td>dialogue</td>\n",
              "    </tr>\n",
              "    <tr>\n",
              "      <th>48774</th>\n",
              "      <td>He was here last night till about two o'clock....</td>\n",
              "      <td>dialogue</td>\n",
              "    </tr>\n",
              "    <tr>\n",
              "      <th>55394</th>\n",
              "      <td>All right, then make an appointment with her s...</td>\n",
              "      <td>dialogue</td>\n",
              "    </tr>\n",
              "    <tr>\n",
              "      <th>90806</th>\n",
              "      <td>Hey, what is this-an interview? We're supposed...</td>\n",
              "      <td>dialogue</td>\n",
              "    </tr>\n",
              "    <tr>\n",
              "      <th>107758</th>\n",
              "      <td>Yeah. He's just a friend of mine I was trying ...</td>\n",
              "      <td>dialogue</td>\n",
              "    </tr>\n",
              "  </tbody>\n",
              "</table>\n",
              "</div>"
            ],
            "text/plain": [
              "                                                     text       tag\n",
              "82925                            Donna, you are a muffin.  dialogue\n",
              "48774   He was here last night till about two o'clock....  dialogue\n",
              "55394   All right, then make an appointment with her s...  dialogue\n",
              "90806   Hey, what is this-an interview? We're supposed...  dialogue\n",
              "107758  Yeah. He's just a friend of mine I was trying ...  dialogue"
            ]
          },
          "metadata": {
            "tags": []
          },
          "execution_count": 6
        }
      ]
    },
    {
      "cell_type": "code",
      "metadata": {
        "id": "PiK9-q9WKN-N",
        "colab_type": "code",
        "colab": {
          "base_uri": "https://localhost:8080/",
          "height": 206
        },
        "outputId": "730c227c-ff3a-4b5d-fc04-32911ad63b9f"
      },
      "source": [
        "stackoverflow_df.head()"
      ],
      "execution_count": 7,
      "outputs": [
        {
          "output_type": "execute_result",
          "data": {
            "text/html": [
              "<div>\n",
              "<style scoped>\n",
              "    .dataframe tbody tr th:only-of-type {\n",
              "        vertical-align: middle;\n",
              "    }\n",
              "\n",
              "    .dataframe tbody tr th {\n",
              "        vertical-align: top;\n",
              "    }\n",
              "\n",
              "    .dataframe thead th {\n",
              "        text-align: right;\n",
              "    }\n",
              "</style>\n",
              "<table border=\"1\" class=\"dataframe\">\n",
              "  <thead>\n",
              "    <tr style=\"text-align: right;\">\n",
              "      <th></th>\n",
              "      <th>post_id</th>\n",
              "      <th>title</th>\n",
              "      <th>tag</th>\n",
              "    </tr>\n",
              "  </thead>\n",
              "  <tbody>\n",
              "    <tr>\n",
              "      <th>2168983</th>\n",
              "      <td>43837842</td>\n",
              "      <td>Efficient Algorithm to compose valid expressio...</td>\n",
              "      <td>python</td>\n",
              "    </tr>\n",
              "    <tr>\n",
              "      <th>1084095</th>\n",
              "      <td>15747223</td>\n",
              "      <td>Why does this basic thread program fail with C...</td>\n",
              "      <td>c_cpp</td>\n",
              "    </tr>\n",
              "    <tr>\n",
              "      <th>1049020</th>\n",
              "      <td>15189594</td>\n",
              "      <td>Link to scroll to top not working</td>\n",
              "      <td>javascript</td>\n",
              "    </tr>\n",
              "    <tr>\n",
              "      <th>200466</th>\n",
              "      <td>3273927</td>\n",
              "      <td>Is it possible to implement ping on windows ph...</td>\n",
              "      <td>c#</td>\n",
              "    </tr>\n",
              "    <tr>\n",
              "      <th>1200249</th>\n",
              "      <td>17684551</td>\n",
              "      <td>GLSL normal mapping issue</td>\n",
              "      <td>c_cpp</td>\n",
              "    </tr>\n",
              "  </tbody>\n",
              "</table>\n",
              "</div>"
            ],
            "text/plain": [
              "          post_id  ...         tag\n",
              "2168983  43837842  ...      python\n",
              "1084095  15747223  ...       c_cpp\n",
              "1049020  15189594  ...  javascript\n",
              "200466    3273927  ...          c#\n",
              "1200249  17684551  ...       c_cpp\n",
              "\n",
              "[5 rows x 3 columns]"
            ]
          },
          "metadata": {
            "tags": []
          },
          "execution_count": 7
        }
      ]
    },
    {
      "cell_type": "markdown",
      "metadata": {
        "id": "EMrTBLhRKN-S",
        "colab_type": "text"
      },
      "source": [
        "Apply *text_prepare* function to preprocess the data.\n",
        "\n",
        "If you filled in the file, but NotImplementedError is still displayed, please refer to [this thread](https://github.com/hse-aml/natural-language-processing/issues/27)."
      ]
    },
    {
      "cell_type": "code",
      "metadata": {
        "id": "IPHqnaHEKN-U",
        "colab_type": "code",
        "colab": {}
      },
      "source": [
        "from utils import text_prepare"
      ],
      "execution_count": 8,
      "outputs": []
    },
    {
      "cell_type": "code",
      "metadata": {
        "id": "0omCdgd2KN-Y",
        "colab_type": "code",
        "colab": {}
      },
      "source": [
        "dialogue_df['text'] = pd.Series([text_prepare(x) for x in dialogue_df['text'].values])######### YOUR CODE HERE #############\n",
        "stackoverflow_df['title'] = pd.Series([text_prepare(x) for x in stackoverflow_df['title'].values])######### YOUR CODE HERE #############"
      ],
      "execution_count": 9,
      "outputs": []
    },
    {
      "cell_type": "code",
      "metadata": {
        "id": "W8oLvVtYcYHf",
        "colab_type": "code",
        "colab": {
          "base_uri": "https://localhost:8080/",
          "height": 225
        },
        "outputId": "f7852fa5-4e06-441b-f9af-6e0fb507380b"
      },
      "source": [
        "stackoverflow_df['title']"
      ],
      "execution_count": 10,
      "outputs": [
        {
          "output_type": "execute_result",
          "data": {
            "text/plain": [
              "2168983                                                  NaN\n",
              "1084095                                                  NaN\n",
              "1049020                                                  NaN\n",
              "200466                                                   NaN\n",
              "1200249                                                  NaN\n",
              "                                 ...                        \n",
              "189987                      javascript regex replace nothing\n",
              "1975274                                                  NaN\n",
              "445525                                                   NaN\n",
              "187718              python list copy difference old list old\n",
              "163186     preload images actually forces images load con...\n",
              "Name: title, Length: 200000, dtype: object"
            ]
          },
          "metadata": {
            "tags": []
          },
          "execution_count": 10
        }
      ]
    },
    {
      "cell_type": "markdown",
      "metadata": {
        "id": "xmFipRGeKN-c",
        "colab_type": "text"
      },
      "source": [
        "### Intent recognition"
      ]
    },
    {
      "cell_type": "markdown",
      "metadata": {
        "id": "VX1CuFxMKN-d",
        "colab_type": "text"
      },
      "source": [
        "We will do a binary classification on TF-IDF representations of texts. Labels will be either `dialogue` for general questions or `stackoverflow` for programming-related questions. First, prepare the data for this task:\n",
        "- concatenate `dialogue` and `stackoverflow` examples into one sample\n",
        "- split it into train and test in proportion 9:1, use *random_state=0* for reproducibility\n",
        "- transform it into TF-IDF features"
      ]
    },
    {
      "cell_type": "code",
      "metadata": {
        "id": "j6CkLZPVKN-e",
        "colab_type": "code",
        "colab": {}
      },
      "source": [
        "from sklearn.model_selection import train_test_split"
      ],
      "execution_count": 11,
      "outputs": []
    },
    {
      "cell_type": "code",
      "metadata": {
        "id": "UAVS_b6hKN-k",
        "colab_type": "code",
        "colab": {
          "base_uri": "https://localhost:8080/",
          "height": 34
        },
        "outputId": "fe86d650-1b0e-4d49-c1f4-f8230b85188c"
      },
      "source": [
        "X = np.concatenate([dialogue_df['text'].astype('U').values, stackoverflow_df['title'].astype('U').values])\n",
        "y = ['dialogue'] * dialogue_df.shape[0] + ['stackoverflow'] * stackoverflow_df.shape[0]\n",
        "\n",
        "X_train, X_test, y_train, y_test = train_test_split(X,y,test_size=0.1,random_state=0)######### YOUR CODE HERE ##########\n",
        "print('Train size = {}, test size = {}'.format(len(X_train), len(X_test)))\n",
        "\n",
        "X_train_tfidf, X_test_tfidf = tfidf_features(X_train,X_test,\"tfidf_vectorizer.pkl\")######## YOUR CODE HERE ###########"
      ],
      "execution_count": 12,
      "outputs": [
        {
          "output_type": "stream",
          "text": [
            "Train size = 360000, test size = 40000\n"
          ],
          "name": "stdout"
        }
      ]
    },
    {
      "cell_type": "markdown",
      "metadata": {
        "id": "GR4YlmGOKN-o",
        "colab_type": "text"
      },
      "source": [
        "Train the **intent recognizer** using LogisticRegression on the train set with the following parameters: *penalty='l2'*, *C=10*, *random_state=0*. Print out the accuracy on the test set to check whether everything looks good."
      ]
    },
    {
      "cell_type": "code",
      "metadata": {
        "id": "I8NvXK5SKN-o",
        "colab_type": "code",
        "colab": {}
      },
      "source": [
        "from sklearn.linear_model import LogisticRegression\n",
        "from sklearn.metrics import accuracy_score"
      ],
      "execution_count": 13,
      "outputs": []
    },
    {
      "cell_type": "code",
      "metadata": {
        "id": "ECZToU6BKN-u",
        "colab_type": "code",
        "colab": {
          "base_uri": "https://localhost:8080/",
          "height": 243
        },
        "outputId": "d24804da-9023-47cf-aeb6-98ee73dea872"
      },
      "source": [
        "######################################\n",
        "######### YOUR CODE HERE #############\n",
        "######################################\n",
        "intent_recognizer=LogisticRegression(penalty='l2',C=10,random_state=0)\n",
        "intent_recognizer.fit(X_train_tfidf,y_train)"
      ],
      "execution_count": 14,
      "outputs": [
        {
          "output_type": "stream",
          "text": [
            "/usr/local/lib/python3.6/dist-packages/sklearn/linear_model/_logistic.py:940: ConvergenceWarning: lbfgs failed to converge (status=1):\n",
            "STOP: TOTAL NO. of ITERATIONS REACHED LIMIT.\n",
            "\n",
            "Increase the number of iterations (max_iter) or scale the data as shown in:\n",
            "    https://scikit-learn.org/stable/modules/preprocessing.html\n",
            "Please also refer to the documentation for alternative solver options:\n",
            "    https://scikit-learn.org/stable/modules/linear_model.html#logistic-regression\n",
            "  extra_warning_msg=_LOGISTIC_SOLVER_CONVERGENCE_MSG)\n"
          ],
          "name": "stderr"
        },
        {
          "output_type": "execute_result",
          "data": {
            "text/plain": [
              "LogisticRegression(C=10, class_weight=None, dual=False, fit_intercept=True,\n",
              "                   intercept_scaling=1, l1_ratio=None, max_iter=100,\n",
              "                   multi_class='auto', n_jobs=None, penalty='l2',\n",
              "                   random_state=0, solver='lbfgs', tol=0.0001, verbose=0,\n",
              "                   warm_start=False)"
            ]
          },
          "metadata": {
            "tags": []
          },
          "execution_count": 14
        }
      ]
    },
    {
      "cell_type": "code",
      "metadata": {
        "id": "-t72niXxKN-y",
        "colab_type": "code",
        "colab": {
          "base_uri": "https://localhost:8080/",
          "height": 34
        },
        "outputId": "f82a4308-6489-4cd5-e10b-db0259632d75"
      },
      "source": [
        "# Check test accuracy.\n",
        "y_test_pred = intent_recognizer.predict(X_test_tfidf)\n",
        "test_accuracy = accuracy_score(y_test, y_test_pred)\n",
        "print('Test accuracy = {}'.format(test_accuracy))"
      ],
      "execution_count": 15,
      "outputs": [
        {
          "output_type": "stream",
          "text": [
            "Test accuracy = 0.954075\n"
          ],
          "name": "stdout"
        }
      ]
    },
    {
      "cell_type": "markdown",
      "metadata": {
        "id": "k3CTrQEZKN-2",
        "colab_type": "text"
      },
      "source": [
        "Dump the classifier to use it in the running bot."
      ]
    },
    {
      "cell_type": "code",
      "metadata": {
        "id": "QxcmndxGKN-3",
        "colab_type": "code",
        "colab": {}
      },
      "source": [
        "pickle.dump(intent_recognizer, open(RESOURCE_PATH['INTENT_RECOGNIZER'], 'wb'))"
      ],
      "execution_count": 16,
      "outputs": []
    },
    {
      "cell_type": "markdown",
      "metadata": {
        "id": "HZgwNYNTKN-6",
        "colab_type": "text"
      },
      "source": [
        "### Programming language classification "
      ]
    },
    {
      "cell_type": "markdown",
      "metadata": {
        "id": "EW9h_7WdKN-7",
        "colab_type": "text"
      },
      "source": [
        "We will train one more classifier for the programming-related questions. It will predict exactly one tag (=programming language) and will be also based on Logistic Regression with TF-IDF features. \n",
        "\n",
        "First, let us prepare the data for this task."
      ]
    },
    {
      "cell_type": "code",
      "metadata": {
        "id": "iXGUlCRVKN-8",
        "colab_type": "code",
        "colab": {}
      },
      "source": [
        "X = stackoverflow_df['title'].astype('U').values\n",
        "y = stackoverflow_df['tag'].astype('U').values"
      ],
      "execution_count": 17,
      "outputs": []
    },
    {
      "cell_type": "code",
      "metadata": {
        "id": "TE8NEwEqKN-_",
        "colab_type": "code",
        "colab": {
          "base_uri": "https://localhost:8080/",
          "height": 34
        },
        "outputId": "9041ff30-ec8c-49d5-ddb4-def39a4b37da"
      },
      "source": [
        "X_train, X_test, y_train, y_test = train_test_split(X, y, test_size=0.2, random_state=0)\n",
        "print('Train size = {}, test size = {}'.format(len(X_train), len(X_test)))"
      ],
      "execution_count": 18,
      "outputs": [
        {
          "output_type": "stream",
          "text": [
            "Train size = 160000, test size = 40000\n"
          ],
          "name": "stdout"
        }
      ]
    },
    {
      "cell_type": "markdown",
      "metadata": {
        "id": "hIosRcXmKN_D",
        "colab_type": "text"
      },
      "source": [
        "Let us reuse the TF-IDF vectorizer that we have already created above. It should not make a huge difference which data was used to train it."
      ]
    },
    {
      "cell_type": "code",
      "metadata": {
        "id": "cc3-ScvkKN_D",
        "colab_type": "code",
        "colab": {}
      },
      "source": [
        "vectorizer = pickle.load(open(RESOURCE_PATH['TFIDF_VECTORIZER'], 'rb'))\n",
        "\n",
        "X_train_tfidf, X_test_tfidf = vectorizer.transform(X_train), vectorizer.transform(X_test)"
      ],
      "execution_count": 19,
      "outputs": []
    },
    {
      "cell_type": "markdown",
      "metadata": {
        "id": "aV0N0jOOKN_G",
        "colab_type": "text"
      },
      "source": [
        "Train the **tag classifier** using OneVsRestClassifier wrapper over LogisticRegression. Use the following parameters: *penalty='l2'*, *C=5*, *random_state=0*."
      ]
    },
    {
      "cell_type": "code",
      "metadata": {
        "id": "Q8GwuuZkKN_H",
        "colab_type": "code",
        "colab": {}
      },
      "source": [
        "from sklearn.multiclass import OneVsRestClassifier"
      ],
      "execution_count": 20,
      "outputs": []
    },
    {
      "cell_type": "code",
      "metadata": {
        "id": "WWKvGMbHKN_M",
        "colab_type": "code",
        "colab": {
          "base_uri": "https://localhost:8080/",
          "height": 191
        },
        "outputId": "7a615c8b-4b4a-4a2e-de27-331e3f3044a0"
      },
      "source": [
        "######################################\n",
        "######### YOUR CODE HERE #############\n",
        "######################################\n",
        "tag_classifier=OneVsRestClassifier(LogisticRegression(penalty='l2',C=5,random_state=0,max_iter=1000))\n",
        "tag_classifier.fit(X_train_tfidf,y_train)"
      ],
      "execution_count": 21,
      "outputs": [
        {
          "output_type": "execute_result",
          "data": {
            "text/plain": [
              "OneVsRestClassifier(estimator=LogisticRegression(C=5, class_weight=None,\n",
              "                                                 dual=False, fit_intercept=True,\n",
              "                                                 intercept_scaling=1,\n",
              "                                                 l1_ratio=None, max_iter=1000,\n",
              "                                                 multi_class='auto',\n",
              "                                                 n_jobs=None, penalty='l2',\n",
              "                                                 random_state=0, solver='lbfgs',\n",
              "                                                 tol=0.0001, verbose=0,\n",
              "                                                 warm_start=False),\n",
              "                    n_jobs=None)"
            ]
          },
          "metadata": {
            "tags": []
          },
          "execution_count": 21
        }
      ]
    },
    {
      "cell_type": "code",
      "metadata": {
        "id": "mqNmeUvmKN_P",
        "colab_type": "code",
        "colab": {
          "base_uri": "https://localhost:8080/",
          "height": 34
        },
        "outputId": "15958a9e-e774-45dd-c299-1470169587d9"
      },
      "source": [
        "# Check test accuracy.\n",
        "y_test_pred = tag_classifier.predict(X_test_tfidf)\n",
        "test_accuracy = accuracy_score(y_test, y_test_pred)\n",
        "print('Test accuracy = {}'.format(test_accuracy))"
      ],
      "execution_count": 22,
      "outputs": [
        {
          "output_type": "stream",
          "text": [
            "Test accuracy = 0.17955\n"
          ],
          "name": "stdout"
        }
      ]
    },
    {
      "cell_type": "markdown",
      "metadata": {
        "id": "fm11zXfDKN_T",
        "colab_type": "text"
      },
      "source": [
        "Dump the classifier to use it in the running bot."
      ]
    },
    {
      "cell_type": "code",
      "metadata": {
        "id": "LisNkWFMKN_V",
        "colab_type": "code",
        "colab": {}
      },
      "source": [
        "pickle.dump(tag_classifier, open(RESOURCE_PATH['TAG_CLASSIFIER'], 'wb'))"
      ],
      "execution_count": 23,
      "outputs": []
    },
    {
      "cell_type": "markdown",
      "metadata": {
        "id": "tHYzoa8mKN_a",
        "colab_type": "text"
      },
      "source": [
        "## Part II. Ranking  questions with embeddings"
      ]
    },
    {
      "cell_type": "markdown",
      "metadata": {
        "id": "WnG36r8dKN_b",
        "colab_type": "text"
      },
      "source": [
        "To find a relevant answer (a thread from StackOverflow) on a question you will use vector representations to calculate similarity between the question and existing threads. We already had `question_to_vec` function from the assignment 3, which can create such a representation based on word vectors. \n",
        "\n",
        "However, it would be costly to compute such a representation for all possible answers in *online mode* of the bot (e.g. when bot is running and answering questions from many users). This is the reason why you will create a *database* with pre-computed representations. These representations will be arranged by non-overlaping tags (programming languages), so that the search of the answer can be performed only within one tag each time. This will make our bot even more efficient and allow not to store all the database in RAM. "
      ]
    },
    {
      "cell_type": "markdown",
      "metadata": {
        "id": "AB0ths7VKN_b",
        "colab_type": "text"
      },
      "source": [
        "Load StarSpace embeddings which were trained on Stack Overflow posts. These embeddings were trained in *supervised mode* for duplicates detection on the same corpus that is used in search. We can account on that these representations will allow us to find closely related answers for a question. \n",
        "\n",
        "If for some reasons you didn't train StarSpace embeddings in the assignment 3, you can use [pre-trained word vectors](https://code.google.com/archive/p/word2vec/) from Google. All instructions about how to work with these vectors were provided in the same assignment. However, we highly recommend to use StarSpace's embeddings, because it contains more appropriate embeddings. If you chose to use Google's embeddings, delete the words, which are not in Stackoverflow data."
      ]
    },
    {
      "cell_type": "code",
      "metadata": {
        "id": "uV9RqYRPX05i",
        "colab_type": "code",
        "colab": {
          "resources": {
            "http://localhost:8080/nbextensions/google.colab/files.js": {
              "data": "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",
              "ok": true,
              "headers": [
                [
                  "content-type",
                  "application/javascript"
                ]
              ],
              "status": 200,
              "status_text": "OK"
            }
          },
          "base_uri": "https://localhost:8080/",
          "height": 112
        },
        "outputId": "2f1d5a2d-469c-44af-bcdd-6380420705a2"
      },
      "source": [
        "from google.colab import files\n",
        "files.upload()"
      ],
      "execution_count": 33,
      "outputs": [
        {
          "output_type": "display_data",
          "data": {
            "text/html": [
              "\n",
              "     <input type=\"file\" id=\"files-1d6ddc5a-169a-4d96-be53-f112bf27fe52\" name=\"files[]\" multiple disabled\n",
              "        style=\"border:none\" />\n",
              "     <output id=\"result-1d6ddc5a-169a-4d96-be53-f112bf27fe52\">\n",
              "      Upload widget is only available when the cell has been executed in the\n",
              "      current browser session. Please rerun this cell to enable.\n",
              "      </output>\n",
              "      <script src=\"/nbextensions/google.colab/files.js\"></script> "
            ],
            "text/plain": [
              "<IPython.core.display.HTML object>"
            ]
          },
          "metadata": {
            "tags": []
          }
        },
        {
          "output_type": "stream",
          "text": [
            "Saving utils.py to utils.py\n"
          ],
          "name": "stdout"
        },
        {
          "output_type": "execute_result",
          "data": {
            "text/plain": [
              "{'utils.py': b'import nltk\\nimport pickle\\nimport re\\nimport numpy as np\\n\\nnltk.download(\\'stopwords\\')\\nfrom nltk.corpus import stopwords\\n\\n# Paths for all resources for the bot.\\nRESOURCE_PATH = {\\n    \\'INTENT_RECOGNIZER\\': \\'intent_recognizer.pkl\\',\\n    \\'TAG_CLASSIFIER\\': \\'tag_classifier.pkl\\',\\n    \\'TFIDF_VECTORIZER\\': \\'tfidf_vectorizer.pkl\\',\\n    \\'THREAD_EMBEDDINGS_FOLDER\\': \\'thread_embeddings_by_tags\\',\\n    \\'WORD_EMBEDDINGS\\': \\'data/word_embeddings.tsv\\',\\n}\\n\\n\\ndef text_prepare(text):\\n    \"\"\"Performs tokenization and simple preprocessing.\"\"\"\\n    replace_by_space_re = re.compile(\\'[/(){}\\\\[\\\\]\\\\|@,;]\\')\\n    good_symbols_re = re.compile(\\'[^0-9a-z #+_]\\')\\n    stopwords_set = set(stopwords.words(\\'english\\'))\\n\\n    text = text.lower()\\n    text = replace_by_space_re.sub(\\' \\', text)\\n    text = good_symbols_re.sub(\\'\\', text)\\n    text = \\' \\'.join([x for x in text.split() if x and x not in stopwords_set])\\n\\n    return text.strip()\\n\\n\\ndef load_embeddings(embeddings_path):\\n    \"\"\"Loads pre-trained word embeddings from tsv file.\\n    Args:\\n      embeddings_path - path to the embeddings file.\\n    Returns:\\n      embeddings - dict mapping words to vectors;\\n      embeddings_dim - dimension of the vectors.\\n    \"\"\"\\n\\n    # Hint: you have already implemented a similar routine in the 3rd assignment.\\n    # Note that here you also need to know the dimension of the loaded embeddings.\\n    # When you load the embeddings, use numpy.float32 type as dtype\\n\\n    ########################\\n    #### YOUR CODE HERE ####\\n    ########################\\n    emb_list=[(v[0], [float(n) for n in v[1:]]) for v in open(embeddings_path,mode=\\'r\\',encoding=\\'UTF-8\\')]\\n    embeddings=dict(emb_list)\\n    embeddings_dim=len(emb_list[0][1])\\n    return embeddings,embeddings_dim\\n\\n  \\n\\n\\ndef question_to_vec(question, embeddings, dim):\\n    \"\"\"Transforms a string to an embedding by averaging word embeddings.\"\"\"\\n\\n    # Hint: you have already implemented exactly this function in the 3rd assignment.\\n\\n    ########################\\n    #### YOUR CODE HERE ####\\n    ########################\\n    result=np.zeros(dim)\\n    count=0\\n    for word in question.split(\\' \\'):\\n      if word not in embeddings:\\n        continue\\n      result+=embeddings[word]\\n      count+=1\\n    if count!=0:\\n      result=result/count\\n    return result \\n    \\n\\ndef unpickle_file(filename):\\n    \"\"\"Returns the result of unpickling the file content.\"\"\"\\n    with open(filename, \\'rb\\') as f:\\n        return pickle.load(f)\\n'}"
            ]
          },
          "metadata": {
            "tags": []
          },
          "execution_count": 33
        }
      ]
    },
    {
      "cell_type": "code",
      "metadata": {
        "id": "6qJmgY4SK98F",
        "colab_type": "code",
        "colab": {}
      },
      "source": [
        "from utils import *"
      ],
      "execution_count": 34,
      "outputs": []
    },
    {
      "cell_type": "code",
      "metadata": {
        "id": "IphO04EEa_8R",
        "colab_type": "code",
        "colab": {}
      },
      "source": [
        "import gensim"
      ],
      "execution_count": 24,
      "outputs": []
    },
    {
      "cell_type": "code",
      "metadata": {
        "id": "rZLJSQLXeF8n",
        "colab_type": "code",
        "colab": {
          "base_uri": "https://localhost:8080/",
          "height": 86
        },
        "outputId": "17cac272-2a82-49f5-92cf-85771f3152e1"
      },
      "source": [
        "stackoverflow_df['title'].astype('U').values"
      ],
      "execution_count": 25,
      "outputs": [
        {
          "output_type": "execute_result",
          "data": {
            "text/plain": [
              "array(['nan', 'nan', 'nan', ..., 'nan',\n",
              "       'python list copy difference old list old',\n",
              "       'preload images actually forces images load continuing html javascript'],\n",
              "      dtype=object)"
            ]
          },
          "metadata": {
            "tags": []
          },
          "execution_count": 25
        }
      ]
    },
    {
      "cell_type": "code",
      "metadata": {
        "id": "hjder-JkKN_c",
        "colab_type": "code",
        "colab": {}
      },
      "source": [
        "#starspace_embeddings, embeddings_dim = load_embeddings('data/word_embeddings.tsv')\n",
        "total=gensim.models.KeyedVectors.load_word2vec_format('GoogleNews-vectors-negative300.bin.gz',binary=True,limit=500000)\n",
        "starspace_embeddings={word:total[word] for el in stackoverflow_df['title'].astype('U').values for word in el.split(' ') if word!='nan' and word in total}\n"
      ],
      "execution_count": 26,
      "outputs": []
    },
    {
      "cell_type": "code",
      "metadata": {
        "id": "GCjleMT1fnVT",
        "colab_type": "code",
        "colab": {
          "base_uri": "https://localhost:8080/",
          "height": 34
        },
        "outputId": "c73ed6c1-1b79-4f96-d7cc-1bf0fdc022d9"
      },
      "source": [
        "embeddings_dim=len(list(starspace_embeddings.values())[0])\n",
        "embeddings_dim"
      ],
      "execution_count": 27,
      "outputs": [
        {
          "output_type": "execute_result",
          "data": {
            "text/plain": [
              "300"
            ]
          },
          "metadata": {
            "tags": []
          },
          "execution_count": 27
        }
      ]
    },
    {
      "cell_type": "markdown",
      "metadata": {
        "id": "doNGmNUkKN_e",
        "colab_type": "text"
      },
      "source": [
        "Since we want to precompute representations for all possible answers, we need to load the whole posts dataset, unlike we did for the intent classifier:"
      ]
    },
    {
      "cell_type": "code",
      "metadata": {
        "id": "uX_QMz3yKN_f",
        "colab_type": "code",
        "colab": {}
      },
      "source": [
        "posts_df = pd.read_csv('data/tagged_posts.tsv', sep='\\t')"
      ],
      "execution_count": 28,
      "outputs": []
    },
    {
      "cell_type": "markdown",
      "metadata": {
        "id": "RRZX5KjgKN_i",
        "colab_type": "text"
      },
      "source": [
        "Look at the distribution of posts for programming languages (tags) and find the most common ones. \n",
        "You might want to use pandas [groupby](https://pandas.pydata.org/pandas-docs/stable/generated/pandas.DataFrame.groupby.html) and [count](https://pandas.pydata.org/pandas-docs/stable/generated/pandas.DataFrame.count.html) methods:"
      ]
    },
    {
      "cell_type": "code",
      "metadata": {
        "id": "0o-pb3Yqggai",
        "colab_type": "code",
        "colab": {
          "base_uri": "https://localhost:8080/",
          "height": 424
        },
        "outputId": "fac29231-7049-41f4-d704-88a314657a6d"
      },
      "source": [
        "posts_df"
      ],
      "execution_count": 29,
      "outputs": [
        {
          "output_type": "execute_result",
          "data": {
            "text/html": [
              "<div>\n",
              "<style scoped>\n",
              "    .dataframe tbody tr th:only-of-type {\n",
              "        vertical-align: middle;\n",
              "    }\n",
              "\n",
              "    .dataframe tbody tr th {\n",
              "        vertical-align: top;\n",
              "    }\n",
              "\n",
              "    .dataframe thead th {\n",
              "        text-align: right;\n",
              "    }\n",
              "</style>\n",
              "<table border=\"1\" class=\"dataframe\">\n",
              "  <thead>\n",
              "    <tr style=\"text-align: right;\">\n",
              "      <th></th>\n",
              "      <th>post_id</th>\n",
              "      <th>title</th>\n",
              "      <th>tag</th>\n",
              "    </tr>\n",
              "  </thead>\n",
              "  <tbody>\n",
              "    <tr>\n",
              "      <th>0</th>\n",
              "      <td>9</td>\n",
              "      <td>Calculate age in C#</td>\n",
              "      <td>c#</td>\n",
              "    </tr>\n",
              "    <tr>\n",
              "      <th>1</th>\n",
              "      <td>16</td>\n",
              "      <td>Filling a DataSet or DataTable from a LINQ que...</td>\n",
              "      <td>c#</td>\n",
              "    </tr>\n",
              "    <tr>\n",
              "      <th>2</th>\n",
              "      <td>39</td>\n",
              "      <td>Reliable timer in a console application</td>\n",
              "      <td>c#</td>\n",
              "    </tr>\n",
              "    <tr>\n",
              "      <th>3</th>\n",
              "      <td>42</td>\n",
              "      <td>Best way to allow plugins for a PHP application</td>\n",
              "      <td>php</td>\n",
              "    </tr>\n",
              "    <tr>\n",
              "      <th>4</th>\n",
              "      <td>59</td>\n",
              "      <td>How do I get a distinct, ordered list of names...</td>\n",
              "      <td>c#</td>\n",
              "    </tr>\n",
              "    <tr>\n",
              "      <th>...</th>\n",
              "      <td>...</td>\n",
              "      <td>...</td>\n",
              "      <td>...</td>\n",
              "    </tr>\n",
              "    <tr>\n",
              "      <th>2171570</th>\n",
              "      <td>45887455</td>\n",
              "      <td>What is the difference between node.js and ayo...</td>\n",
              "      <td>javascript</td>\n",
              "    </tr>\n",
              "    <tr>\n",
              "      <th>2171571</th>\n",
              "      <td>45887857</td>\n",
              "      <td>Why do sequential containers have both size_ty...</td>\n",
              "      <td>c_cpp</td>\n",
              "    </tr>\n",
              "    <tr>\n",
              "      <th>2171572</th>\n",
              "      <td>45892983</td>\n",
              "      <td>why 1 + + \"1\" === 2; +\"1\" + + \"1\" === 2 and \"1...</td>\n",
              "      <td>javascript</td>\n",
              "    </tr>\n",
              "    <tr>\n",
              "      <th>2171573</th>\n",
              "      <td>45893693</td>\n",
              "      <td>Why does the first line work but the second li...</td>\n",
              "      <td>javascript</td>\n",
              "    </tr>\n",
              "    <tr>\n",
              "      <th>2171574</th>\n",
              "      <td>45898184</td>\n",
              "      <td>Can I safely convert struct of floats into flo...</td>\n",
              "      <td>c_cpp</td>\n",
              "    </tr>\n",
              "  </tbody>\n",
              "</table>\n",
              "<p>2171575 rows × 3 columns</p>\n",
              "</div>"
            ],
            "text/plain": [
              "          post_id  ...         tag\n",
              "0               9  ...          c#\n",
              "1              16  ...          c#\n",
              "2              39  ...          c#\n",
              "3              42  ...         php\n",
              "4              59  ...          c#\n",
              "...           ...  ...         ...\n",
              "2171570  45887455  ...  javascript\n",
              "2171571  45887857  ...       c_cpp\n",
              "2171572  45892983  ...  javascript\n",
              "2171573  45893693  ...  javascript\n",
              "2171574  45898184  ...       c_cpp\n",
              "\n",
              "[2171575 rows x 3 columns]"
            ]
          },
          "metadata": {
            "tags": []
          },
          "execution_count": 29
        }
      ]
    },
    {
      "cell_type": "code",
      "metadata": {
        "id": "qqgOQxd4KN_j",
        "colab_type": "code",
        "colab": {
          "base_uri": "https://localhost:8080/",
          "height": 191
        },
        "outputId": "e7706859-a981-4210-a512-e90a1152672d"
      },
      "source": [
        "counts_by_tag = posts_df.groupby(['tag']).count()\n",
        "counts_by_tag=counts_by_tag.to_dict('index')\n",
        "counts_by_tag={k:v['post_id'] for k,v in counts_by_tag.items()}\n",
        "counts_by_tag######### YOUR CODE HERE #############"
      ],
      "execution_count": 30,
      "outputs": [
        {
          "output_type": "execute_result",
          "data": {
            "text/plain": [
              "{'c#': 394451,\n",
              " 'c_cpp': 281300,\n",
              " 'java': 383456,\n",
              " 'javascript': 375867,\n",
              " 'php': 321752,\n",
              " 'python': 208607,\n",
              " 'r': 36359,\n",
              " 'ruby': 99930,\n",
              " 'swift': 34809,\n",
              " 'vb': 35044}"
            ]
          },
          "metadata": {
            "tags": []
          },
          "execution_count": 30
        }
      ]
    },
    {
      "cell_type": "code",
      "metadata": {
        "id": "WxOlB2P8j9vW",
        "colab_type": "code",
        "colab": {
          "base_uri": "https://localhost:8080/",
          "height": 1000
        },
        "outputId": "a325d469-9904-464d-81a7-5bab2f71a1a0"
      },
      "source": [
        "a=stackoverflow_df[stackoverflow_df['tag'] == 'c#']\n",
        "a['post_id'].tolist()"
      ],
      "execution_count": 31,
      "outputs": [
        {
          "output_type": "execute_result",
          "data": {
            "text/plain": [
              "[3273927,\n",
              " 11981332,\n",
              " 6521147,\n",
              " 18850478,\n",
              " 22198564,\n",
              " 472431,\n",
              " 15567666,\n",
              " 8266536,\n",
              " 17384737,\n",
              " 19182900,\n",
              " 26466647,\n",
              " 14159038,\n",
              " 40181872,\n",
              " 13885704,\n",
              " 10767583,\n",
              " 14378050,\n",
              " 9792974,\n",
              " 7285889,\n",
              " 37338343,\n",
              " 9402223,\n",
              " 2698260,\n",
              " 20378055,\n",
              " 20889482,\n",
              " 39457294,\n",
              " 1451894,\n",
              " 11714163,\n",
              " 20920917,\n",
              " 3421303,\n",
              " 11112141,\n",
              " 9766960,\n",
              " 24158334,\n",
              " 13012867,\n",
              " 6231063,\n",
              " 1398587,\n",
              " 18562928,\n",
              " 8076605,\n",
              " 8034945,\n",
              " 3332574,\n",
              " 38010,\n",
              " 11603178,\n",
              " 623136,\n",
              " 35637907,\n",
              " 2844429,\n",
              " 1086154,\n",
              " 11178051,\n",
              " 6071041,\n",
              " 2167169,\n",
              " 20005355,\n",
              " 777176,\n",
              " 964448,\n",
              " 16863366,\n",
              " 12585931,\n",
              " 2301524,\n",
              " 736724,\n",
              " 36891848,\n",
              " 14546142,\n",
              " 13107606,\n",
              " 2566918,\n",
              " 4678490,\n",
              " 12898556,\n",
              " 4158731,\n",
              " 30849605,\n",
              " 31439939,\n",
              " 1251296,\n",
              " 2288426,\n",
              " 8058682,\n",
              " 19819712,\n",
              " 2026967,\n",
              " 18567530,\n",
              " 13255032,\n",
              " 10744024,\n",
              " 14676240,\n",
              " 1081617,\n",
              " 18376231,\n",
              " 2278141,\n",
              " 29363861,\n",
              " 3303470,\n",
              " 1379202,\n",
              " 7880928,\n",
              " 17457984,\n",
              " 24302191,\n",
              " 8874649,\n",
              " 1197349,\n",
              " 2327760,\n",
              " 15161209,\n",
              " 27389056,\n",
              " 20825638,\n",
              " 8999484,\n",
              " 30594264,\n",
              " 16455541,\n",
              " 11864226,\n",
              " 3219701,\n",
              " 29340294,\n",
              " 31765733,\n",
              " 30309639,\n",
              " 11133084,\n",
              " 9297034,\n",
              " 20088790,\n",
              " 35799213,\n",
              " 2692257,\n",
              " 13987301,\n",
              " 19364230,\n",
              " 3809520,\n",
              " 31628304,\n",
              " 9658086,\n",
              " 37116780,\n",
              " 34292416,\n",
              " 33015168,\n",
              " 29249068,\n",
              " 669797,\n",
              " 11483143,\n",
              " 21080290,\n",
              " 4616642,\n",
              " 18992965,\n",
              " 1124747,\n",
              " 33729525,\n",
              " 36417268,\n",
              " 9768961,\n",
              " 7252947,\n",
              " 18127256,\n",
              " 916667,\n",
              " 7641552,\n",
              " 36132314,\n",
              " 29262247,\n",
              " 1131305,\n",
              " 16689989,\n",
              " 9060789,\n",
              " 11984043,\n",
              " 17001861,\n",
              " 37278174,\n",
              " 17207903,\n",
              " 17385064,\n",
              " 25118025,\n",
              " 8818107,\n",
              " 488967,\n",
              " 7837375,\n",
              " 22964797,\n",
              " 17090823,\n",
              " 2243950,\n",
              " 6866619,\n",
              " 18856200,\n",
              " 1110070,\n",
              " 16650970,\n",
              " 975767,\n",
              " 29111865,\n",
              " 31007729,\n",
              " 2603535,\n",
              " 2261923,\n",
              " 6778187,\n",
              " 14650311,\n",
              " 29670536,\n",
              " 3091257,\n",
              " 12938937,\n",
              " 4106369,\n",
              " 30636400,\n",
              " 33822387,\n",
              " 15201821,\n",
              " 11216329,\n",
              " 13329323,\n",
              " 20029054,\n",
              " 9887689,\n",
              " 29981371,\n",
              " 8679562,\n",
              " 18571698,\n",
              " 13357248,\n",
              " 11834416,\n",
              " 9253457,\n",
              " 32273881,\n",
              " 32677749,\n",
              " 8734028,\n",
              " 3554281,\n",
              " 20189883,\n",
              " 30465343,\n",
              " 24028023,\n",
              " 2240346,\n",
              " 30211875,\n",
              " 9837859,\n",
              " 11115189,\n",
              " 10778377,\n",
              " 39709632,\n",
              " 1127531,\n",
              " 15049794,\n",
              " 18230462,\n",
              " 4157837,\n",
              " 8264935,\n",
              " 2618972,\n",
              " 13771139,\n",
              " 4650685,\n",
              " 20095701,\n",
              " 9082155,\n",
              " 939160,\n",
              " 27315049,\n",
              " 3415936,\n",
              " 332630,\n",
              " 5665069,\n",
              " 21581358,\n",
              " 9178985,\n",
              " 887197,\n",
              " 20883175,\n",
              " 25979902,\n",
              " 39868551,\n",
              " 30346304,\n",
              " 1991205,\n",
              " 37512121,\n",
              " 4228289,\n",
              " 3048634,\n",
              " 19772132,\n",
              " 4653637,\n",
              " 8625237,\n",
              " 9635593,\n",
              " 20431528,\n",
              " 20828678,\n",
              " 29739120,\n",
              " 13871698,\n",
              " 23950702,\n",
              " 16620149,\n",
              " 19213186,\n",
              " 35779216,\n",
              " 20608793,\n",
              " 16860794,\n",
              " 3640909,\n",
              " 4970930,\n",
              " 3939867,\n",
              " 7936403,\n",
              " 182497,\n",
              " 7787963,\n",
              " 10435359,\n",
              " 6132693,\n",
              " 19138471,\n",
              " 17129112,\n",
              " 2573055,\n",
              " 18126409,\n",
              " 5167384,\n",
              " 17002045,\n",
              " 8598126,\n",
              " 21968315,\n",
              " 7917280,\n",
              " 8754766,\n",
              " 11950592,\n",
              " 3711805,\n",
              " 19086780,\n",
              " 12740083,\n",
              " 23106980,\n",
              " 12829537,\n",
              " 16611060,\n",
              " 16555149,\n",
              " 6112003,\n",
              " 5808439,\n",
              " 6267788,\n",
              " 35841205,\n",
              " 6143162,\n",
              " 36050230,\n",
              " 19051934,\n",
              " 2910878,\n",
              " 7150108,\n",
              " 34994948,\n",
              " 18545928,\n",
              " 2922084,\n",
              " 14932387,\n",
              " 28331470,\n",
              " 18363427,\n",
              " 4667398,\n",
              " 12411058,\n",
              " 1641833,\n",
              " 31186202,\n",
              " 656226,\n",
              " 840700,\n",
              " 12591244,\n",
              " 8426134,\n",
              " 37289808,\n",
              " 17639812,\n",
              " 30122477,\n",
              " 41538330,\n",
              " 400798,\n",
              " 4637349,\n",
              " 36062557,\n",
              " 16972641,\n",
              " 23620935,\n",
              " 11409709,\n",
              " 34330468,\n",
              " 7561544,\n",
              " 4290474,\n",
              " 2464314,\n",
              " 8229003,\n",
              " 4060902,\n",
              " 17247734,\n",
              " 34764963,\n",
              " 5619554,\n",
              " 8003488,\n",
              " 4773283,\n",
              " 13855985,\n",
              " 10668365,\n",
              " 16280624,\n",
              " 12790698,\n",
              " 6835766,\n",
              " 9710013,\n",
              " 19995931,\n",
              " 4561479,\n",
              " 20584955,\n",
              " 24307315,\n",
              " 12341475,\n",
              " 12761646,\n",
              " 4367210,\n",
              " 9500728,\n",
              " 20710689,\n",
              " 14801322,\n",
              " 12970869,\n",
              " 72048,\n",
              " 10243047,\n",
              " 1495465,\n",
              " 18396978,\n",
              " 28810734,\n",
              " 8759360,\n",
              " 26048492,\n",
              " 8333871,\n",
              " 30932464,\n",
              " 4009443,\n",
              " 16247747,\n",
              " 14075390,\n",
              " 8384208,\n",
              " 26191731,\n",
              " 21736975,\n",
              " 27677867,\n",
              " 2175669,\n",
              " 9731406,\n",
              " 8135398,\n",
              " 36614352,\n",
              " 10782497,\n",
              " 16649967,\n",
              " 7583779,\n",
              " 8245928,\n",
              " 10085197,\n",
              " 22134945,\n",
              " 19654852,\n",
              " 2073404,\n",
              " 19598225,\n",
              " 645805,\n",
              " 5362434,\n",
              " 12391305,\n",
              " 6659645,\n",
              " 18881611,\n",
              " 15765731,\n",
              " 9089007,\n",
              " 28896739,\n",
              " 3276616,\n",
              " 11629451,\n",
              " 1465823,\n",
              " 26934374,\n",
              " 14621848,\n",
              " 2696691,\n",
              " 7353455,\n",
              " 21805286,\n",
              " 40674235,\n",
              " 42724297,\n",
              " 3067503,\n",
              " 3034692,\n",
              " 11267984,\n",
              " 3568716,\n",
              " 2811198,\n",
              " 15553875,\n",
              " 13854686,\n",
              " 40145310,\n",
              " 30380218,\n",
              " 4668906,\n",
              " 8222664,\n",
              " 2030445,\n",
              " 31676057,\n",
              " 8373393,\n",
              " 4712304,\n",
              " 9511462,\n",
              " 7016159,\n",
              " 29882682,\n",
              " 14433406,\n",
              " 21103851,\n",
              " 7853637,\n",
              " 30148139,\n",
              " 8239972,\n",
              " 3810111,\n",
              " 25081152,\n",
              " 2134017,\n",
              " 11431181,\n",
              " 9776902,\n",
              " 6073503,\n",
              " 38235541,\n",
              " 11542218,\n",
              " 3484047,\n",
              " 1531220,\n",
              " 912853,\n",
              " 4277635,\n",
              " 6493026,\n",
              " 935913,\n",
              " 3293137,\n",
              " 2535516,\n",
              " 22184108,\n",
              " 13060905,\n",
              " 17421120,\n",
              " 23748896,\n",
              " 19690952,\n",
              " 7622894,\n",
              " 9672112,\n",
              " 9435960,\n",
              " 27549606,\n",
              " 10485004,\n",
              " 8267717,\n",
              " 5920154,\n",
              " 13002321,\n",
              " 4696339,\n",
              " 20868019,\n",
              " 15740505,\n",
              " 14158154,\n",
              " 12396813,\n",
              " 20054904,\n",
              " 6560708,\n",
              " 16507700,\n",
              " 21939199,\n",
              " 37983844,\n",
              " 4695656,\n",
              " 1019906,\n",
              " 6123618,\n",
              " 10541532,\n",
              " 17024823,\n",
              " 32642548,\n",
              " 15552036,\n",
              " 365352,\n",
              " 283378,\n",
              " 7928083,\n",
              " 10120220,\n",
              " 20270588,\n",
              " 6995023,\n",
              " 2813522,\n",
              " 1094610,\n",
              " 13590837,\n",
              " 6172607,\n",
              " 10184152,\n",
              " 32547077,\n",
              " 30892430,\n",
              " 7576422,\n",
              " 38891205,\n",
              " 1946139,\n",
              " 2518829,\n",
              " 7857927,\n",
              " 18529761,\n",
              " 2855995,\n",
              " 14963779,\n",
              " 7928647,\n",
              " 17485454,\n",
              " 2091703,\n",
              " 15689623,\n",
              " 1583363,\n",
              " 27789717,\n",
              " 25538524,\n",
              " 6934818,\n",
              " 4523553,\n",
              " 37434493,\n",
              " 36152423,\n",
              " 25508479,\n",
              " 5335120,\n",
              " 38947733,\n",
              " 28044027,\n",
              " 14581304,\n",
              " 33164696,\n",
              " 22117416,\n",
              " 39441140,\n",
              " 34776644,\n",
              " 3501775,\n",
              " 8204774,\n",
              " 1806915,\n",
              " 16129484,\n",
              " 10018531,\n",
              " 13502475,\n",
              " 30528581,\n",
              " 27514830,\n",
              " 11761371,\n",
              " 4819119,\n",
              " 11651718,\n",
              " 10998455,\n",
              " 589931,\n",
              " 4280111,\n",
              " 1574352,\n",
              " 3718006,\n",
              " 10793949,\n",
              " 1413210,\n",
              " 3414109,\n",
              " 30716658,\n",
              " 821503,\n",
              " 30537218,\n",
              " 26870832,\n",
              " 15975218,\n",
              " 15459689,\n",
              " 18789311,\n",
              " 32984115,\n",
              " 5889349,\n",
              " 11702450,\n",
              " 13492831,\n",
              " 15914826,\n",
              " 16657074,\n",
              " 1328529,\n",
              " 6825401,\n",
              " 3419058,\n",
              " 12368583,\n",
              " 36244888,\n",
              " 6808639,\n",
              " 26375201,\n",
              " 25887150,\n",
              " 9700094,\n",
              " 9028524,\n",
              " 21494638,\n",
              " 9276122,\n",
              " 24136621,\n",
              " 2041663,\n",
              " 34543940,\n",
              " 7766131,\n",
              " 23873340,\n",
              " 6580175,\n",
              " 13210634,\n",
              " 18756944,\n",
              " 15347025,\n",
              " 5368825,\n",
              " 5167219,\n",
              " 11069707,\n",
              " 32328167,\n",
              " 3558513,\n",
              " 703651,\n",
              " 19447892,\n",
              " 40103134,\n",
              " 3573687,\n",
              " 566639,\n",
              " 1824774,\n",
              " 10159069,\n",
              " 362419,\n",
              " 12461343,\n",
              " 11819998,\n",
              " 16159001,\n",
              " 24513969,\n",
              " 22568694,\n",
              " 17671597,\n",
              " 390800,\n",
              " 27252339,\n",
              " 28672220,\n",
              " 1190149,\n",
              " 16755678,\n",
              " 8211082,\n",
              " 17548799,\n",
              " 27599270,\n",
              " 594088,\n",
              " 15868890,\n",
              " 14626129,\n",
              " 30085407,\n",
              " 13582926,\n",
              " 25085139,\n",
              " 2315475,\n",
              " 12950133,\n",
              " 32052177,\n",
              " 28855099,\n",
              " 15043219,\n",
              " 18729403,\n",
              " 3578706,\n",
              " 10434935,\n",
              " 11645300,\n",
              " 23053205,\n",
              " 21831033,\n",
              " 9417033,\n",
              " 22206146,\n",
              " 5071022,\n",
              " 9413200,\n",
              " 13345040,\n",
              " 13142502,\n",
              " 15797063,\n",
              " 2835996,\n",
              " 32335222,\n",
              " 6075806,\n",
              " 14155561,\n",
              " 14376254,\n",
              " 28072992,\n",
              " 13123239,\n",
              " 29264960,\n",
              " 21628429,\n",
              " 6085109,\n",
              " 938421,\n",
              " 14516241,\n",
              " 23774771,\n",
              " 30276122,\n",
              " 8556570,\n",
              " 19986422,\n",
              " 3549259,\n",
              " 7688157,\n",
              " 24286222,\n",
              " 12460426,\n",
              " 7254203,\n",
              " 15638206,\n",
              " 26714020,\n",
              " 18520768,\n",
              " 17560720,\n",
              " 7010768,\n",
              " 23935094,\n",
              " 18235010,\n",
              " 14643146,\n",
              " 19498377,\n",
              " 29377404,\n",
              " 8631238,\n",
              " 25207138,\n",
              " 22545428,\n",
              " 38506889,\n",
              " 15446979,\n",
              " 1202404,\n",
              " 4594376,\n",
              " 13078647,\n",
              " 20334648,\n",
              " 26523418,\n",
              " 2734640,\n",
              " 2294149,\n",
              " 40422779,\n",
              " 27948854,\n",
              " 379175,\n",
              " 20347197,\n",
              " 20505445,\n",
              " 29634922,\n",
              " 38604900,\n",
              " 43196029,\n",
              " 25973899,\n",
              " 16417120,\n",
              " 5158309,\n",
              " 15955067,\n",
              " 7994763,\n",
              " 23797303,\n",
              " 18824334,\n",
              " 1366317,\n",
              " 27151290,\n",
              " 2845841,\n",
              " 28234796,\n",
              " 14442691,\n",
              " 4655760,\n",
              " 1130377,\n",
              " 12406025,\n",
              " 13316881,\n",
              " 20643738,\n",
              " 39111324,\n",
              " 1033841,\n",
              " 12185294,\n",
              " 19187770,\n",
              " 31827587,\n",
              " 13236268,\n",
              " 10137008,\n",
              " 35389458,\n",
              " 20217131,\n",
              " 26702036,\n",
              " 11980798,\n",
              " 39642772,\n",
              " 20129779,\n",
              " 13684856,\n",
              " 23673568,\n",
              " 5459482,\n",
              " 4663123,\n",
              " 10167814,\n",
              " 3371323,\n",
              " 8001295,\n",
              " 6423718,\n",
              " 6374911,\n",
              " 32527317,\n",
              " 43868150,\n",
              " 8590105,\n",
              " 28110676,\n",
              " 9996435,\n",
              " 26580614,\n",
              " 8253259,\n",
              " 14068464,\n",
              " 3632612,\n",
              " 19975811,\n",
              " 13624867,\n",
              " 27898575,\n",
              " 29533897,\n",
              " 25990906,\n",
              " 32221929,\n",
              " 17278742,\n",
              " 22815419,\n",
              " 4114631,\n",
              " 32180085,\n",
              " 14488677,\n",
              " 32073459,\n",
              " 19728443,\n",
              " 35837795,\n",
              " 8138715,\n",
              " 4463258,\n",
              " 2872372,\n",
              " 34261370,\n",
              " 2691905,\n",
              " 5257880,\n",
              " 4545653,\n",
              " 16690496,\n",
              " 29284987,\n",
              " 14208888,\n",
              " 9561806,\n",
              " 6631796,\n",
              " 7997705,\n",
              " 25013472,\n",
              " 11104545,\n",
              " 10357559,\n",
              " 9362860,\n",
              " 10135360,\n",
              " 13807406,\n",
              " 7469219,\n",
              " 6968630,\n",
              " 40857747,\n",
              " 4428132,\n",
              " 21047456,\n",
              " 5284525,\n",
              " 1930960,\n",
              " 14801804,\n",
              " 5884272,\n",
              " 22170732,\n",
              " 23608774,\n",
              " 14325311,\n",
              " 10741731,\n",
              " 5592926,\n",
              " 12445025,\n",
              " 12634065,\n",
              " 20543066,\n",
              " 19568768,\n",
              " 1321352,\n",
              " 6776375,\n",
              " 13576299,\n",
              " 13031757,\n",
              " 5482934,\n",
              " 4602937,\n",
              " 17621532,\n",
              " 18287653,\n",
              " 3760721,\n",
              " 19880312,\n",
              " 4429378,\n",
              " 9973999,\n",
              " 1116387,\n",
              " 8173458,\n",
              " 12100160,\n",
              " 27634557,\n",
              " 5987329,\n",
              " 11696719,\n",
              " 31146364,\n",
              " 21984785,\n",
              " 18603088,\n",
              " 14711551,\n",
              " 26800294,\n",
              " 2482451,\n",
              " 14555992,\n",
              " 10436605,\n",
              " 18718399,\n",
              " 18845222,\n",
              " 25074663,\n",
              " 41251404,\n",
              " 16017041,\n",
              " 14449135,\n",
              " 5866190,\n",
              " 16681061,\n",
              " 9274342,\n",
              " 31161703,\n",
              " 34421232,\n",
              " 8482595,\n",
              " 5671266,\n",
              " 17563388,\n",
              " 1126864,\n",
              " 31989086,\n",
              " 37596282,\n",
              " 919169,\n",
              " 17114110,\n",
              " 26174770,\n",
              " 8839809,\n",
              " 1199223,\n",
              " 34444011,\n",
              " 3799062,\n",
              " 19861098,\n",
              " 26333719,\n",
              " 40738385,\n",
              " 24014137,\n",
              " 19002732,\n",
              " 39260486,\n",
              " 18106784,\n",
              " 25656577,\n",
              " 37331541,\n",
              " 17165948,\n",
              " 8933684,\n",
              " 9382809,\n",
              " 18076984,\n",
              " 8786511,\n",
              " 9837602,\n",
              " 38555688,\n",
              " 7160016,\n",
              " 11316372,\n",
              " 15662479,\n",
              " 16610834,\n",
              " 5117473,\n",
              " 14589827,\n",
              " 9130590,\n",
              " 27742648,\n",
              " 28668586,\n",
              " 11221065,\n",
              " 22473100,\n",
              " 19169366,\n",
              " 15135309,\n",
              " 497575,\n",
              " 5292842,\n",
              " 6862177,\n",
              " 9323798,\n",
              " 29795964,\n",
              " 18304050,\n",
              " 10186108,\n",
              " 5585364,\n",
              " 16289541,\n",
              " 10529132,\n",
              " 12074524,\n",
              " 8963765,\n",
              " 23490510,\n",
              " 11419635,\n",
              " 22653928,\n",
              " 10440724,\n",
              " 1144223,\n",
              " 12287549,\n",
              " 2649885,\n",
              " 8189025,\n",
              " 6210183,\n",
              " 16013639,\n",
              " 4372089,\n",
              " 1381264,\n",
              " 36034061,\n",
              " 12660794,\n",
              " 26575042,\n",
              " 13334394,\n",
              " 18037625,\n",
              " 6979905,\n",
              " 16499201,\n",
              " 1063338,\n",
              " 593879,\n",
              " 6450856,\n",
              " 1719642,\n",
              " 362042,\n",
              " 10033715,\n",
              " 689064,\n",
              " 5152839,\n",
              " 29697078,\n",
              " 18739861,\n",
              " 14462516,\n",
              " 25308334,\n",
              " 9664029,\n",
              " 41420215,\n",
              " 22971269,\n",
              " 23629349,\n",
              " 8435350,\n",
              " 13223575,\n",
              " 3238744,\n",
              " 18016606,\n",
              " 15948925,\n",
              " 12033790,\n",
              " 31987247,\n",
              " 33445134,\n",
              " 31981757,\n",
              " 21893000,\n",
              " 207255,\n",
              " 5832057,\n",
              " 16213237,\n",
              " 34636951,\n",
              " 10684365,\n",
              " 20715720,\n",
              " 25722715,\n",
              " 12373383,\n",
              " 29696488,\n",
              " 32066540,\n",
              " 10444503,\n",
              " 14117078,\n",
              " 12280821,\n",
              " 4418767,\n",
              " 12088142,\n",
              " 6615081,\n",
              " 1153295,\n",
              " 9685446,\n",
              " 31708389,\n",
              " 24940837,\n",
              " 4887847,\n",
              " 1717107,\n",
              " 21160337,\n",
              " 16256710,\n",
              " 16398068,\n",
              " 15785052,\n",
              " 21441157,\n",
              " 7338703,\n",
              " 18813671,\n",
              " 28812905,\n",
              " 23603912,\n",
              " 3575331,\n",
              " 15842070,\n",
              " 19243534,\n",
              " 8609211,\n",
              " 7366270,\n",
              " 17494205,\n",
              " 30813585,\n",
              " 21665298,\n",
              " 17497533,\n",
              " 611433,\n",
              " 10157040,\n",
              " 6426067,\n",
              " 20947758,\n",
              " 6278915,\n",
              " 39620917,\n",
              " 4165161,\n",
              " 14773419,\n",
              " 2992041,\n",
              " 3062408,\n",
              " 19545814,\n",
              " 9207286,\n",
              " 20255406,\n",
              " 16059637,\n",
              " 38526538,\n",
              " 1538248,\n",
              " 689948,\n",
              " 29575156,\n",
              " 19671186,\n",
              " 17943926,\n",
              " 911631,\n",
              " 2719409,\n",
              " 7740511,\n",
              " 13144461,\n",
              " 35063387,\n",
              " 42485406,\n",
              " 19001879,\n",
              " 34134203,\n",
              " 27460667,\n",
              " 602625,\n",
              " 13311029,\n",
              " 699496,\n",
              " 23868975,\n",
              " 37554254,\n",
              " 2077435,\n",
              " 13438192,\n",
              " 36745390,\n",
              " 34690577,\n",
              " 22362861,\n",
              " 30354395,\n",
              " 24326231,\n",
              " 9570023,\n",
              " 18719977,\n",
              " 7960874,\n",
              " 12095899,\n",
              " 727005,\n",
              " 1853650,\n",
              " 16870776,\n",
              " 4956927,\n",
              " 33869119,\n",
              " 7109360,\n",
              " 18886873,\n",
              " 5949353,\n",
              " 44907844,\n",
              " 7959241,\n",
              " 7691782,\n",
              " 23509521,\n",
              " 1879491,\n",
              " 29584159,\n",
              " 7121288,\n",
              " 21402888,\n",
              " 802605,\n",
              " 3303126,\n",
              " 6970309,\n",
              " 26137441,\n",
              " 6223075,\n",
              " 26868533,\n",
              " 7573264,\n",
              " 25785241,\n",
              " 19097352,\n",
              " 12945429,\n",
              " 15699895,\n",
              " 5194129,\n",
              " 18821174,\n",
              " 19151793,\n",
              " 3891684,\n",
              " 2550887,\n",
              " 29574651,\n",
              " 17129181,\n",
              " 2611681,\n",
              " 6040785,\n",
              " 3434007,\n",
              " 19971912,\n",
              " 968657,\n",
              " 28832164,\n",
              " 19004358,\n",
              " 12003790,\n",
              " 5099604,\n",
              " 939074,\n",
              " 1099530,\n",
              " 4081151,\n",
              " 31139433,\n",
              " 11046477,\n",
              " 13141251,\n",
              " 680027,\n",
              " 26973765,\n",
              " 7051842,\n",
              " 25024061,\n",
              " 26732588,\n",
              " 21296127,\n",
              " 4516148,\n",
              " 2783870,\n",
              " 3274847,\n",
              " 4912365,\n",
              " 11082089,\n",
              " 5701876,\n",
              " ...]"
            ]
          },
          "metadata": {
            "tags": []
          },
          "execution_count": 31
        }
      ]
    },
    {
      "cell_type": "markdown",
      "metadata": {
        "id": "vaPSZItdKN_y",
        "colab_type": "text"
      },
      "source": [
        "Now for each `tag` you need to create two data structures, which will serve as online search index:\n",
        "* `tag_post_ids` — a list of post_ids with shape `(counts_by_tag[tag],)`. It will be needed to show the title and link to the thread;\n",
        "* `tag_vectors` — a matrix with shape `(counts_by_tag[tag], embeddings_dim)` where embeddings for each answer are stored.\n",
        "\n",
        "Implement the code which will calculate the mentioned structures and dump it to files. It should take several minutes to compute it."
      ]
    },
    {
      "cell_type": "code",
      "metadata": {
        "id": "qsaV95MOLM-0",
        "colab_type": "code",
        "colab": {
          "base_uri": "https://localhost:8080/",
          "height": 52
        },
        "outputId": "0a9be41a-a3c0-4fa7-9bee-471ed4a33f0e"
      },
      "source": [
        "import nltk\n",
        "import pickle\n",
        "import re\n",
        "import numpy as np\n",
        "\n",
        "nltk.download('stopwords')\n",
        "from nltk.corpus import stopwords\n",
        "\n",
        "# Paths for all resources for the bot.\n",
        "RESOURCE_PATH = {\n",
        "    'INTENT_RECOGNIZER': 'intent_recognizer.pkl',\n",
        "    'TAG_CLASSIFIER': 'tag_classifier.pkl',\n",
        "    'TFIDF_VECTORIZER': 'tfidf_vectorizer.pkl',\n",
        "    'THREAD_EMBEDDINGS_FOLDER': 'thread_embeddings_by_tags',\n",
        "    'WORD_EMBEDDINGS': 'data/word_embeddings.tsv',\n",
        "}\n",
        "\n",
        "\n",
        "def text_prepare(text):\n",
        "    \"\"\"Performs tokenization and simple preprocessing.\"\"\"\n",
        "    replace_by_space_re = re.compile('[/(){}\\[\\]\\|@,;]')\n",
        "    good_symbols_re = re.compile('[^0-9a-z #+_]')\n",
        "    stopwords_set = set(stopwords.words('english'))\n",
        "\n",
        "    text = text.lower()\n",
        "    text = replace_by_space_re.sub(' ', text)\n",
        "    text = good_symbols_re.sub('', text)\n",
        "    text = ' '.join([x for x in text.split() if x and x not in stopwords_set])\n",
        "\n",
        "    return text.strip()\n",
        "\n",
        "\n",
        "def load_embeddings(embeddings_path):\n",
        "    \"\"\"Loads pre-trained word embeddings from tsv file.\n",
        "    Args:\n",
        "      embeddings_path - path to the embeddings file.\n",
        "    Returns:\n",
        "      embeddings - dict mapping words to vectors;\n",
        "      embeddings_dim - dimension of the vectors.\n",
        "    \"\"\"\n",
        "\n",
        "    # Hint: you have already implemented a similar routine in the 3rd assignment.\n",
        "    # Note that here you also need to know the dimension of the loaded embeddings.\n",
        "    # When you load the embeddings, use numpy.float32 type as dtype\n",
        "\n",
        "    ########################\n",
        "    #### YOUR CODE HERE ####\n",
        "    ########################\n",
        "    emb_list=[(v[0], [float(n) for n in v[1:]]) for v in open(embeddings_path,mode='r',encoding='UTF-8')]\n",
        "    embeddings=dict(emb_list)\n",
        "    embeddings_dim=len(emb_list[0][1])\n",
        "    return embeddings,embeddings_dim\n",
        "\n",
        "  \n",
        "\n",
        "\n",
        "def question_to_vec(question, embeddings, dim):\n",
        "    \"\"\"Transforms a string to an embedding by averaging word embeddings.\"\"\"\n",
        "\n",
        "    # Hint: you have already implemented exactly this function in the 3rd assignment.\n",
        "\n",
        "    ########################\n",
        "    #### YOUR CODE HERE ####\n",
        "    ########################\n",
        "    result=np.zeros(dim)\n",
        "    count=0\n",
        "    for word in question.split(' '):\n",
        "      if word not in embeddings:\n",
        "        continue\n",
        "      result+=embeddings[word]\n",
        "      count+=1\n",
        "    if count!=0:\n",
        "      result=result/count\n",
        "    return result \n",
        "    \n",
        "\n",
        "def unpickle_file(filename):\n",
        "    \"\"\"Returns the result of unpickling the file content.\"\"\"\n",
        "    with open(filename, 'rb') as f:\n",
        "        return pickle.load(f)\n"
      ],
      "execution_count": 97,
      "outputs": [
        {
          "output_type": "stream",
          "text": [
            "[nltk_data] Downloading package stopwords to /root/nltk_data...\n",
            "[nltk_data]   Package stopwords is already up-to-date!\n"
          ],
          "name": "stderr"
        }
      ]
    },
    {
      "cell_type": "code",
      "metadata": {
        "id": "9QCyDiraKN_y",
        "colab_type": "code",
        "colab": {}
      },
      "source": [
        "import os\n",
        "os.makedirs(RESOURCE_PATH['THREAD_EMBEDDINGS_FOLDER'], exist_ok=True)\n",
        "\n",
        "for tag, count in counts_by_tag.items():\n",
        "    tag_posts = posts_df[posts_df['tag'] == tag]\n",
        "    \n",
        "    tag_post_ids = tag_posts['post_id'].tolist()######### YOUR CODE HERE #############\n",
        "    \n",
        "    tag_vectors = np.zeros((count, embeddings_dim), dtype=np.float32)\n",
        "    for i, title in enumerate(tag_posts['title']):\n",
        "        tag_vectors[i, :] = question_to_vec(title,starspace_embeddings,dim=300)######### YOUR CODE HERE ############# \n",
        "\n",
        "    # Dump post ids and vectors to a file.\n",
        "    filename = os.path.join(RESOURCE_PATH['THREAD_EMBEDDINGS_FOLDER'], os.path.normpath('%s.pkl' % tag))\n",
        "    pickle.dump((tag_post_ids, tag_vectors), open(filename, 'wb'))"
      ],
      "execution_count": 37,
      "outputs": []
    },
    {
      "cell_type": "markdown",
      "metadata": {
        "id": "8XZPvvHKKN_3",
        "colab_type": "text"
      },
      "source": [
        "## Part III. Putting all together"
      ]
    },
    {
      "cell_type": "markdown",
      "metadata": {
        "id": "GFpfpuL5KN_3",
        "colab_type": "text"
      },
      "source": [
        "Now let's combine everything that we have done and enable the bot to maintain a dialogue. We will teach the bot to sequentially determine the intent and, depending on the intent, select the best answer. As soon as we do this, we will have the opportunity to chat with the bot and check how well it answers questions."
      ]
    },
    {
      "cell_type": "markdown",
      "metadata": {
        "id": "Q2ntWQcEKN_3",
        "colab_type": "text"
      },
      "source": [
        "Implement Dialogue Manager that will generate the best answer. In order to do this, you should open *dialogue_manager.py* and fill in the gaps."
      ]
    },
    {
      "cell_type": "code",
      "metadata": {
        "id": "gxzE5yKRTbsm",
        "colab_type": "code",
        "colab": {
          "base_uri": "https://localhost:8080/",
          "height": 419
        },
        "outputId": "0f8fc2f9-68c8-4977-dcba-babb17c87baf"
      },
      "source": [
        "!pip install chatterbot==0.7.6"
      ],
      "execution_count": 47,
      "outputs": [
        {
          "output_type": "stream",
          "text": [
            "Requirement already satisfied: chatterbot==0.7.6 in /usr/local/lib/python3.6/dist-packages (0.7.6)\n",
            "Requirement already satisfied: python-dateutil<2.7,>=2.6 in /usr/local/lib/python3.6/dist-packages (from chatterbot==0.7.6) (2.6.1)\n",
            "Requirement already satisfied: pymongo<4.0,>=3.3 in /usr/local/lib/python3.6/dist-packages (from chatterbot==0.7.6) (3.11.0)\n",
            "Requirement already satisfied: chatterbot-corpus<1.1,>=1.0 in /usr/local/lib/python3.6/dist-packages (from chatterbot==0.7.6) (1.0.1)\n",
            "Requirement already satisfied: nltk<4.0,>=3.2 in /usr/local/lib/python3.6/dist-packages (from chatterbot==0.7.6) (3.5)\n",
            "Requirement already satisfied: jsondatabase<1.0.0,>=0.1.7 in /usr/local/lib/python3.6/dist-packages (from chatterbot==0.7.6) (0.1.7)\n",
            "Requirement already satisfied: python-twitter<4.0,>=3.0 in /usr/local/lib/python3.6/dist-packages (from chatterbot==0.7.6) (3.5)\n",
            "Requirement already satisfied: sqlalchemy<1.2,>=1.1 in /usr/local/lib/python3.6/dist-packages (from chatterbot==0.7.6) (1.1.18)\n",
            "Requirement already satisfied: six>=1.5 in /usr/local/lib/python3.6/dist-packages (from python-dateutil<2.7,>=2.6->chatterbot==0.7.6) (1.15.0)\n",
            "Requirement already satisfied: ruamel.yaml<=0.15 in /usr/local/lib/python3.6/dist-packages (from chatterbot-corpus<1.1,>=1.0->chatterbot==0.7.6) (0.15.0)\n",
            "Requirement already satisfied: click in /usr/local/lib/python3.6/dist-packages (from nltk<4.0,>=3.2->chatterbot==0.7.6) (7.1.2)\n",
            "Requirement already satisfied: tqdm in /usr/local/lib/python3.6/dist-packages (from nltk<4.0,>=3.2->chatterbot==0.7.6) (4.49.0)\n",
            "Requirement already satisfied: regex in /usr/local/lib/python3.6/dist-packages (from nltk<4.0,>=3.2->chatterbot==0.7.6) (2017.11.9)\n",
            "Requirement already satisfied: joblib in /usr/local/lib/python3.6/dist-packages (from nltk<4.0,>=3.2->chatterbot==0.7.6) (0.16.0)\n",
            "Requirement already satisfied: requests-oauthlib in /usr/local/lib/python3.6/dist-packages (from python-twitter<4.0,>=3.0->chatterbot==0.7.6) (1.3.0)\n",
            "Requirement already satisfied: future in /usr/local/lib/python3.6/dist-packages (from python-twitter<4.0,>=3.0->chatterbot==0.7.6) (0.18.2)\n",
            "Requirement already satisfied: requests in /usr/local/lib/python3.6/dist-packages (from python-twitter<4.0,>=3.0->chatterbot==0.7.6) (2.24.0)\n",
            "Requirement already satisfied: oauthlib>=3.0.0 in /usr/local/lib/python3.6/dist-packages (from requests-oauthlib->python-twitter<4.0,>=3.0->chatterbot==0.7.6) (3.1.0)\n",
            "Requirement already satisfied: idna<3,>=2.5 in /usr/local/lib/python3.6/dist-packages (from requests->python-twitter<4.0,>=3.0->chatterbot==0.7.6) (2.10)\n",
            "Requirement already satisfied: urllib3!=1.25.0,!=1.25.1,<1.26,>=1.21.1 in /usr/local/lib/python3.6/dist-packages (from requests->python-twitter<4.0,>=3.0->chatterbot==0.7.6) (1.25.10)\n",
            "Requirement already satisfied: certifi>=2017.4.17 in /usr/local/lib/python3.6/dist-packages (from requests->python-twitter<4.0,>=3.0->chatterbot==0.7.6) (2020.6.20)\n",
            "Requirement already satisfied: chardet<4,>=3.0.2 in /usr/local/lib/python3.6/dist-packages (from requests->python-twitter<4.0,>=3.0->chatterbot==0.7.6) (3.0.4)\n"
          ],
          "name": "stdout"
        }
      ]
    },
    {
      "cell_type": "code",
      "metadata": {
        "id": "yJMYOz1HLbL2",
        "colab_type": "code",
        "colab": {}
      },
      "source": [
        "import os\n",
        "from sklearn.metrics.pairwise import pairwise_distances_argmin\n",
        "\n",
        "from chatterbot import ChatBot\n",
        "from chatterbot.trainers import ChatterBotCorpusTrainer\n",
        "from utils import *\n",
        "\n",
        "\n",
        "class ThreadRanker(object):\n",
        "    def __init__(self, paths):\n",
        "        self.word_embeddings, self.embeddings_dim = starspace_embeddings,embeddings_dim#load_embeddings(paths['WORD_EMBEDDINGS'])\n",
        "        self.thread_embeddings_folder = paths['THREAD_EMBEDDINGS_FOLDER']\n",
        "\n",
        "    def __load_embeddings_by_tag(self, tag_name):\n",
        "        embeddings_path = os.path.join(self.thread_embeddings_folder, tag_name + \".pkl\")\n",
        "        thread_ids, thread_embeddings = unpickle_file(embeddings_path)\n",
        "        return thread_ids, thread_embeddings\n",
        "\n",
        "    def get_best_thread(self, question, tag_name):\n",
        "        \"\"\" Returns id of the most similar thread for the question.\n",
        "            The search is performed across the threads with a given tag.\n",
        "        \"\"\"\n",
        "        thread_ids, thread_embeddings = self.__load_embeddings_by_tag(tag_name)\n",
        "\n",
        "        # HINT: you have already implemented a similar routine in the 3rd assignment.\n",
        "        \n",
        "        question_vec = [question_to_vec(question,self.word_embeddings,self.embeddings_dim)]#### YOUR CODE HERE ####\n",
        "        best_thread=pairwise_distances_argmin(question_vec,thread_embeddings)\n",
        "        \n",
        "        return thread_ids[best_thread[0]]\n",
        "\n",
        "\n",
        "class DialogueManager(object):\n",
        "    def __init__(self, paths):\n",
        "        print(\"Loading resources...\")\n",
        "\n",
        "        # Intent recognition:\n",
        "        self.intent_recognizer = unpickle_file(paths['INTENT_RECOGNIZER'])\n",
        "        self.tfidf_vectorizer = unpickle_file(paths['TFIDF_VECTORIZER'])\n",
        "\n",
        "        self.ANSWER_TEMPLATE = 'I think its about %s\\nThis thread might help you: https://stackoverflow.com/questions/%s'\n",
        "\n",
        "        # Goal-oriented part:\n",
        "        self.tag_classifier = unpickle_file(paths['TAG_CLASSIFIER'])\n",
        "        self.thread_ranker = ThreadRanker(paths)\n",
        "        self.__init_chitchat_bot()\n",
        "\n",
        "    def __init_chitchat_bot(self):\n",
        "        \"\"\"Initializes self.chitchat_bot with some conversational model.\"\"\"\n",
        "\n",
        "        # Hint: you might want to create and train chatterbot.ChatBot here.\n",
        "        # Create an instance of the ChatBot class.\n",
        "        # Create a trainer (chatterbot.trainers.ChatterBotCorpusTrainer) for the ChatBot.\n",
        "        # Train the ChatBot with \"chatterbot.corpus.english\" param.\n",
        "        \n",
        "        ########################\n",
        "        #### YOUR CODE HERE ####\n",
        "        ########################\n",
        "        chatbot = ChatBot(\"Chitchat\")\n",
        "        chatbot.set_trainer(ChatterBotCorpusTrainer)\n",
        "        chatbot.train(\"chatterbot.corpus.english\")\n",
        "        self.chitchat = chatbot\n",
        "\n",
        "        # remove this when you're done\n",
        "        #raise NotImplementedError(\n",
        "         #   \"Open dialogue_manager.py and fill with your code. In case of Google Colab, download\"\n",
        "         #   \"(https://github.com/hse-aml/natural-language-processing/blob/master/project/dialogue_manager.py), \"\n",
        "          #  \"edit locally and upload using '> arrow on the left edge' -> Files -> UPLOAD\")\n",
        "       \n",
        "    def generate_answer(self, question):\n",
        "        \"\"\"Combines stackoverflow and chitchat parts using intent recognition.\"\"\"\n",
        "\n",
        "        # Recognize intent of the question using `intent_recognizer`.\n",
        "        # Don't forget to prepare question and calculate features for the question.\n",
        "        \n",
        "        prepared_question = text_prepare(question)#### YOUR CODE HERE ####\n",
        "        features = self.tfidf_vectorizer.transform([prepared_question])#### YOUR CODE HERE ####\n",
        "        intent = self.intent_recognizer.predict(features)#### YOUR CODE HERE ####\n",
        "\n",
        "        # Chit-chat part:   \n",
        "        if intent == 'dialogue':\n",
        "            # Pass question to chitchat_bot to generate a response.       \n",
        "            response = self.chitchat.get_response(question)#### YOUR CODE HERE ####\n",
        "            return response\n",
        "        \n",
        "        # Goal-oriented part:\n",
        "        else:        \n",
        "            # Pass features to tag_classifier to get predictions.\n",
        "            tag = self.tag_classifier.predict(features)#### YOUR CODE HERE ####\n",
        "            # Pass prepared_question to thread_ranker to get predictions.\n",
        "            thread_id = self.thread_ranker.get_best_thread(prepared_question,tag[0])#### YOUR CODE HERE ####\n",
        "            \n",
        "            return self.ANSWER_TEMPLATE % (tag, thread_id)"
      ],
      "execution_count": 94,
      "outputs": []
    },
    {
      "cell_type": "code",
      "metadata": {
        "id": "LTtSyGVKKN_5",
        "colab_type": "code",
        "colab": {}
      },
      "source": [
        "from dialogue_manager import DialogueManager"
      ],
      "execution_count": null,
      "outputs": []
    },
    {
      "cell_type": "code",
      "metadata": {
        "id": "ViDyRd1jKN_8",
        "colab_type": "code",
        "colab": {
          "base_uri": "https://localhost:8080/",
          "height": 364
        },
        "outputId": "d4d40d55-7c68-481d-9c7c-e30da9627190"
      },
      "source": [
        "dialogue_manager = DialogueManager(RESOURCE_PATH)######### YOUR CODE HERE #############"
      ],
      "execution_count": 95,
      "outputs": [
        {
          "output_type": "stream",
          "text": [
            "Loading resources...\n",
            "ai.yml Training: [####################] 100%\n",
            "botprofile.yml Training: [####################] 100%\n",
            "computers.yml Training: [####################] 100%\n",
            "conversations.yml Training: [####################] 100%\n",
            "drugs.yml Training: [####################] 100%\n",
            "emotion.yml Training: [####################] 100%\n",
            "food.yml Training: [####################] 100%\n",
            "gossip.yml Training: [####################] 100%\n",
            "greetings.yml Training: [####################] 100%\n",
            "history.yml Training: [####################] 100%\n",
            "humor.yml Training: [####################] 100%\n",
            "literature.yml Training: [####################] 100%\n",
            "money.yml Training: [####################] 100%\n",
            "movies.yml Training: [####################] 100%\n",
            "politics.yml Training: [####################] 100%\n",
            "psychology.yml Training: [####################] 100%\n",
            "science.yml Training: [####################] 100%\n",
            "sports.yml Training: [####################] 100%\n",
            "trivia.yml Training: [####################] 100%\n"
          ],
          "name": "stdout"
        }
      ]
    },
    {
      "cell_type": "markdown",
      "metadata": {
        "id": "cEV-OSuxKN__",
        "colab_type": "text"
      },
      "source": [
        "Now we are ready to test our chat bot! Let's chat with the bot and ask it some questions. Check that the answers are reasonable."
      ]
    },
    {
      "cell_type": "code",
      "metadata": {
        "id": "4j-OeQSAKN__",
        "colab_type": "code",
        "colab": {
          "base_uri": "https://localhost:8080/",
          "height": 625
        },
        "outputId": "b6c4ab4b-8088-43f7-a92c-fbd126ad0998"
      },
      "source": [
        "questions = [\n",
        "    \"Hey\", \n",
        "    \"How are you doing?\", \n",
        "    \"What's your hobby?\", \n",
        "    \"How to write a loop in python?\",\n",
        "    \"How to delete rows in pandas?\",\n",
        "    \"python3 re\",\n",
        "    \"What is the difference between c and c++\",\n",
        "    \"Multithreading in Java\",\n",
        "    \"Catch exceptions C++\",\n",
        "    \"What is AI?\",\n",
        "]\n",
        "\n",
        "for question in questions:\n",
        "    answer = dialogue_manager.generate_answer(question)######### YOUR CODE HERE #############\n",
        "    print('Q: %s\\nA: %s \\n' % (question, answer))"
      ],
      "execution_count": 98,
      "outputs": [
        {
          "output_type": "stream",
          "text": [
            "Q: Hey\n",
            "A: Hi \n",
            "\n",
            "Q: How are you doing?\n",
            "A: I am doing well. \n",
            "\n",
            "Q: What's your hobby?\n",
            "A: Playing Soccer, Painting, Writing are my hobbies.How about you? \n",
            "\n",
            "Q: How to write a loop in python?\n",
            "A: I think its about ['c#']\n",
            "This thread might help you: https://stackoverflow.com/questions/38354194 \n",
            "\n",
            "Q: How to delete rows in pandas?\n",
            "A: I think its about ['java']\n",
            "This thread might help you: https://stackoverflow.com/questions/11045547 \n",
            "\n",
            "Q: python3 re\n",
            "A: Who? Who is but a form following the function of what \n",
            "\n",
            "Q: What is the difference between c and c++\n",
            "A: I think its about ['c#']\n",
            "This thread might help you: https://stackoverflow.com/questions/2938639 \n",
            "\n",
            "Q: Multithreading in Java\n",
            "A: I think its about ['c#']\n",
            "This thread might help you: https://stackoverflow.com/questions/13364237 \n",
            "\n",
            "Q: Catch exceptions C++\n",
            "A: I think its about ['c#']\n",
            "This thread might help you: https://stackoverflow.com/questions/518292 \n",
            "\n",
            "Q: What is AI?\n",
            "A: Artificial Intelligence is the branch of engineering and science devoted to constructing machines that think. \n",
            "\n"
          ],
          "name": "stdout"
        }
      ]
    },
    {
      "cell_type": "code",
      "metadata": {
        "id": "qVaP38DjT9Uy",
        "colab_type": "code",
        "colab": {}
      },
      "source": [
        ""
      ],
      "execution_count": null,
      "outputs": []
    }
  ]
}