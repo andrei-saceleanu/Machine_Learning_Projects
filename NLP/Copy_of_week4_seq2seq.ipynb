{
  "nbformat": 4,
  "nbformat_minor": 0,
  "metadata": {
    "kernelspec": {
      "display_name": "Python 3",
      "language": "python",
      "name": "python3"
    },
    "language_info": {
      "codemirror_mode": {
        "name": "ipython",
        "version": 3
      },
      "file_extension": ".py",
      "mimetype": "text/x-python",
      "name": "python",
      "nbconvert_exporter": "python",
      "pygments_lexer": "ipython3",
      "version": "3.4.3"
    },
    "colab": {
      "name": "Copy of week4-seq2seq.ipynb",
      "provenance": []
    },
    "accelerator": "GPU"
  },
  "cells": [
    {
      "cell_type": "markdown",
      "metadata": {
        "id": "9C_udETHF_o5",
        "colab_type": "text"
      },
      "source": [
        "# Learn to calculate with seq2seq model\n",
        "\n",
        "In this assignment, you will learn how to use neural networks to solve sequence-to-sequence prediction tasks. Seq2Seq models are very popular these days because they achieve great results in Machine Translation, Text Summarization, Conversational Modeling and more.\n",
        "\n",
        "Using sequence-to-sequence modeling you are going to build a calculator for evaluating arithmetic expressions, by taking an equation as an input to the neural network and producing an answer as it's output.\n",
        "\n",
        "The resulting solution for this problem will be based on state-of-the-art approaches for sequence-to-sequence learning and you should be able to easily adapt it to solve other tasks. However, if you want to train your own machine translation system or intellectual chat bot, it would be useful to have access to compute resources like GPU, and be patient, because training of such systems is usually time consuming. \n",
        "\n",
        "### Libraries\n",
        "\n",
        "For this task you will need the following libraries:\n",
        " - [TensorFlow](https://www.tensorflow.org) — an open-source software library for Machine Intelligence.\n",
        " \n",
        "In this assignment, we use Tensorflow 1.15.0. You can install it with pip:\n",
        "\n",
        "    !pip install tensorflow==1.15.0\n",
        "     \n",
        " - [scikit-learn](http://scikit-learn.org/stable/index.html) — a tool for data mining and data analysis.\n",
        " \n",
        "If you have never worked with TensorFlow, you will probably want to read some tutorials during your work on this assignment, e.g. [Neural Machine Translation](https://www.tensorflow.org/tutorials/seq2seq) tutorial deals with very similar task and can explain some concepts to you. "
      ]
    },
    {
      "cell_type": "code",
      "metadata": {
        "id": "rBDipPpyF_o7",
        "colab_type": "code",
        "colab": {
          "base_uri": "https://localhost:8080/",
          "height": 1000
        },
        "outputId": "10916c4b-f819-4b1c-b854-c69b7a770296"
      },
      "source": [
        "!pip install tensorflow==1.15.0\n",
        "try:\n",
        "    import google.colab\n",
        "    IN_COLAB = True\n",
        "except:\n",
        "    IN_COLAB = False\n",
        "\n",
        "if IN_COLAB:\n",
        "    ! wget https://raw.githubusercontent.com/hse-aml/natural-language-processing/master/setup_google_colab.py -O setup_google_colab.py\n",
        "    import setup_google_colab\n",
        "    setup_google_colab.setup_week4()"
      ],
      "execution_count": 2,
      "outputs": [
        {
          "output_type": "stream",
          "text": [
            "Collecting tensorflow==1.15.0\n",
            "\u001b[?25l  Downloading https://files.pythonhosted.org/packages/3f/98/5a99af92fb911d7a88a0005ad55005f35b4c1ba8d75fba02df726cd936e6/tensorflow-1.15.0-cp36-cp36m-manylinux2010_x86_64.whl (412.3MB)\n",
            "\u001b[K     |████████████████████████████████| 412.3MB 36kB/s \n",
            "\u001b[?25hRequirement already satisfied: absl-py>=0.7.0 in /usr/local/lib/python3.6/dist-packages (from tensorflow==1.15.0) (0.8.1)\n",
            "Requirement already satisfied: keras-preprocessing>=1.0.5 in /usr/local/lib/python3.6/dist-packages (from tensorflow==1.15.0) (1.1.2)\n",
            "Collecting tensorboard<1.16.0,>=1.15.0\n",
            "\u001b[?25l  Downloading https://files.pythonhosted.org/packages/1e/e9/d3d747a97f7188f48aa5eda486907f3b345cd409f0a0850468ba867db246/tensorboard-1.15.0-py3-none-any.whl (3.8MB)\n",
            "\u001b[K     |████████████████████████████████| 3.8MB 40.8MB/s \n",
            "\u001b[?25hRequirement already satisfied: termcolor>=1.1.0 in /usr/local/lib/python3.6/dist-packages (from tensorflow==1.15.0) (1.1.0)\n",
            "Collecting gast==0.2.2\n",
            "  Downloading https://files.pythonhosted.org/packages/4e/35/11749bf99b2d4e3cceb4d55ca22590b0d7c2c62b9de38ac4a4a7f4687421/gast-0.2.2.tar.gz\n",
            "Requirement already satisfied: protobuf>=3.6.1 in /usr/local/lib/python3.6/dist-packages (from tensorflow==1.15.0) (3.12.4)\n",
            "Requirement already satisfied: grpcio>=1.8.6 in /usr/local/lib/python3.6/dist-packages (from tensorflow==1.15.0) (1.31.0)\n",
            "Requirement already satisfied: wheel>=0.26 in /usr/local/lib/python3.6/dist-packages (from tensorflow==1.15.0) (0.35.1)\n",
            "Requirement already satisfied: six>=1.10.0 in /usr/local/lib/python3.6/dist-packages (from tensorflow==1.15.0) (1.15.0)\n",
            "Collecting tensorflow-estimator==1.15.1\n",
            "\u001b[?25l  Downloading https://files.pythonhosted.org/packages/de/62/2ee9cd74c9fa2fa450877847ba560b260f5d0fb70ee0595203082dafcc9d/tensorflow_estimator-1.15.1-py2.py3-none-any.whl (503kB)\n",
            "\u001b[K     |████████████████████████████████| 512kB 27.2MB/s \n",
            "\u001b[?25hRequirement already satisfied: wrapt>=1.11.1 in /usr/local/lib/python3.6/dist-packages (from tensorflow==1.15.0) (1.12.1)\n",
            "Requirement already satisfied: astor>=0.6.0 in /usr/local/lib/python3.6/dist-packages (from tensorflow==1.15.0) (0.8.1)\n",
            "Requirement already satisfied: numpy<2.0,>=1.16.0 in /usr/local/lib/python3.6/dist-packages (from tensorflow==1.15.0) (1.18.5)\n",
            "Requirement already satisfied: google-pasta>=0.1.6 in /usr/local/lib/python3.6/dist-packages (from tensorflow==1.15.0) (0.2.0)\n",
            "Collecting keras-applications>=1.0.8\n",
            "\u001b[?25l  Downloading https://files.pythonhosted.org/packages/71/e3/19762fdfc62877ae9102edf6342d71b28fbfd9dea3d2f96a882ce099b03f/Keras_Applications-1.0.8-py3-none-any.whl (50kB)\n",
            "\u001b[K     |████████████████████████████████| 51kB 6.0MB/s \n",
            "\u001b[?25hRequirement already satisfied: opt-einsum>=2.3.2 in /usr/local/lib/python3.6/dist-packages (from tensorflow==1.15.0) (3.3.0)\n",
            "Requirement already satisfied: setuptools>=41.0.0 in /usr/local/lib/python3.6/dist-packages (from tensorboard<1.16.0,>=1.15.0->tensorflow==1.15.0) (49.6.0)\n",
            "Requirement already satisfied: markdown>=2.6.8 in /usr/local/lib/python3.6/dist-packages (from tensorboard<1.16.0,>=1.15.0->tensorflow==1.15.0) (3.2.2)\n",
            "Requirement already satisfied: werkzeug>=0.11.15 in /usr/local/lib/python3.6/dist-packages (from tensorboard<1.16.0,>=1.15.0->tensorflow==1.15.0) (1.0.1)\n",
            "Requirement already satisfied: h5py in /usr/local/lib/python3.6/dist-packages (from keras-applications>=1.0.8->tensorflow==1.15.0) (2.10.0)\n",
            "Requirement already satisfied: importlib-metadata; python_version < \"3.8\" in /usr/local/lib/python3.6/dist-packages (from markdown>=2.6.8->tensorboard<1.16.0,>=1.15.0->tensorflow==1.15.0) (1.7.0)\n",
            "Requirement already satisfied: zipp>=0.5 in /usr/local/lib/python3.6/dist-packages (from importlib-metadata; python_version < \"3.8\"->markdown>=2.6.8->tensorboard<1.16.0,>=1.15.0->tensorflow==1.15.0) (3.1.0)\n",
            "Building wheels for collected packages: gast\n",
            "  Building wheel for gast (setup.py) ... \u001b[?25l\u001b[?25hdone\n",
            "  Created wheel for gast: filename=gast-0.2.2-cp36-none-any.whl size=7542 sha256=d27762d162b5400b96df4664b0c5b14a456626f2fe25ef201e54d6280b540aca\n",
            "  Stored in directory: /root/.cache/pip/wheels/5c/2e/7e/a1d4d4fcebe6c381f378ce7743a3ced3699feb89bcfbdadadd\n",
            "Successfully built gast\n",
            "\u001b[31mERROR: tensorflow-probability 0.11.0 has requirement gast>=0.3.2, but you'll have gast 0.2.2 which is incompatible.\u001b[0m\n",
            "Installing collected packages: tensorboard, gast, tensorflow-estimator, keras-applications, tensorflow\n",
            "  Found existing installation: tensorboard 2.3.0\n",
            "    Uninstalling tensorboard-2.3.0:\n",
            "      Successfully uninstalled tensorboard-2.3.0\n",
            "  Found existing installation: gast 0.3.3\n",
            "    Uninstalling gast-0.3.3:\n",
            "      Successfully uninstalled gast-0.3.3\n",
            "  Found existing installation: tensorflow-estimator 2.3.0\n",
            "    Uninstalling tensorflow-estimator-2.3.0:\n",
            "      Successfully uninstalled tensorflow-estimator-2.3.0\n",
            "  Found existing installation: tensorflow 2.3.0\n",
            "    Uninstalling tensorflow-2.3.0:\n",
            "      Successfully uninstalled tensorflow-2.3.0\n",
            "Successfully installed gast-0.2.2 keras-applications-1.0.8 tensorboard-1.15.0 tensorflow-1.15.0 tensorflow-estimator-1.15.1\n",
            "--2020-09-08 10:20:39--  https://raw.githubusercontent.com/hse-aml/natural-language-processing/master/setup_google_colab.py\n",
            "Resolving raw.githubusercontent.com (raw.githubusercontent.com)... 151.101.0.133, 151.101.64.133, 151.101.128.133, ...\n",
            "Connecting to raw.githubusercontent.com (raw.githubusercontent.com)|151.101.0.133|:443... connected.\n",
            "HTTP request sent, awaiting response... 200 OK\n",
            "Length: 1939 (1.9K) [text/plain]\n",
            "Saving to: ‘setup_google_colab.py’\n",
            "\n",
            "setup_google_colab. 100%[===================>]   1.89K  --.-KB/s    in 0s      \n",
            "\n",
            "2020-09-08 10:20:39 (21.2 MB/s) - ‘setup_google_colab.py’ saved [1939/1939]\n",
            "\n"
          ],
          "name": "stdout"
        }
      ]
    },
    {
      "cell_type": "markdown",
      "metadata": {
        "id": "fv3IK_9_F_pH",
        "colab_type": "text"
      },
      "source": [
        "### Data\n",
        "\n",
        "One benefit of this task is that you don't need to download any data — you will generate it on your own! We will use two operators (addition and subtraction) and work with positive integer numbers in some range. Here are examples of correct inputs and outputs:\n",
        "\n",
        "    Input: '1+2'\n",
        "    Output: '3'\n",
        "    \n",
        "    Input: '0-99'\n",
        "    Output: '-99'\n",
        "\n",
        "*Note, that there are no spaces between operators and operands.*\n",
        "\n",
        "\n",
        "Now you need to implement the function *generate_equations*, which will be used to generate the data."
      ]
    },
    {
      "cell_type": "code",
      "metadata": {
        "id": "l1kdpBQIF_pO",
        "colab_type": "code",
        "colab": {}
      },
      "source": [
        "import random"
      ],
      "execution_count": 3,
      "outputs": []
    },
    {
      "cell_type": "code",
      "metadata": {
        "id": "kxPm5zc2F_pW",
        "colab_type": "code",
        "colab": {}
      },
      "source": [
        "def generate_equations(allowed_operators, dataset_size, min_value, max_value):\n",
        "    \"\"\"Generates pairs of equations and solutions to them.\n",
        "    \n",
        "       Each equation has a form of two integers with an operator in between.\n",
        "       Each solution is an integer with the result of the operaion.\n",
        "    \n",
        "        allowed_operators: list of strings, allowed operators.\n",
        "        dataset_size: an integer, number of equations to be generated.\n",
        "        min_value: an integer, min value of each operand.\n",
        "        max_value: an integer, max value of each operand.\n",
        "\n",
        "        result: a list of tuples of strings (equation, solution).\n",
        "    \"\"\"\n",
        "    sample = []\n",
        "    for _ in range(dataset_size):\n",
        "        ######################################\n",
        "        ######### YOUR CODE HERE #############\n",
        "        ######################################\n",
        "        a=random.randint(min_value,max_value)\n",
        "        b=random.randint(min_value,max_value)\n",
        "        o=random.randint(0,len(allowed_operators)-1)\n",
        "        sol=0\n",
        "        if allowed_operators[o]=='+':\n",
        "          sol=a+b\n",
        "        else:\n",
        "          sol=a-b\n",
        "        sample.append((str(a)+allowed_operators[o]+str(b),str(sol)))\n",
        "    return sample"
      ],
      "execution_count": 4,
      "outputs": []
    },
    {
      "cell_type": "markdown",
      "metadata": {
        "id": "XZr3JuukF_ph",
        "colab_type": "text"
      },
      "source": [
        "To check the correctness of your implementation, use *test_generate_equations* function:"
      ]
    },
    {
      "cell_type": "code",
      "metadata": {
        "id": "UMxjvhq6F_pi",
        "colab_type": "code",
        "colab": {}
      },
      "source": [
        "def test_generate_equations():\n",
        "    allowed_operators = ['+', '-']\n",
        "    dataset_size = 10\n",
        "    for (input_, output_) in generate_equations(allowed_operators, dataset_size, 0, 100):\n",
        "        if not (type(input_) is str and type(output_) is str):\n",
        "            return \"Both parts should be strings.\"\n",
        "        if eval(input_) != int(output_):\n",
        "            return \"The (equation: {!r}, solution: {!r}) pair is incorrect.\".format(input_, output_)\n",
        "    return \"Tests passed.\""
      ],
      "execution_count": 5,
      "outputs": []
    },
    {
      "cell_type": "code",
      "metadata": {
        "id": "7whzYR0QF_pq",
        "colab_type": "code",
        "colab": {
          "base_uri": "https://localhost:8080/",
          "height": 34
        },
        "outputId": "77977c66-b108-4b15-aee7-304fceccd756"
      },
      "source": [
        "print(test_generate_equations())"
      ],
      "execution_count": 6,
      "outputs": [
        {
          "output_type": "stream",
          "text": [
            "Tests passed.\n"
          ],
          "name": "stdout"
        }
      ]
    },
    {
      "cell_type": "markdown",
      "metadata": {
        "id": "57Rwsa1zF_pz",
        "colab_type": "text"
      },
      "source": [
        "Finally, we are ready to generate the train and test data for the neural network:"
      ]
    },
    {
      "cell_type": "code",
      "metadata": {
        "id": "ECpIxwxiF_p1",
        "colab_type": "code",
        "colab": {}
      },
      "source": [
        "from sklearn.model_selection import train_test_split"
      ],
      "execution_count": 7,
      "outputs": []
    },
    {
      "cell_type": "code",
      "metadata": {
        "id": "eHVlhlr1F_p7",
        "colab_type": "code",
        "colab": {}
      },
      "source": [
        "allowed_operators = ['+', '-']\n",
        "dataset_size = 100000\n",
        "data = generate_equations(allowed_operators, dataset_size, min_value=0, max_value=9999)\n",
        "\n",
        "train_set, test_set = train_test_split(data, test_size=0.2, random_state=42)"
      ],
      "execution_count": 8,
      "outputs": []
    },
    {
      "cell_type": "markdown",
      "metadata": {
        "id": "MBhHs96FF_qB",
        "colab_type": "text"
      },
      "source": [
        "## Prepare data for the neural network\n",
        "\n",
        "The next stage of data preparation is creating mappings of the characters to their indices in some vocabulary. Since in our task we already know which symbols will appear in the inputs and outputs, generating the vocabulary is a simple step.\n",
        "\n",
        "#### How to create dictionaries for other task\n",
        "\n",
        "First of all, you need to understand what is the basic unit of the sequence in your task. In our case, we operate on symbols and the basic unit is a symbol. The number of symbols is small, so we don't need to think about filtering/normalization steps. However, in other tasks, the basic unit is often a word, and in this case the mapping would be *word $\\to$ integer*. The number of words might be huge, so it would be reasonable to filter them, for example, by frequency and leave only the frequent ones. Other strategies that your should consider are: data normalization (lowercasing, tokenization, how to consider punctuation marks), separate vocabulary for input and for output (e.g. for machine translation), some specifics of the task."
      ]
    },
    {
      "cell_type": "code",
      "metadata": {
        "id": "5puU3Y_jF_qC",
        "colab_type": "code",
        "colab": {}
      },
      "source": [
        "word2id = {symbol:i for i, symbol in enumerate('#^$+-1234567890')}\n",
        "id2word = {i:symbol for symbol, i in word2id.items()}"
      ],
      "execution_count": 9,
      "outputs": []
    },
    {
      "cell_type": "markdown",
      "metadata": {
        "id": "Z1dgW54XF_qK",
        "colab_type": "text"
      },
      "source": [
        "#### Special symbols"
      ]
    },
    {
      "cell_type": "code",
      "metadata": {
        "id": "KugesojUF_qL",
        "colab_type": "code",
        "colab": {}
      },
      "source": [
        "start_symbol = '^'\n",
        "end_symbol = '$'\n",
        "padding_symbol = '#'"
      ],
      "execution_count": 10,
      "outputs": []
    },
    {
      "cell_type": "markdown",
      "metadata": {
        "id": "_3J6CBkzF_qR",
        "colab_type": "text"
      },
      "source": [
        "You could notice that we have added 3 special symbols: '^', '\\$' and '#':\n",
        "- '^' symbol will be passed to the network to indicate the beginning of the decoding procedure. We will discuss this one later in more details.\n",
        "- '\\$' symbol will be used to indicate the *end of a string*, both for input and output sequences. \n",
        "- '#' symbol will be used as a *padding* character to make lengths of all strings equal within one training batch.\n",
        "\n",
        "People have a bit different habits when it comes to special symbols in encoder-decoder networks, so don't get too much confused if you come across other variants in tutorials you read. "
      ]
    },
    {
      "cell_type": "markdown",
      "metadata": {
        "id": "XgaxAqS-F_qS",
        "colab_type": "text"
      },
      "source": [
        "#### Padding"
      ]
    },
    {
      "cell_type": "markdown",
      "metadata": {
        "id": "6zgncBfQF_qT",
        "colab_type": "text"
      },
      "source": [
        "When vocabularies are ready, we need to be able to convert a sentence to a list of vocabulary word indices and back. At the same time, let's care about padding. We are going to preprocess each sequence from the input (and output ground truth) in such a way that:\n",
        "- it has a predefined length *padded_len*\n",
        "- it is probably cut off or padded with the *padding symbol* '#'\n",
        "- it *always* ends with the *end symbol* '$'\n",
        "\n",
        "We will treat the original characters of the sequence **and the end symbol** as the valid part of the input. We will store *the actual length* of the sequence, which includes the end symbol, but does not include the padding symbols. "
      ]
    },
    {
      "cell_type": "markdown",
      "metadata": {
        "id": "Ko0PgRVXF_qU",
        "colab_type": "text"
      },
      "source": [
        " Now you need to implement the function *sentence_to_ids* that does the described job. "
      ]
    },
    {
      "cell_type": "code",
      "metadata": {
        "id": "3qyyYkW6F_qV",
        "colab_type": "code",
        "colab": {}
      },
      "source": [
        "def sentence_to_ids(sentence, word2id, padded_len):\n",
        "    \"\"\" Converts a sequence of symbols to a padded sequence of their ids.\n",
        "    \n",
        "      sentence: a string, input/output sequence of symbols.\n",
        "      word2id: a dict, a mapping from original symbols to ids.\n",
        "      padded_len: an integer, a desirable length of the sequence.\n",
        "\n",
        "      result: a tuple of (a list of ids, an actual length of sentence).\n",
        "    \"\"\"\n",
        "    sent_ids=[]\n",
        "    for i in range(padded_len):\n",
        "      if i<len(sentence):\n",
        "        sent_ids.append(word2id[sentence[i]])\n",
        "      elif i==len(sentence):\n",
        "        sent_ids.append(2)\n",
        "      else:\n",
        "        sent_ids.append(0)\n",
        "\n",
        "    sent_len = min(len(sentence)+1,padded_len)######### YOUR CODE HERE #############\n",
        "    sent_ids[sent_len-1]=2\n",
        "    return sent_ids, sent_len"
      ],
      "execution_count": 11,
      "outputs": []
    },
    {
      "cell_type": "markdown",
      "metadata": {
        "id": "hSUazCmXF_qc",
        "colab_type": "text"
      },
      "source": [
        "Check that your implementation is correct:"
      ]
    },
    {
      "cell_type": "code",
      "metadata": {
        "id": "TYHwvrjZF_qe",
        "colab_type": "code",
        "colab": {}
      },
      "source": [
        "def test_sentence_to_ids():\n",
        "    sentences = [(\"123+123\", 7), (\"123+123\", 8), (\"123+123\", 10)]\n",
        "    expected_output = [([5, 6, 7, 3, 5, 6, 2], 7), \n",
        "                       ([5, 6, 7, 3, 5, 6, 7, 2], 8), \n",
        "                       ([5, 6, 7, 3, 5, 6, 7, 2, 0, 0], 8)] \n",
        "    for (sentence, padded_len), (sentence_ids, expected_length) in zip(sentences, expected_output):\n",
        "        output, length = sentence_to_ids(sentence, word2id, padded_len)\n",
        "        if output != sentence_ids:\n",
        "            return(\"Convertion of '{}' for padded_len={} to {} is incorrect.\".format(\n",
        "                sentence, padded_len, output))\n",
        "        if length != expected_length:\n",
        "            return(\"Convertion of '{}' for padded_len={} has incorrect actual length {}.\".format(\n",
        "                sentence, padded_len, length))\n",
        "    return(\"Tests passed.\")"
      ],
      "execution_count": 12,
      "outputs": []
    },
    {
      "cell_type": "code",
      "metadata": {
        "id": "V4GHFNUVF_qj",
        "colab_type": "code",
        "colab": {
          "base_uri": "https://localhost:8080/",
          "height": 34
        },
        "outputId": "2876947c-66b5-4c55-b431-9c78eb215492"
      },
      "source": [
        "print(test_sentence_to_ids())"
      ],
      "execution_count": 13,
      "outputs": [
        {
          "output_type": "stream",
          "text": [
            "Tests passed.\n"
          ],
          "name": "stdout"
        }
      ]
    },
    {
      "cell_type": "markdown",
      "metadata": {
        "id": "aztgatheF_qt",
        "colab_type": "text"
      },
      "source": [
        "We also need to be able to get back from indices to symbols:"
      ]
    },
    {
      "cell_type": "code",
      "metadata": {
        "id": "2PFJu1bRF_qv",
        "colab_type": "code",
        "colab": {}
      },
      "source": [
        "def ids_to_sentence(ids, id2word):\n",
        "    \"\"\" Converts a sequence of ids to a sequence of symbols.\n",
        "    \n",
        "          ids: a list, indices for the padded sequence.\n",
        "          id2word:  a dict, a mapping from ids to original symbols.\n",
        "\n",
        "          result: a list of symbols.\n",
        "    \"\"\"\n",
        " \n",
        "    return [id2word[i] for i in ids] "
      ],
      "execution_count": 14,
      "outputs": []
    },
    {
      "cell_type": "markdown",
      "metadata": {
        "id": "XfMXwM1TF_q0",
        "colab_type": "text"
      },
      "source": [
        "#### Generating batches"
      ]
    },
    {
      "cell_type": "markdown",
      "metadata": {
        "id": "yCoH1XjJF_q1",
        "colab_type": "text"
      },
      "source": [
        "The final step of data preparation is a function that transforms a batch of sentences to a list of lists of indices. "
      ]
    },
    {
      "cell_type": "code",
      "metadata": {
        "id": "VrqCwQuSF_q1",
        "colab_type": "code",
        "colab": {}
      },
      "source": [
        "def batch_to_ids(sentences, word2id, max_len):\n",
        "    \"\"\"Prepares batches of indices. \n",
        "    \n",
        "       Sequences are padded to match the longest sequence in the batch,\n",
        "       if it's longer than max_len, then max_len is used instead.\n",
        "\n",
        "        sentences: a list of strings, original sequences.\n",
        "        word2id: a dict, a mapping from original symbols to ids.\n",
        "        max_len: an integer, max len of sequences allowed.\n",
        "\n",
        "        result: a list of lists of ids, a list of actual lengths.\n",
        "    \"\"\"\n",
        "    \n",
        "    max_len_in_batch = min(max(len(s) for s in sentences) + 1, max_len)\n",
        "    batch_ids, batch_ids_len = [], []\n",
        "    for sentence in sentences:\n",
        "        ids, ids_len = sentence_to_ids(sentence, word2id, max_len_in_batch)\n",
        "        batch_ids.append(ids)\n",
        "        batch_ids_len.append(ids_len)\n",
        "    return batch_ids, batch_ids_len"
      ],
      "execution_count": 15,
      "outputs": []
    },
    {
      "cell_type": "markdown",
      "metadata": {
        "id": "B6FG-fVpF_q7",
        "colab_type": "text"
      },
      "source": [
        "The function *generate_batches* will help to generate batches with defined size from given samples."
      ]
    },
    {
      "cell_type": "code",
      "metadata": {
        "id": "C_HU39ywF_q8",
        "colab_type": "code",
        "colab": {}
      },
      "source": [
        "def generate_batches(samples, batch_size=64):\n",
        "    X, Y = [], []\n",
        "    for i, (x, y) in enumerate(samples, 1):\n",
        "        X.append(x)\n",
        "        Y.append(y)\n",
        "        if i % batch_size == 0:\n",
        "            yield X, Y\n",
        "            X, Y = [], []\n",
        "    if X and Y:\n",
        "        yield X, Y"
      ],
      "execution_count": 16,
      "outputs": []
    },
    {
      "cell_type": "markdown",
      "metadata": {
        "id": "SCo73AlTF_rA",
        "colab_type": "text"
      },
      "source": [
        "To illustrate the result of the implemented functions, run the following cell:"
      ]
    },
    {
      "cell_type": "code",
      "metadata": {
        "id": "Hbz-0EezF_rC",
        "colab_type": "code",
        "colab": {
          "base_uri": "https://localhost:8080/",
          "height": 69
        },
        "outputId": "57766fd8-dcfb-49ea-a2bf-40b2e3ab859c"
      },
      "source": [
        "sentences = train_set[0]\n",
        "ids, sent_lens = batch_to_ids(sentences, word2id, max_len=10)\n",
        "print('Input:', sentences)\n",
        "print('Ids: {}\\nSentences lengths: {}'.format(ids, sent_lens))"
      ],
      "execution_count": 17,
      "outputs": [
        {
          "output_type": "stream",
          "text": [
            "Input: ('7964+7353', '15317')\n",
            "Ids: [[11, 13, 10, 8, 3, 11, 7, 9, 7, 2], [5, 9, 7, 5, 11, 2, 0, 0, 0, 0]]\n",
            "Sentences lengths: [10, 6]\n"
          ],
          "name": "stdout"
        }
      ]
    },
    {
      "cell_type": "markdown",
      "metadata": {
        "id": "bMlzahi3F_rI",
        "colab_type": "text"
      },
      "source": [
        "## Encoder-Decoder architecture\n",
        "\n",
        "Encoder-Decoder is a successful architecture for Seq2Seq tasks with different lengths of input and output sequences. The main idea is to use two recurrent neural networks, where the first neural network *encodes* the input sequence into a real-valued vector and then the second neural network *decodes* this vector into the output sequence. While building the neural network, we will specify some particular characteristics of this architecture."
      ]
    },
    {
      "cell_type": "code",
      "metadata": {
        "id": "8rvxWS4UF_rJ",
        "colab_type": "code",
        "colab": {}
      },
      "source": [
        "import tensorflow as tf"
      ],
      "execution_count": 18,
      "outputs": []
    },
    {
      "cell_type": "markdown",
      "metadata": {
        "id": "pqOGK-gIF_rM",
        "colab_type": "text"
      },
      "source": [
        "Let us use TensorFlow building blocks to specify the network architecture."
      ]
    },
    {
      "cell_type": "code",
      "metadata": {
        "id": "3tjv7ibgF_rO",
        "colab_type": "code",
        "colab": {}
      },
      "source": [
        "class Seq2SeqModel(object):\n",
        "    pass"
      ],
      "execution_count": 19,
      "outputs": []
    },
    {
      "cell_type": "markdown",
      "metadata": {
        "id": "9R9uYfCBF_rS",
        "colab_type": "text"
      },
      "source": [
        "First, we need to create [placeholders](https://www.tensorflow.org/api_guides/python/io_ops#Placeholders) to specify what data we are going to feed into the network during the execution time. For this task we will need:\n",
        " - *input_batch* — sequences of sentences (the shape will equal to [batch_size, max_sequence_len_in_batch]);\n",
        " - *input_batch_lengths* — lengths of not padded sequences (the shape equals to [batch_size]);\n",
        " - *ground_truth* — sequences of groundtruth (the shape will equal to [batch_size, max_sequence_len_in_batch]);\n",
        " - *ground_truth_lengths* — lengths of not padded groundtruth sequences (the shape equals to [batch_size]);\n",
        " - *dropout_ph* — dropout keep probability; this placeholder has a predifined value 1;\n",
        " - *learning_rate_ph* — learning rate."
      ]
    },
    {
      "cell_type": "code",
      "metadata": {
        "id": "qfZkgPSZF_rT",
        "colab_type": "code",
        "colab": {}
      },
      "source": [
        "def declare_placeholders(self):\n",
        "    \"\"\"Specifies placeholders for the model.\"\"\"\n",
        "    \n",
        "    # Placeholders for input and its actual lengths.\n",
        "    self.input_batch = tf.placeholder(shape=(None, None), dtype=tf.int32, name='input_batch')\n",
        "    self.input_batch_lengths = tf.placeholder(shape=(None, ), dtype=tf.int32, name='input_batch_lengths')\n",
        "    \n",
        "    # Placeholders for groundtruth and its actual lengths.\n",
        "    self.ground_truth = tf.placeholder(shape=(None, None), dtype=tf.int32, name='ground_truth')######### YOUR CODE HERE #############\n",
        "    self.ground_truth_lengths = tf.placeholder(shape=(None, ), dtype=tf.int32, name='ground_truth_lengths')######### YOUR CODE HERE #############\n",
        "        \n",
        "    self.dropout_ph = tf.placeholder_with_default(tf.cast(1.0, tf.float32), shape=[])\n",
        "    self.learning_rate_ph = tf.placeholder(shape=[],dtype=tf.float32)######### YOUR CODE HERE ############# "
      ],
      "execution_count": 73,
      "outputs": []
    },
    {
      "cell_type": "code",
      "metadata": {
        "id": "9QryzDw1F_rY",
        "colab_type": "code",
        "colab": {}
      },
      "source": [
        "Seq2SeqModel.__declare_placeholders = classmethod(declare_placeholders)"
      ],
      "execution_count": 74,
      "outputs": []
    },
    {
      "cell_type": "markdown",
      "metadata": {
        "id": "kBAdN_QEF_rb",
        "colab_type": "text"
      },
      "source": [
        "Now, let us specify the layers of the neural network. First, we need to prepare an embedding matrix. Since we use the same vocabulary for input and output, we need only one such matrix. For tasks with different vocabularies there would be multiple embedding layers.\n",
        "- Create embeddings matrix with [tf.Variable](https://www.tensorflow.org/api_docs/python/tf/Variable). Specify its name, type (tf.float32), and initialize with random values.\n",
        "- Perform [embeddings lookup](https://www.tensorflow.org/api_docs/python/tf/nn/embedding_lookup) for a given input batch."
      ]
    },
    {
      "cell_type": "code",
      "metadata": {
        "id": "PNN_VOZdF_rc",
        "colab_type": "code",
        "colab": {}
      },
      "source": [
        "def create_embeddings(self, vocab_size, embeddings_size):\n",
        "    \"\"\"Specifies embeddings layer and embeds an input batch.\"\"\"\n",
        "     \n",
        "    random_initializer = tf.random_uniform((vocab_size, embeddings_size), -1.0, 1.0)\n",
        "    self.embeddings = tf.Variable(initial_value=random_initializer,name=\"embeddings\",dtype=tf.float32)######### YOUR CODE HERE ############# \n",
        "    \n",
        "    # Perform embeddings lookup for self.input_batch. \n",
        "    self.input_batch_embedded = tf.nn.embedding_lookup(self.embeddings,self.input_batch)######### YOUR CODE HERE ############# "
      ],
      "execution_count": 75,
      "outputs": []
    },
    {
      "cell_type": "code",
      "metadata": {
        "id": "kxIk7J51F_ri",
        "colab_type": "code",
        "colab": {}
      },
      "source": [
        "Seq2SeqModel.__create_embeddings = classmethod(create_embeddings)"
      ],
      "execution_count": 76,
      "outputs": []
    },
    {
      "cell_type": "markdown",
      "metadata": {
        "id": "mip5S7_dF_rm",
        "colab_type": "text"
      },
      "source": [
        "#### Encoder\n",
        "\n",
        "The first RNN of the current architecture is called an *encoder* and serves for encoding an input sequence to a real-valued vector. Input of this RNN is an embedded input batch. Since sentences in the same batch could have different actual lengths, we also provide input lengths to avoid unnecessary computations. The final encoder state will be passed to the second RNN (decoder), which we will create soon. \n",
        "\n",
        "- TensorFlow provides a number of [RNN cells](https://www.tensorflow.org/api_guides/python/contrib.rnn#Core_RNN_Cells_for_use_with_TensorFlow_s_core_RNN_methods) ready for use. We suggest that you use [GRU cell](https://www.tensorflow.org/api_docs/python/tf/contrib/rnn/GRUCell), but you can also experiment with other types. \n",
        "- Wrap your cells with [DropoutWrapper](https://www.tensorflow.org/api_docs/python/tf/contrib/rnn/DropoutWrapper). Dropout is an important regularization technique for neural networks. Specify input keep probability using the dropout placeholder that we created before.\n",
        "- Combine the defined encoder cells with [Dynamic RNN](https://www.tensorflow.org/api_docs/python/tf/nn/dynamic_rnn). Use the embedded input batches and their lengths here.\n",
        "- Use *dtype=tf.float32* everywhere."
      ]
    },
    {
      "cell_type": "code",
      "metadata": {
        "id": "tc1hV1HUF_rp",
        "colab_type": "code",
        "colab": {}
      },
      "source": [
        "def build_encoder(self, hidden_size):\n",
        "    \"\"\"Specifies encoder architecture and computes its output.\"\"\"\n",
        "    \n",
        "    # Create GRUCell with dropout.\n",
        "    encoder_cell = tf.nn.rnn_cell.DropoutWrapper(tf.nn.rnn_cell.GRUCell(num_units=hidden_size),input_keep_prob=self.dropout_ph)######### YOUR CODE HERE #############\n",
        "    \n",
        "    # Create RNN with the predefined cell.\n",
        "    _, self.final_encoder_state = tf.nn.dynamic_rnn(encoder_cell,inputs=self.input_batch_embedded,sequence_length=self.input_batch_lengths,dtype=tf.float32)######### YOUR CODE HERE #############"
      ],
      "execution_count": 77,
      "outputs": []
    },
    {
      "cell_type": "code",
      "metadata": {
        "id": "luFZYoFVF_rs",
        "colab_type": "code",
        "colab": {}
      },
      "source": [
        "Seq2SeqModel.__build_encoder = classmethod(build_encoder)"
      ],
      "execution_count": 78,
      "outputs": []
    },
    {
      "cell_type": "markdown",
      "metadata": {
        "id": "9FKyk0yeF_rx",
        "colab_type": "text"
      },
      "source": [
        "#### Decoder\n",
        "\n",
        "The second RNN is called a *decoder* and serves for generating the output sequence. In the simple seq2seq arcitecture, the input sequence is provided to the decoder only as the final state of the encoder. Obviously, it is a bottleneck and [Attention techniques](https://www.tensorflow.org/tutorials/seq2seq#background_on_the_attention_mechanism) can help to overcome it. So far, we do not need them to make our calculator work, but this would be a necessary ingredient for more advanced tasks. \n",
        "\n",
        "During training, decoder also uses information about the true output. It is feeded in as input symbol by symbol. However, during the prediction stage (which is called *inference* in this architecture), the decoder can only use its own generated output from the previous step to feed it in at the next step. Because of this difference (*training* vs *inference*), we will create two distinct instances, which will serve for the described scenarios.\n",
        "\n",
        "The picture below illustrates the point. It also shows our work with the special characters, e.g. look how the start symbol `^` is used. The transparent parts are ignored. In decoder, it is masked out in the loss computation. In encoder, the green state is considered as final and passed to the decoder. "
      ]
    },
    {
      "cell_type": "markdown",
      "metadata": {
        "id": "inV-5Xo6F_ry",
        "colab_type": "text"
      },
      "source": [
        "<img src=\"https://github.com/hse-aml/natural-language-processing/blob/master/week4/encoder-decoder-pic.png?raw=1\" style=\"width: 500px;\">"
      ]
    },
    {
      "cell_type": "markdown",
      "metadata": {
        "id": "uiBGf5wxF_ry",
        "colab_type": "text"
      },
      "source": [
        "Now, it's time to implement the decoder:\n",
        " - First, we should create two [helpers](https://www.tensorflow.org/api_guides/python/contrib.seq2seq#Dynamic_Decoding). These classes help to determine the behaviour of the decoder. During the training time, we will use [TrainingHelper](https://www.tensorflow.org/api_docs/python/tf/contrib/seq2seq/TrainingHelper). For the inference we recommend to use [GreedyEmbeddingHelper](https://www.tensorflow.org/api_docs/python/tf/contrib/seq2seq/GreedyEmbeddingHelper).\n",
        " - To share all parameters during training and inference, we use one scope and set the flag 'reuse' to True at inference time. You might be interested to know more about how [variable scopes](https://www.tensorflow.org/programmers_guide/variables) work in TF. \n",
        " - To create the decoder itself, we will use [BasicDecoder](https://www.tensorflow.org/api_docs/python/tf/contrib/seq2seq/BasicDecoder) class. As previously, you should choose some RNN cell, e.g. GRU cell. To turn hidden states into logits, we will need a projection layer. One of the simple solutions is using [OutputProjectionWrapper](https://www.tensorflow.org/api_docs/python/tf/contrib/rnn/OutputProjectionWrapper).\n",
        " - For getting the predictions, it will be convinient to use [dynamic_decode](https://www.tensorflow.org/api_docs/python/tf/contrib/seq2seq/dynamic_decode). This function uses the provided decoder to perform decoding."
      ]
    },
    {
      "cell_type": "code",
      "metadata": {
        "id": "8OfpZMVnF_rz",
        "colab_type": "code",
        "colab": {}
      },
      "source": [
        "def build_decoder(self, hidden_size, vocab_size, max_iter, start_symbol_id, end_symbol_id):\n",
        "    \"\"\"Specifies decoder architecture and computes the output.\n",
        "    \n",
        "        Uses different helpers:\n",
        "          - for train: feeding ground truth\n",
        "          - for inference: feeding generated output\n",
        "\n",
        "        As a result, self.train_outputs and self.infer_outputs are created. \n",
        "        Each of them contains two fields:\n",
        "          rnn_output (predicted logits)\n",
        "          sample_id (predictions).\n",
        "\n",
        "    \"\"\"\n",
        "    \n",
        "    # Use start symbols as the decoder inputs at the first time step.\n",
        "    batch_size = tf.shape(self.input_batch)[0]\n",
        "    start_tokens = tf.fill([batch_size], start_symbol_id)\n",
        "    ground_truth_as_input = tf.concat([tf.expand_dims(start_tokens, 1), self.ground_truth], 1)\n",
        "    \n",
        "    # Use the embedding layer defined before to lookup embedings for ground_truth_as_input. \n",
        "    self.ground_truth_embedded = tf.nn.embedding_lookup(self.embeddings, ground_truth_as_input) ######### YOUR CODE HERE #############\n",
        "     \n",
        "    # Create TrainingHelper for the train stage.\n",
        "    train_helper = tf.contrib.seq2seq.TrainingHelper(self.ground_truth_embedded, \n",
        "                                                     self.ground_truth_lengths)\n",
        "    \n",
        "    # Create GreedyEmbeddingHelper for the inference stage.\n",
        "    # You should provide the embedding layer, start_tokens and index of the end symbol.\n",
        "    infer_helper = tf.contrib.seq2seq.GreedyEmbeddingHelper(self.embeddings, \n",
        "                                                            start_tokens,\n",
        "                                                            end_symbol_id) ######### YOUR CODE HERE #############\n",
        "    \n",
        "  \n",
        "    def decode(helper, scope, reuse=None):\n",
        "        \"\"\"Creates decoder and return the results of the decoding with a given helper.\"\"\"\n",
        "        \n",
        "        with tf.variable_scope(scope, reuse=reuse):\n",
        "            # Create GRUCell with dropout. Do not forget to set the reuse flag properly.\n",
        "            decoder_cell = tf.nn.rnn_cell.DropoutWrapper(tf.nn.rnn_cell.GRUCell(num_units=hidden_size,\n",
        "                                                                                dtype=tf.float32,\n",
        "                                                                                reuse=reuse),\n",
        "                                                         input_keep_prob=self.dropout_ph,) ######### YOUR CODE HERE #############\n",
        "            \n",
        "            # Create a projection wrapper.\n",
        "            decoder_cell = tf.contrib.rnn.OutputProjectionWrapper(decoder_cell, vocab_size, reuse=reuse)\n",
        "            \n",
        "            # Create BasicDecoder, pass the defined cell, a helper, and initial state.\n",
        "            # The initial state should be equal to the final state of the encoder!\n",
        "            decoder = tf.contrib.seq2seq.BasicDecoder(cell=decoder_cell,\n",
        "                                                      helper=helper,\n",
        "                                                      initial_state=self.final_encoder_state)  ######### YOUR CODE HERE #############\n",
        "            \n",
        "            # The first returning argument of dynamic_decode contains two fields:\n",
        "            #   rnn_output (predicted logits)\n",
        "            #   sample_id (predictions)\n",
        "            outputs, _, _ = tf.contrib.seq2seq.dynamic_decode(decoder=decoder, maximum_iterations=max_iter, \n",
        "                                                              output_time_major=False, impute_finished=True)\n",
        "\n",
        "            return outputs\n",
        "        \n",
        "    self.train_outputs = decode(train_helper, 'decode')\n",
        "    self.infer_outputs = decode(infer_helper, 'decode', reuse=True)"
      ],
      "execution_count": 92,
      "outputs": []
    },
    {
      "cell_type": "code",
      "metadata": {
        "id": "P3Q7XDBaF_r3",
        "colab_type": "code",
        "colab": {}
      },
      "source": [
        "Seq2SeqModel.__build_decoder = classmethod(build_decoder)"
      ],
      "execution_count": 93,
      "outputs": []
    },
    {
      "cell_type": "markdown",
      "metadata": {
        "id": "Lv58A6hEF_r6",
        "colab_type": "text"
      },
      "source": [
        "In this task we will use [sequence_loss](https://www.tensorflow.org/api_docs/python/tf/contrib/seq2seq/sequence_loss), which is a weighted cross-entropy loss for a sequence of logits. Take a moment to understand, what is your train logits and targets. Also note, that we do not want to take into account loss terms coming from padding symbols, so we will mask them out using weights.  "
      ]
    },
    {
      "cell_type": "code",
      "metadata": {
        "id": "rTwQJWmUF_r7",
        "colab_type": "code",
        "colab": {}
      },
      "source": [
        "def compute_loss(self):\n",
        "    \"\"\"Computes sequence loss (masked cross-entopy loss with logits).\"\"\"\n",
        "    \n",
        "    weights = tf.cast(tf.sequence_mask(self.ground_truth_lengths), dtype=tf.float32)\n",
        "    \n",
        "    self.loss = tf.contrib.seq2seq.sequence_loss(self.train_outputs.rnn_output, self.ground_truth, weights) ######### YOUR CODE HERE #############"
      ],
      "execution_count": 105,
      "outputs": []
    },
    {
      "cell_type": "code",
      "metadata": {
        "id": "YK8UO-9hF_r_",
        "colab_type": "code",
        "colab": {}
      },
      "source": [
        "Seq2SeqModel.__compute_loss = classmethod(compute_loss)"
      ],
      "execution_count": 106,
      "outputs": []
    },
    {
      "cell_type": "markdown",
      "metadata": {
        "id": "_a8MS15FF_sD",
        "colab_type": "text"
      },
      "source": [
        "The last thing to specify is the optimization of the defined loss. \n",
        "We suggest that you use [optimize_loss](https://www.tensorflow.org/api_docs/python/tf/contrib/layers/optimize_loss) with Adam optimizer and a learning rate from the corresponding placeholder. You might also need to pass global step (e.g. as tf.train.get_global_step()) and clip gradients by 1.0."
      ]
    },
    {
      "cell_type": "code",
      "metadata": {
        "id": "wkVgf_BSF_sE",
        "colab_type": "code",
        "colab": {}
      },
      "source": [
        "def perform_optimization(self):\n",
        "    \"\"\"Specifies train_op that optimizes self.loss.\"\"\"\n",
        "    \n",
        "    self.train_op = tf.contrib.layers.optimize_loss(self.loss,global_step=tf.train.get_global_step(),learning_rate=self.learning_rate_ph,optimizer=tf.train.AdamOptimizer(),clip_gradients=1.0)######### YOUR CODE HERE #############"
      ],
      "execution_count": 107,
      "outputs": []
    },
    {
      "cell_type": "code",
      "metadata": {
        "id": "pwpBz4Q4F_sI",
        "colab_type": "code",
        "colab": {}
      },
      "source": [
        "Seq2SeqModel.__perform_optimization = classmethod(perform_optimization)"
      ],
      "execution_count": 108,
      "outputs": []
    },
    {
      "cell_type": "markdown",
      "metadata": {
        "id": "GJFaONKxF_sK",
        "colab_type": "text"
      },
      "source": [
        "Congratulations! You have specified all the parts of your network. You may have noticed, that we didn't deal with any real data yet, so what you have written is just recipies on how the network should function.\n",
        "Now we will put them to the constructor of our Seq2SeqModel class to use it in the next section. "
      ]
    },
    {
      "cell_type": "code",
      "metadata": {
        "id": "KEI09VGEF_sL",
        "colab_type": "code",
        "colab": {}
      },
      "source": [
        "def init_model(self, vocab_size, embeddings_size, hidden_size, \n",
        "               max_iter, start_symbol_id, end_symbol_id, padding_symbol_id):\n",
        "    \n",
        "    self.__declare_placeholders()\n",
        "    self.__create_embeddings(vocab_size, embeddings_size)\n",
        "    self.__build_encoder(hidden_size)\n",
        "    self.__build_decoder(hidden_size, vocab_size, max_iter, start_symbol_id, end_symbol_id)\n",
        "    \n",
        "    # Compute loss and back-propagate.\n",
        "    self.__compute_loss()\n",
        "    self.__perform_optimization()\n",
        "    \n",
        "    # Get predictions for evaluation.\n",
        "    self.train_predictions = self.train_outputs.sample_id\n",
        "    self.infer_predictions = self.infer_outputs.sample_id"
      ],
      "execution_count": 109,
      "outputs": []
    },
    {
      "cell_type": "code",
      "metadata": {
        "id": "yg2RGyOQF_sN",
        "colab_type": "code",
        "colab": {}
      },
      "source": [
        "Seq2SeqModel.__init__ = classmethod(init_model)"
      ],
      "execution_count": 110,
      "outputs": []
    },
    {
      "cell_type": "markdown",
      "metadata": {
        "id": "Hpi6Tuq9F_sS",
        "colab_type": "text"
      },
      "source": [
        "## Train the network and predict output\n",
        "\n",
        "[Session.run](https://www.tensorflow.org/api_docs/python/tf/Session#run) is a point which initiates computations in the graph that we have defined. To train the network, we need to compute *self.train_op*. To predict output, we just need to compute *self.infer_predictions*. In any case, we need to feed actual data through the placeholders that we defined above. "
      ]
    },
    {
      "cell_type": "code",
      "metadata": {
        "id": "o5PP4K5tF_sS",
        "colab_type": "code",
        "colab": {}
      },
      "source": [
        "def train_on_batch(self, session, X, X_seq_len, Y, Y_seq_len, learning_rate, dropout_keep_probability):\n",
        "    feed_dict = {\n",
        "            self.input_batch: X,\n",
        "            self.input_batch_lengths: X_seq_len,\n",
        "            self.ground_truth: Y,\n",
        "            self.ground_truth_lengths: Y_seq_len,\n",
        "            self.learning_rate_ph: learning_rate,\n",
        "            self.dropout_ph: dropout_keep_probability\n",
        "        }\n",
        "    pred, loss, _ = session.run([\n",
        "            self.train_predictions,\n",
        "            self.loss,\n",
        "            self.train_op], feed_dict=feed_dict)\n",
        "    return pred, loss"
      ],
      "execution_count": 111,
      "outputs": []
    },
    {
      "cell_type": "code",
      "metadata": {
        "id": "tJ4F5PgVF_sV",
        "colab_type": "code",
        "colab": {}
      },
      "source": [
        "Seq2SeqModel.train_on_batch = classmethod(train_on_batch)"
      ],
      "execution_count": 112,
      "outputs": []
    },
    {
      "cell_type": "markdown",
      "metadata": {
        "id": "4Td_9ShgF_sY",
        "colab_type": "text"
      },
      "source": [
        "We implemented two prediction functions: *predict_for_batch* and *predict_for_batch_with_loss*. The first one allows only to predict output for some input sequence, while the second one could compute loss because we provide also ground truth values. Both these functions might be useful since the first one could be used for predicting only, and the second one is helpful for validating results on not-training data during the training."
      ]
    },
    {
      "cell_type": "code",
      "metadata": {
        "id": "aYDQfkbFF_sY",
        "colab_type": "code",
        "colab": {}
      },
      "source": [
        "def predict_for_batch(self, session, X, X_seq_len):\n",
        "    feed_dict = {\n",
        "            self.input_batch: X,\n",
        "            self.input_batch_lengths: X_seq_len}######### YOUR CODE HERE #############\n",
        "    pred = session.run([\n",
        "            self.infer_predictions\n",
        "        ], feed_dict=feed_dict)[0]\n",
        "    return pred\n",
        "\n",
        "def predict_for_batch_with_loss(self, session, X, X_seq_len, Y, Y_seq_len):\n",
        "    feed_dict =  {\n",
        "            self.input_batch: X,\n",
        "            self.input_batch_lengths: X_seq_len,\n",
        "            self.ground_truth: Y,\n",
        "            self.ground_truth_lengths: Y_seq_len}######### YOUR CODE HERE #############\n",
        "    pred, loss = session.run([\n",
        "            self.infer_predictions,\n",
        "            self.loss,\n",
        "        ], feed_dict=feed_dict)\n",
        "    return pred, loss"
      ],
      "execution_count": 113,
      "outputs": []
    },
    {
      "cell_type": "code",
      "metadata": {
        "id": "LsE6jK7tF_sb",
        "colab_type": "code",
        "colab": {}
      },
      "source": [
        "Seq2SeqModel.predict_for_batch = classmethod(predict_for_batch)\n",
        "Seq2SeqModel.predict_for_batch_with_loss = classmethod(predict_for_batch_with_loss)"
      ],
      "execution_count": 114,
      "outputs": []
    },
    {
      "cell_type": "markdown",
      "metadata": {
        "id": "VlZPusANF_sd",
        "colab_type": "text"
      },
      "source": [
        "## Run your experiment\n",
        "\n",
        "Create *Seq2SeqModel* model with the following parameters:\n",
        " - *vocab_size* — number of tokens;\n",
        " - *embeddings_size* — dimension of embeddings, recommended value: 20;\n",
        " - *max_iter* — maximum number of steps in decoder, recommended value: 7;\n",
        " - *hidden_size* — size of hidden layers for RNN, recommended value: 512;\n",
        " - *start_symbol_id* — an index of the start token (`^`).\n",
        " - *end_symbol_id* — an index of the end token (`$`).\n",
        " - *padding_symbol_id* — an index of the padding token (`#`).\n",
        "\n",
        "Set hyperparameters. You might want to start with the following values and see how it works:\n",
        "- *batch_size*: 128;\n",
        "- at least 10 epochs;\n",
        "- value of *learning_rate*: 0.001\n",
        "- *dropout_keep_probability* equals to 0.5 for training (typical values for dropout probability are ranging from 0.1 to 1.0); larger values correspond smaler number of dropout units;\n",
        "- *max_len*: 20."
      ]
    },
    {
      "cell_type": "code",
      "metadata": {
        "id": "lJ60k-_RF_se",
        "colab_type": "code",
        "colab": {}
      },
      "source": [
        "tf.reset_default_graph()\n",
        "\n",
        "model = Seq2SeqModel(len(word2id.keys()),20,512,7,word2id['^'],word2id['$'],word2id['#'])######### YOUR CODE HERE #############\n",
        "\n",
        "batch_size = 128######### YOUR CODE HERE #############\n",
        "n_epochs = 10######### YOUR CODE HERE #############\n",
        "learning_rate = 0.001######### YOUR CODE HERE #############\n",
        "dropout_keep_probability = 0.5######### YOUR CODE HERE #############\n",
        "max_len = 20######### YOUR CODE HERE #############\n",
        "\n",
        "n_step = int(len(train_set) / batch_size)"
      ],
      "execution_count": 136,
      "outputs": []
    },
    {
      "cell_type": "markdown",
      "metadata": {
        "id": "cgJVStTmF_si",
        "colab_type": "text"
      },
      "source": [
        "Finally, we are ready to run the training! A good indicator that everything works fine is decreasing loss during the training. You should account on the loss value equal to approximately 2.7 at the beginning of the training and near 1 after the 10th epoch."
      ]
    },
    {
      "cell_type": "code",
      "metadata": {
        "scrolled": true,
        "id": "tJOLr_tvF_sj",
        "colab_type": "code",
        "colab": {
          "base_uri": "https://localhost:8080/",
          "height": 1000
        },
        "outputId": "e7d722a8-4b6f-4a64-ba86-679d9ccd8e3e"
      },
      "source": [
        "session = tf.Session()\n",
        "session.run(tf.global_variables_initializer())\n",
        "            \n",
        "invalid_number_prediction_counts = []\n",
        "all_model_predictions = []\n",
        "all_ground_truth = []\n",
        "\n",
        "print('Start training... \\n')\n",
        "for epoch in range(n_epochs):  \n",
        "    random.shuffle(train_set)\n",
        "    random.shuffle(test_set)\n",
        "    \n",
        "    print('Train: epoch', epoch + 1)\n",
        "    for n_iter, (X_batch, Y_batch) in enumerate(generate_batches(train_set, batch_size=batch_size)):\n",
        "        ######################################\n",
        "        ######### YOUR CODE HERE #############\n",
        "        ######################################\n",
        "        # prepare the data (X_batch and Y_batch) for training\n",
        "        # using function batch_to_ids\n",
        "        predictions, loss = model.train_on_batch(session=session,X=batch_to_ids(X_batch,word2id,max_len)[0],X_seq_len=batch_to_ids(X_batch,word2id,max_len)[1],Y=batch_to_ids(Y_batch,word2id,max_len)[0],Y_seq_len=batch_to_ids(Y_batch,word2id,max_len)[1],learning_rate=learning_rate,dropout_keep_probability=dropout_keep_probability)######### YOUR CODE HERE #############\n",
        "        \n",
        "        if n_iter % 200 == 0:\n",
        "            print(\"Epoch: [%d/%d], step: [%d/%d], loss: %f\" % (epoch + 1, n_epochs, n_iter + 1, n_step, loss))\n",
        "                \n",
        "    X_sent, Y_sent = next(generate_batches(test_set, batch_size=batch_size))\n",
        "    ######################################\n",
        "    ######### YOUR CODE HERE #############\n",
        "    ######################################\n",
        "    # prepare test data (X_sent and Y_sent) for predicting \n",
        "    # quality and computing value of the loss function\n",
        "    # using function batch_to_ids\n",
        "    \n",
        "    predictions, loss = model.predict_for_batch_with_loss(session,batch_to_ids(X_sent,word2id,max_len)[0],batch_to_ids(X_sent,word2id,max_len)[1],batch_to_ids(Y_sent,word2id,max_len)[0],batch_to_ids(Y_sent,word2id,max_len)[1])######### YOUR CODE HERE #############\n",
        "    print('Test: epoch', epoch + 1, 'loss:', loss,)\n",
        "    for x, y, p  in list(zip(batch_to_ids(X_sent,word2id,max_len)[0], batch_to_ids(Y_sent,word2id,max_len)[0], predictions))[:3]:\n",
        "        print('X:',''.join(ids_to_sentence(x, id2word)))\n",
        "        print('Y:',''.join(ids_to_sentence(y, id2word)))\n",
        "        print('O:',''.join(ids_to_sentence(p, id2word)))\n",
        "        print('')\n",
        "\n",
        "    model_predictions = []\n",
        "    ground_truth = []\n",
        "    invalid_number_prediction_count = 0\n",
        "    # For the whole test set calculate ground-truth values (as integer numbers)\n",
        "    # and prediction values (also as integers) to calculate metrics.\n",
        "    # If generated by model number is not correct (e.g. '1-1'), \n",
        "    # increase invalid_number_prediction_count and don't append this and corresponding\n",
        "    # ground-truth value to the arrays.\n",
        "    for X_batch, Y_batch in generate_batches(test_set, batch_size=batch_size):\n",
        "        ######################################\n",
        "        ######### YOUR CODE HERE #############\n",
        "        ######################################\n",
        "        pred=model.predict_for_batch(session,batch_to_ids(X_batch,word2id,max_len)[0],batch_to_ids(X_batch,word2id,max_len)[1])\n",
        "        gr=batch_to_ids(Y_batch,word2id,max_len)[0]\n",
        "\n",
        "        if((pred!=gr).all()):\n",
        "          invalid_number_prediction_count+=1\n",
        "        else:\n",
        "          model_predictions.append(pred);\n",
        "          ground_truth.append(gr)\n",
        "\n",
        "\n",
        "    \n",
        "    all_model_predictions.append(model_predictions)\n",
        "    all_ground_truth.append(ground_truth)\n",
        "    invalid_number_prediction_counts.append(invalid_number_prediction_count)\n",
        "            \n",
        "print('\\n...training finished.')"
      ],
      "execution_count": 137,
      "outputs": [
        {
          "output_type": "stream",
          "text": [
            "Start training... \n",
            "\n",
            "Train: epoch 1\n",
            "Epoch: [1/10], step: [1/625], loss: 2.712543\n",
            "Epoch: [1/10], step: [201/625], loss: 1.838017\n",
            "Epoch: [1/10], step: [401/625], loss: 1.751316\n",
            "Epoch: [1/10], step: [601/625], loss: 1.636434\n",
            "Test: epoch 1 loss: 1.6089064\n",
            "X: 8596-4221$\n",
            "Y: 4375$#\n",
            "O: 5500$#\n",
            "\n",
            "X: 116-9749$#\n",
            "Y: -9633$\n",
            "O: -8999$\n",
            "\n",
            "X: 9976-3846$\n",
            "Y: 6130$#\n",
            "O: 5500$#\n",
            "\n",
            "Train: epoch 2\n",
            "Epoch: [2/10], step: [1/625], loss: 1.624755\n",
            "Epoch: [2/10], step: [201/625], loss: 1.562517\n",
            "Epoch: [2/10], step: [401/625], loss: 1.528391\n",
            "Epoch: [2/10], step: [601/625], loss: 1.460042\n",
            "Test: epoch 2 loss: 1.4157891\n",
            "X: 14+7393$##\n",
            "Y: 7407$#\n",
            "O: 7999$#\n",
            "\n",
            "X: 8205+5592$\n",
            "Y: 13797$\n",
            "O: 13997$\n",
            "\n",
            "X: 4766-9711$\n",
            "Y: -4945$\n",
            "O: -4599$\n",
            "\n",
            "Train: epoch 3\n",
            "Epoch: [3/10], step: [1/625], loss: 1.460381\n",
            "Epoch: [3/10], step: [201/625], loss: 1.423056\n",
            "Epoch: [3/10], step: [401/625], loss: 1.395189\n",
            "Epoch: [3/10], step: [601/625], loss: 1.394415\n",
            "Test: epoch 3 loss: 1.3018715\n",
            "X: 9+3430$###\n",
            "Y: 3439$#\n",
            "O: 3207$#\n",
            "\n",
            "X: 6380+3191$\n",
            "Y: 9571$#\n",
            "O: 9697$#\n",
            "\n",
            "X: 2800-1718$\n",
            "Y: 1082$#\n",
            "O: 1355$#\n",
            "\n",
            "Train: epoch 4\n",
            "Epoch: [4/10], step: [1/625], loss: 1.355446\n",
            "Epoch: [4/10], step: [201/625], loss: 1.369871\n",
            "Epoch: [4/10], step: [401/625], loss: 1.334065\n",
            "Epoch: [4/10], step: [601/625], loss: 1.346774\n",
            "Test: epoch 4 loss: 1.3019063\n",
            "X: 5319-3596$\n",
            "Y: 1723$#\n",
            "O: 1721$#\n",
            "\n",
            "X: 6836+2456$\n",
            "Y: 9292$#\n",
            "O: 9011$#\n",
            "\n",
            "X: 8156+4726$\n",
            "Y: 12882$\n",
            "O: 12631$\n",
            "\n",
            "Train: epoch 5\n",
            "Epoch: [5/10], step: [1/625], loss: 1.330945\n",
            "Epoch: [5/10], step: [201/625], loss: 1.327831\n",
            "Epoch: [5/10], step: [401/625], loss: 1.306895\n",
            "Epoch: [5/10], step: [601/625], loss: 1.299049\n",
            "Test: epoch 5 loss: 1.2445731\n",
            "X: 7940-3518$\n",
            "Y: 4422$#\n",
            "O: 4044$#\n",
            "\n",
            "X: 2021+6677$\n",
            "Y: 8698$#\n",
            "O: 8804$#\n",
            "\n",
            "X: 8519-5909$\n",
            "Y: 2610$#\n",
            "O: 2494$#\n",
            "\n",
            "Train: epoch 6\n",
            "Epoch: [6/10], step: [1/625], loss: 1.337516\n",
            "Epoch: [6/10], step: [201/625], loss: 1.272000\n",
            "Epoch: [6/10], step: [401/625], loss: 1.257074\n",
            "Epoch: [6/10], step: [601/625], loss: 1.179014\n",
            "Test: epoch 6 loss: 1.1516186\n",
            "X: 4109-7779$\n",
            "Y: -3670$\n",
            "O: -3618$\n",
            "\n",
            "X: 191-8007$#\n",
            "Y: -7816$\n",
            "O: -7990$\n",
            "\n",
            "X: 8556+1750$\n",
            "Y: 10306$\n",
            "O: 10290$\n",
            "\n",
            "Train: epoch 7\n",
            "Epoch: [7/10], step: [1/625], loss: 1.180630\n",
            "Epoch: [7/10], step: [201/625], loss: 1.147126\n",
            "Epoch: [7/10], step: [401/625], loss: 1.124202\n",
            "Epoch: [7/10], step: [601/625], loss: 1.121436\n",
            "Test: epoch 7 loss: 1.0269152\n",
            "X: 90+7866$##\n",
            "Y: 7956$#\n",
            "O: 7866$#\n",
            "\n",
            "X: 1946-5115$\n",
            "Y: -3169$\n",
            "O: -3133$\n",
            "\n",
            "X: 2597-9710$\n",
            "Y: -7113$\n",
            "O: -7153$\n",
            "\n",
            "Train: epoch 8\n",
            "Epoch: [8/10], step: [1/625], loss: 1.040418\n",
            "Epoch: [8/10], step: [201/625], loss: 1.056099\n",
            "Epoch: [8/10], step: [401/625], loss: 0.992586\n",
            "Epoch: [8/10], step: [601/625], loss: 1.040130\n",
            "Test: epoch 8 loss: 0.9414132\n",
            "X: 9680-6080$\n",
            "Y: 3600$#\n",
            "O: 3622$#\n",
            "\n",
            "X: 7641-9622$\n",
            "Y: -1981$\n",
            "O: -1993$\n",
            "\n",
            "X: 6637+5369$\n",
            "Y: 12006$\n",
            "O: 11988$\n",
            "\n",
            "Train: epoch 9\n",
            "Epoch: [9/10], step: [1/625], loss: 0.997145\n",
            "Epoch: [9/10], step: [201/625], loss: 0.974917\n",
            "Epoch: [9/10], step: [401/625], loss: 0.953871\n",
            "Epoch: [9/10], step: [601/625], loss: 0.971513\n",
            "Test: epoch 9 loss: 0.9050924\n",
            "X: 3936+7614$\n",
            "Y: 11550$\n",
            "O: 11542$\n",
            "\n",
            "X: 9976-5510$\n",
            "Y: 4466$#\n",
            "O: 4444$#\n",
            "\n",
            "X: 220-2929$#\n",
            "Y: -2709$\n",
            "O: -2672$\n",
            "\n",
            "Train: epoch 10\n",
            "Epoch: [10/10], step: [1/625], loss: 0.949397\n",
            "Epoch: [10/10], step: [201/625], loss: 0.966111\n",
            "Epoch: [10/10], step: [401/625], loss: 0.953418\n",
            "Epoch: [10/10], step: [601/625], loss: 0.931579\n",
            "Test: epoch 10 loss: 0.8968761\n",
            "X: 6094-519$#\n",
            "Y: 5575$#\n",
            "O: 5633$#\n",
            "\n",
            "X: 6907-2897$\n",
            "Y: 4010$#\n",
            "O: 4011$#\n",
            "\n",
            "X: 7316+9441$\n",
            "Y: 16757$\n",
            "O: 16777$\n",
            "\n",
            "\n",
            "...training finished.\n"
          ],
          "name": "stdout"
        }
      ]
    },
    {
      "cell_type": "markdown",
      "metadata": {
        "id": "ex70j0hkF_sm",
        "colab_type": "text"
      },
      "source": [
        "## Evaluate results\n",
        "\n",
        "Because our task is simple and the output is straight-forward, we will use [MAE](https://en.wikipedia.org/wiki/Mean_absolute_error) metric to evaluate the trained model during the epochs. Compute the value of the metric for the output from each epoch."
      ]
    },
    {
      "cell_type": "code",
      "metadata": {
        "id": "gIygMi83F_sn",
        "colab_type": "code",
        "colab": {}
      },
      "source": [
        "from sklearn.metrics import mean_absolute_error\n"
      ],
      "execution_count": 146,
      "outputs": []
    },
    {
      "cell_type": "code",
      "metadata": {
        "id": "FWHV3GLZF_sq",
        "colab_type": "code",
        "colab": {}
      },
      "source": [
        "for i, (gts, predictions, invalid_number_prediction_count) in enumerate(zip(all_ground_truth,\n",
        "                                                                            all_model_predictions,\n",
        "                                                                            invalid_number_prediction_counts), 1):\n",
        "    mae = mean_absolute_error(gts,predictions)######## YOUR CODE HERE #############\n",
        "    print(\"Epoch: %i, MAE: %f, Invalid numbers: %i\" % (i, mae, invalid_number_prediction_count))"
      ],
      "execution_count": null,
      "outputs": []
    },
    {
      "cell_type": "code",
      "metadata": {
        "id": "lA0IlgLckzl5",
        "colab_type": "code",
        "colab": {}
      },
      "source": [
        ""
      ],
      "execution_count": null,
      "outputs": []
    }
  ]
}